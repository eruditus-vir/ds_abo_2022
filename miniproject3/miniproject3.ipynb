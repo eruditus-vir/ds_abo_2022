{
 "cells": [
  {
   "cell_type": "code",
   "execution_count": 1,
   "outputs": [
    {
     "name": "stdout",
     "output_type": "stream",
     "text": [
      "Collecting tweepy==4.10.1\r\n",
      "  Downloading tweepy-4.10.1-py3-none-any.whl (94 kB)\r\n",
      "\u001B[2K     \u001B[90m━━━━━━━━━━━━━━━━━━━━━━━━━━━━━━━━━━━━━━━\u001B[0m \u001B[32m94.6/94.6 kB\u001B[0m \u001B[31m846.6 kB/s\u001B[0m eta \u001B[36m0:00:00\u001B[0m \u001B[36m0:00:01\u001B[0m\r\n",
      "\u001B[?25hCollecting requests-oauthlib<2,>=1.2.0\r\n",
      "  Downloading requests_oauthlib-1.3.1-py2.py3-none-any.whl (23 kB)\r\n",
      "Collecting oauthlib<4,>=3.2.0\r\n",
      "  Downloading oauthlib-3.2.2-py3-none-any.whl (151 kB)\r\n",
      "\u001B[2K     \u001B[90m━━━━━━━━━━━━━━━━━━━━━━━━━━━━━━━━━━━━━\u001B[0m \u001B[32m151.7/151.7 kB\u001B[0m \u001B[31m739.4 kB/s\u001B[0m eta \u001B[36m0:00:00\u001B[0ma \u001B[36m0:00:01\u001B[0m\r\n",
      "\u001B[?25hCollecting requests<3,>=2.27.0\r\n",
      "  Using cached requests-2.28.1-py3-none-any.whl (62 kB)\r\n",
      "Collecting idna<4,>=2.5\r\n",
      "  Using cached idna-3.4-py3-none-any.whl (61 kB)\r\n",
      "Collecting certifi>=2017.4.17\r\n",
      "  Using cached certifi-2022.9.24-py3-none-any.whl (161 kB)\r\n",
      "Requirement already satisfied: charset-normalizer<3,>=2 in /Users/wit/Documents/ds/.env/lib/python3.8/site-packages (from requests<3,>=2.27.0->tweepy==4.10.1) (2.1.1)\r\n",
      "Collecting urllib3<1.27,>=1.21.1\r\n",
      "  Using cached urllib3-1.26.12-py2.py3-none-any.whl (140 kB)\r\n",
      "Installing collected packages: urllib3, oauthlib, idna, certifi, requests, requests-oauthlib, tweepy\r\n",
      "\u001B[31mERROR: pip's dependency resolver does not currently take into account all the packages that are installed. This behaviour is the source of the following dependency conflicts.\r\n",
      "urlextract 1.6.0 requires filelock, which is not installed.\r\n",
      "tldextract 3.3.1 requires filelock>=3.0.8, which is not installed.\u001B[0m\u001B[31m\r\n",
      "\u001B[0mSuccessfully installed certifi-2022.9.24 idna-3.4 oauthlib-3.2.2 requests-2.28.1 requests-oauthlib-1.3.1 tweepy-4.10.1 urllib3-1.26.12\r\n"
     ]
    }
   ],
   "source": [
    "! pip install tweepy==4.10.1"
   ],
   "metadata": {
    "collapsed": false,
    "pycharm": {
     "name": "#%%\n"
    }
   }
  },
  {
   "cell_type": "code",
   "execution_count": 3,
   "outputs": [],
   "source": [
    "import tweepy\n",
    "import json"
   ],
   "metadata": {
    "collapsed": false,
    "pycharm": {
     "name": "#%%\n"
    }
   }
  },
  {
   "cell_type": "code",
   "execution_count": 12,
   "outputs": [],
   "source": [
    "with open(\"secret.json\", \"r\") as f:\n",
    "    json_d = json.load(f)\n",
    "    consumer_api_key = json_d['twitter_api_key']\n",
    "    consumer_secret = json_d['twitter_key_secret']\n",
    "    bearer = json_d['twitter_bearer_key']\n",
    "    access_token = json_d['twitter_access_token']\n",
    "    access_token_secret = json_d['twitter_access_token_secret']"
   ],
   "metadata": {
    "collapsed": false,
    "pycharm": {
     "name": "#%%\n"
    }
   }
  },
  {
   "cell_type": "code",
   "execution_count": 21,
   "outputs": [],
   "source": [
    "\n",
    "\n",
    "# client = tweepy.Client(\n",
    "#     consumer_key=consumer_api_key,\n",
    "#     consumer_secret=consumer_secret,\n",
    "#     access_token=access_token,\n",
    "#     access_token_secret=access_token_secret\n",
    "# )\n",
    "#\n",
    "client = tweepy.Client(bearer)\n",
    "\n",
    "#\n",
    "# api = tweepy.API(auth)\n",
    "#\n",
    "# public_tweets = api.home_timeline()\n",
    "# for tweet in public_tweets:\n",
    "#     print(tweet.text)\n"
   ],
   "metadata": {
    "collapsed": false,
    "pycharm": {
     "name": "#%%\n"
    }
   }
  },
  {
   "cell_type": "code",
   "execution_count": 22,
   "outputs": [
    {
     "data": {
      "text/plain": "Response(data=[<Tweet id=1582446001930915847 text='RT @girlsinrap: .@NICKIMINAJ praises @LilKim, @FoxyBrown, @TheRealEve, @MCLyte, @TheSaltNPepa and the late Lisa Left Eye for having a uniqu…'>, <Tweet id=1582446001922527232 text='@IllFonic The game is amazing but can we get a volume increase? Seriously just up everything except for the music 100%. Other than that greatness is close to being achieved here'>, <Tweet id=1582446001700622336 text=\"RT @dernernestt: // @HomaGames\\n\\nHoma is the world's leading platform for creating and launching mobile games. Founded in 2018 by @nathandan…\">, <Tweet id=1582446000920150016 text='RT @Nibellion: Bloomberg: PlatinumGames attempted to rehire Hellena Taylor as Bayonetta, paying between $3K-$4K per session (5 sessions) &amp;…'>, <Tweet id=1582446000874016768 text='RT @POTUS: Student loan debt relief is a game changer for millions.\\n\\nGet moving: https://t.co/DYpFtPY70p. https://t.co/JfqykMBJB3'>, <Tweet id=1582446000609763330 text='RT @korysverse: women have always ran the horror game like what the hell is a final boy https://t.co/F2d0N25KCf'>, <Tweet id=1582446000584921088 text='@kylewatson1984 @Cooter1611 It’s hilarious cuz y’all the only ones still cryin bout a game that happen 2 days ago😂'>, <Tweet id=1582446000551079936 text='RT @Steve_Dangle: Attempted decapitation: As bad as skipping the All-Star Game.'>, <Tweet id=1582446000366813184 text='Lee Academy vs Calais ~ High School Soccer Live\\nWatch Live Game : https://t.co/V51wHsnvEs\\nThe Lee Academy (Lee, ME) varsity soccer team has a home non-conference game vs. Calais (ME) today @ 4p.'>, <Tweet id=1582446000161320960 text='RT @ArenaKof: The long-awaited Pre-registration for\\nThe King of Fighters ARENA is now OPEN!🎉\\n\\nPre-register for The King of Fighters ARENA\\nt…'>], includes={}, errors=[], meta={'newest_id': '1582446001930915847', 'oldest_id': '1582446000161320960', 'result_count': 10, 'next_token': 'b26v89c19zqg8o3fpzekaaa5evz5hrkxvyi0ynj93opz1'})"
     },
     "execution_count": 22,
     "metadata": {},
     "output_type": "execute_result"
    }
   ],
   "source": [
    "client.search_recent_tweets(\"game\", max_results=10)"
   ],
   "metadata": {
    "collapsed": false,
    "pycharm": {
     "name": "#%%\n"
    }
   }
  },
  {
   "cell_type": "code",
   "execution_count": null,
   "outputs": [],
   "source": [],
   "metadata": {
    "collapsed": false,
    "pycharm": {
     "name": "#%%\n"
    }
   }
  }
 ],
 "metadata": {
  "kernelspec": {
   "display_name": "Python 3",
   "language": "python",
   "name": "python3"
  },
  "language_info": {
   "codemirror_mode": {
    "name": "ipython",
    "version": 2
   },
   "file_extension": ".py",
   "mimetype": "text/x-python",
   "name": "python",
   "nbconvert_exporter": "python",
   "pygments_lexer": "ipython2",
   "version": "2.7.6"
  }
 },
 "nbformat": 4,
 "nbformat_minor": 0
}