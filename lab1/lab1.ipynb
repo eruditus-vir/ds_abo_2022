{
 "nbformat": 4,
 "nbformat_minor": 0,
 "metadata": {
  "colab": {
   "provenance": [],
   "collapsed_sections": []
  },
  "kernelspec": {
   "name": "python3",
   "display_name": "Python 3"
  },
  "language_info": {
   "name": "python"
  },
  "widgets": {
   "application/vnd.jupyter.widget-state+json": {
    "53a2606837e64def9c2ffdfb8a186fcd": {
     "model_module": "@jupyter-widgets/controls",
     "model_name": "VBoxModel",
     "model_module_version": "1.5.0",
     "state": {
      "_dom_classes": [
       "widget-interact"
      ],
      "_model_module": "@jupyter-widgets/controls",
      "_model_module_version": "1.5.0",
      "_model_name": "VBoxModel",
      "_view_count": null,
      "_view_module": "@jupyter-widgets/controls",
      "_view_module_version": "1.5.0",
      "_view_name": "VBoxView",
      "box_style": "",
      "children": [
       "IPY_MODEL_5c7aad8469424d8da7d6a426b3cb52af",
       "IPY_MODEL_e88add0f97794f14ab93deb0a97faa0c",
       "IPY_MODEL_90fd38e4b9464f7ba8cb0471d46e9976"
      ],
      "layout": "IPY_MODEL_f19c4abdc74e4d53afd4c7c90c8ead6c"
     }
    },
    "5c7aad8469424d8da7d6a426b3cb52af": {
     "model_module": "@jupyter-widgets/controls",
     "model_name": "IntRangeSliderModel",
     "model_module_version": "1.5.0",
     "state": {
      "_dom_classes": [],
      "_model_module": "@jupyter-widgets/controls",
      "_model_module_version": "1.5.0",
      "_model_name": "IntRangeSliderModel",
      "_view_count": null,
      "_view_module": "@jupyter-widgets/controls",
      "_view_module_version": "1.5.0",
      "_view_name": "IntRangeSliderView",
      "continuous_update": true,
      "description": "cal_range",
      "description_tooltip": null,
      "disabled": false,
      "layout": "IPY_MODEL_b3e289c15a4144dda8be0ee08204de9c",
      "max": 462,
      "min": 0,
      "orientation": "horizontal",
      "readout": true,
      "readout_format": "d",
      "step": 1,
      "style": "IPY_MODEL_c377e31a7a104fd68916f31243666b38",
      "value": [
       0,
       462
      ]
     }
    },
    "e88add0f97794f14ab93deb0a97faa0c": {
     "model_module": "@jupyter-widgets/controls",
     "model_name": "IntRangeSliderModel",
     "model_module_version": "1.5.0",
     "state": {
      "_dom_classes": [],
      "_model_module": "@jupyter-widgets/controls",
      "_model_module_version": "1.5.0",
      "_model_name": "IntRangeSliderModel",
      "_view_count": null,
      "_view_module": "@jupyter-widgets/controls",
      "_view_module_version": "1.5.0",
      "_view_name": "IntRangeSliderView",
      "continuous_update": true,
      "description": "points_range",
      "description_tooltip": null,
      "disabled": false,
      "layout": "IPY_MODEL_ff76c59b91ec4388b9eba10987c79c14",
      "max": 11,
      "min": 0,
      "orientation": "horizontal",
      "readout": true,
      "readout_format": "d",
      "step": 1,
      "style": "IPY_MODEL_ae23182d85804485bfc2f803b2d17940",
      "value": [
       0,
       2
      ]
     }
    },
    "90fd38e4b9464f7ba8cb0471d46e9976": {
     "model_module": "@jupyter-widgets/output",
     "model_name": "OutputModel",
     "model_module_version": "1.0.0",
     "state": {
      "_dom_classes": [],
      "_model_module": "@jupyter-widgets/output",
      "_model_module_version": "1.0.0",
      "_model_name": "OutputModel",
      "_view_count": null,
      "_view_module": "@jupyter-widgets/output",
      "_view_module_version": "1.0.0",
      "_view_name": "OutputView",
      "layout": "IPY_MODEL_06e0b59de0de45d0b550b585a2c2ae81",
      "msg_id": "",
      "outputs": [
       {
        "output_type": "display_data",
        "data": {
         "text/plain": "<IPython.core.display.HTML object>",
         "text/html": "<table border=\"1\" class=\"dataframe\">\n  <thead>\n    <tr style=\"text-align: right;\">\n      <th></th>\n      <th>name</th>\n      <th>img</th>\n      <th>summary</th>\n      <th>cals</th>\n      <th>pp</th>\n    </tr>\n  </thead>\n  <tbody>\n    <tr>\n      <th>3</th>\n      <td>Parmesan-Herb Baked Salmon</td>\n      <td><img src=\"https://www.skinnytaste.com/wp-content/uploads/2022/09/Parmesan-Herb-Baked-Salmon-6-2-260x390.jpg\" width=\"60\" ></td>\n      <td>This easy Parmesan Herb Baked Salmon recipe is flaky and tender with incredible flavor – perfect for company or busy weeknights.</td>\n      <td>256.0</td>\n      <td>2</td>\n    </tr>\n    <tr>\n      <th>44</th>\n      <td>Chili-Lime Air Fryer Salmon</td>\n      <td><img src=\"https://www.skinnytaste.com/wp-content/uploads/2022/05/Chili-_-Lime-Air-Fryer-Salmon-6-260x390.jpg\" width=\"60\" ></td>\n      <td>This Chili-Lime Air Fryer Salmon is seasoned with a blend of spices for maximum flavor that cooks in under 10 minutes. Chili-Lime Air Fryer Salmon The only way I...</td>\n      <td>262.0</td>\n      <td>0</td>\n    </tr>\n    <tr>\n      <th>62</th>\n      <td>Salmon Tikka Masala</td>\n      <td><img src=\"https://www.skinnytaste.com/wp-content/uploads/2022/04/Salmon-Tikka-Masala-8-260x390.jpg\" width=\"60\" ></td>\n      <td>This delicious Salmon Tikka Masala, an Indian-inspired dish is simmered in a creamy tomato sauce with coconut milk and spices, perfect served with naan, roti, or over rice. Salmon...</td>\n      <td>283.0</td>\n      <td>2</td>\n    </tr>\n    <tr>\n      <th>40</th>\n      <td>Grilled Tuna over Arugula with Lemon Vinaigrette</td>\n      <td><img src=\"https://www.skinnytaste.com/wp-content/uploads/2011/06/Grilled-Tuna_-5-260x390.jpg\" width=\"60\" ></td>\n      <td>Grilled Tuna over Arugula with Lemon Vinaigrette is a light summer meal made with a few simple ingredients, ready in under 10 minutes. Grilled Tuna over Arugula Salad This...</td>\n      <td>298.0</td>\n      <td>1</td>\n    </tr>\n    <tr>\n      <th>59</th>\n      <td>Spicy Canned Salmon Rice Bowl</td>\n      <td><img src=\"https://www.skinnytaste.com/wp-content/uploads/2022/04/Spicy-Canned-Salmon-Salad-Bowl-8-260x390.jpg\" width=\"60\" ></td>\n      <td>This quick and easy Sushi-inspired Spicy Canned Salmon Rice Bowl makes an easy high protein, budget-friendly, 5-minute lunch, great for meal prep! Spicy Canned Salmon Rice Bowl This easy...</td>\n      <td>389.0</td>\n      <td>2</td>\n    </tr>\n  </tbody>\n</table>"
        },
        "metadata": {}
       }
      ]
     }
    },
    "f19c4abdc74e4d53afd4c7c90c8ead6c": {
     "model_module": "@jupyter-widgets/base",
     "model_name": "LayoutModel",
     "model_module_version": "1.2.0",
     "state": {
      "_model_module": "@jupyter-widgets/base",
      "_model_module_version": "1.2.0",
      "_model_name": "LayoutModel",
      "_view_count": null,
      "_view_module": "@jupyter-widgets/base",
      "_view_module_version": "1.2.0",
      "_view_name": "LayoutView",
      "align_content": null,
      "align_items": null,
      "align_self": null,
      "border": null,
      "bottom": null,
      "display": null,
      "flex": null,
      "flex_flow": null,
      "grid_area": null,
      "grid_auto_columns": null,
      "grid_auto_flow": null,
      "grid_auto_rows": null,
      "grid_column": null,
      "grid_gap": null,
      "grid_row": null,
      "grid_template_areas": null,
      "grid_template_columns": null,
      "grid_template_rows": null,
      "height": null,
      "justify_content": null,
      "justify_items": null,
      "left": null,
      "margin": null,
      "max_height": null,
      "max_width": null,
      "min_height": null,
      "min_width": null,
      "object_fit": null,
      "object_position": null,
      "order": null,
      "overflow": null,
      "overflow_x": null,
      "overflow_y": null,
      "padding": null,
      "right": null,
      "top": null,
      "visibility": null,
      "width": null
     }
    },
    "b3e289c15a4144dda8be0ee08204de9c": {
     "model_module": "@jupyter-widgets/base",
     "model_name": "LayoutModel",
     "model_module_version": "1.2.0",
     "state": {
      "_model_module": "@jupyter-widgets/base",
      "_model_module_version": "1.2.0",
      "_model_name": "LayoutModel",
      "_view_count": null,
      "_view_module": "@jupyter-widgets/base",
      "_view_module_version": "1.2.0",
      "_view_name": "LayoutView",
      "align_content": null,
      "align_items": null,
      "align_self": null,
      "border": null,
      "bottom": null,
      "display": null,
      "flex": null,
      "flex_flow": null,
      "grid_area": null,
      "grid_auto_columns": null,
      "grid_auto_flow": null,
      "grid_auto_rows": null,
      "grid_column": null,
      "grid_gap": null,
      "grid_row": null,
      "grid_template_areas": null,
      "grid_template_columns": null,
      "grid_template_rows": null,
      "height": null,
      "justify_content": null,
      "justify_items": null,
      "left": null,
      "margin": null,
      "max_height": null,
      "max_width": null,
      "min_height": null,
      "min_width": null,
      "object_fit": null,
      "object_position": null,
      "order": null,
      "overflow": null,
      "overflow_x": null,
      "overflow_y": null,
      "padding": null,
      "right": null,
      "top": null,
      "visibility": null,
      "width": null
     }
    },
    "c377e31a7a104fd68916f31243666b38": {
     "model_module": "@jupyter-widgets/controls",
     "model_name": "SliderStyleModel",
     "model_module_version": "1.5.0",
     "state": {
      "_model_module": "@jupyter-widgets/controls",
      "_model_module_version": "1.5.0",
      "_model_name": "SliderStyleModel",
      "_view_count": null,
      "_view_module": "@jupyter-widgets/base",
      "_view_module_version": "1.2.0",
      "_view_name": "StyleView",
      "description_width": "",
      "handle_color": null
     }
    },
    "ff76c59b91ec4388b9eba10987c79c14": {
     "model_module": "@jupyter-widgets/base",
     "model_name": "LayoutModel",
     "model_module_version": "1.2.0",
     "state": {
      "_model_module": "@jupyter-widgets/base",
      "_model_module_version": "1.2.0",
      "_model_name": "LayoutModel",
      "_view_count": null,
      "_view_module": "@jupyter-widgets/base",
      "_view_module_version": "1.2.0",
      "_view_name": "LayoutView",
      "align_content": null,
      "align_items": null,
      "align_self": null,
      "border": null,
      "bottom": null,
      "display": null,
      "flex": null,
      "flex_flow": null,
      "grid_area": null,
      "grid_auto_columns": null,
      "grid_auto_flow": null,
      "grid_auto_rows": null,
      "grid_column": null,
      "grid_gap": null,
      "grid_row": null,
      "grid_template_areas": null,
      "grid_template_columns": null,
      "grid_template_rows": null,
      "height": null,
      "justify_content": null,
      "justify_items": null,
      "left": null,
      "margin": null,
      "max_height": null,
      "max_width": null,
      "min_height": null,
      "min_width": null,
      "object_fit": null,
      "object_position": null,
      "order": null,
      "overflow": null,
      "overflow_x": null,
      "overflow_y": null,
      "padding": null,
      "right": null,
      "top": null,
      "visibility": null,
      "width": null
     }
    },
    "ae23182d85804485bfc2f803b2d17940": {
     "model_module": "@jupyter-widgets/controls",
     "model_name": "SliderStyleModel",
     "model_module_version": "1.5.0",
     "state": {
      "_model_module": "@jupyter-widgets/controls",
      "_model_module_version": "1.5.0",
      "_model_name": "SliderStyleModel",
      "_view_count": null,
      "_view_module": "@jupyter-widgets/base",
      "_view_module_version": "1.2.0",
      "_view_name": "StyleView",
      "description_width": "",
      "handle_color": null
     }
    },
    "06e0b59de0de45d0b550b585a2c2ae81": {
     "model_module": "@jupyter-widgets/base",
     "model_name": "LayoutModel",
     "model_module_version": "1.2.0",
     "state": {
      "_model_module": "@jupyter-widgets/base",
      "_model_module_version": "1.2.0",
      "_model_name": "LayoutModel",
      "_view_count": null,
      "_view_module": "@jupyter-widgets/base",
      "_view_module_version": "1.2.0",
      "_view_name": "LayoutView",
      "align_content": null,
      "align_items": null,
      "align_self": null,
      "border": null,
      "bottom": null,
      "display": null,
      "flex": null,
      "flex_flow": null,
      "grid_area": null,
      "grid_auto_columns": null,
      "grid_auto_flow": null,
      "grid_auto_rows": null,
      "grid_column": null,
      "grid_gap": null,
      "grid_row": null,
      "grid_template_areas": null,
      "grid_template_columns": null,
      "grid_template_rows": null,
      "height": null,
      "justify_content": null,
      "justify_items": null,
      "left": null,
      "margin": null,
      "max_height": null,
      "max_width": null,
      "min_height": null,
      "min_width": null,
      "object_fit": null,
      "object_position": null,
      "order": null,
      "overflow": null,
      "overflow_x": null,
      "overflow_y": null,
      "padding": null,
      "right": null,
      "top": null,
      "visibility": null,
      "width": null
     }
    }
   }
  }
 },
 "cells": [
  {
   "cell_type": "code",
   "execution_count": null,
   "outputs": [],
   "source": [
    "! pip install beautifulsoup4, numpy, pandas, matplotlib, scipy, seaborn, requests"
   ],
   "metadata": {
    "collapsed": false,
    "pycharm": {
     "name": "#%%\n"
    }
   }
  },
  {
   "cell_type": "code",
   "execution_count": null,
   "outputs": [],
   "source": [
    "from bs4 import BeautifulSoup\n",
    "import seaborn as sns\n",
    "import csv\n",
    "import requests\n",
    "import pandas as pd\n",
    "import matplotlib.pyplot as plt\n",
    "import re\n",
    "from IPython.core.display import HTML\n",
    "import numpy as np\n",
    "from scipy import stats"
   ],
   "metadata": {
    "collapsed": false,
    "pycharm": {
     "name": "#%%\n"
    }
   }
  },
  {
   "cell_type": "code",
   "source": [
    "from typing import Tuple\n",
    "def parse_article(article: BeautifulSoup) -> Tuple[str, str, str, str, str]:\n",
    "  \"\"\"\n",
    "  Parameters:\n",
    "    article: BeautifulSoup Object\n",
    "  Returns:\n",
    "    meta data of article: name, image, calories, personal points, summary, recipe key \n",
    "  \"\"\"\n",
    "  if 'single-post' in article[\"class\"]:\n",
    "    name = article.select(\".post-title h1\")[0].get_text()\n",
    "    image = article.select(\".post-content img\")[0][\"data-lazy-src\"]\n",
    "    calories = article.select(\".post-meta .value-calories\")[0].get_text().split()[0]\n",
    "    personal_points_tag = article.select(\".post-meta .recipe-ww-pp\")\n",
    "  else: \n",
    "    name = article.select(\".title\")[0].get_text()\n",
    "    image = article.select(\"img.wp-post-image\")[0][\"data-lazy-src\"]\n",
    "    if len(article.select(\".recipe-meta .value-calories\")) > 0:\n",
    "      calories = article.select(\".recipe-meta .value-calories\")[0].get_text().split()[0]\n",
    "    else:\n",
    "      calories = '0'\n",
    "    personal_points_tag = article.select(\".recipe-meta .recipe-ww-pp\")\n",
    "\n",
    "  personal_points = personal_points_tag[0].get_text() if len(personal_points_tag) > 0 else \"-1\"\n",
    "  summary = article.select(\".post-content p\")[0].get_text()\n",
    "  recipe_key_tags = article.select(\".post-meta .icons a > img\")\n",
    "  if len(recipe_key_tags) > 0:\n",
    "    recipe_key = \",\".join([x[\"alt\"] for x in recipe_key_tags])\n",
    "  else:\n",
    "    recipe_key = \"\"\n",
    "\n",
    "  return (name, image, calories, personal_points, summary, recipe_key)"
   ],
   "metadata": {
    "id": "46MPZPWh5_LE",
    "pycharm": {
     "name": "#%%\n"
    }
   },
   "execution_count": null,
   "outputs": []
  },
  {
   "cell_type": "code",
   "source": [
    "# title, summary, video,  --> csv\n",
    "\"\"\"\n",
    "task 1 + task 2 storage calls\n",
    "\"\"\"\n",
    "# get first 30 pages urls\n",
    "base_url = 'redacted'\n",
    "pg_lst = [base_url]\n",
    "for i in range(2, 31):\n",
    "  pg_lst.append(base_url + 'page/{}/'.format(i))\n",
    "\n",
    "recipe_lst = []\n",
    "skipped_articles = []\n",
    "# go through all pages and parse all articles\n",
    "for url in pg_lst:\n",
    "  p = requests.get(url) \n",
    "  if p.status_code != 200:\n",
    "    # raise Exception('url does not exists: {}'.format(url))\n",
    "    print('url does not exists: {}'.format(url))\n",
    "  parsed_text = BeautifulSoup(p.text)\n",
    "  pg_articles = parsed_text.find(\"div\", id=\"content\").find_all(\"article\")\n",
    "  for pg in pg_articles:\n",
    "    # parsing \n",
    "    try:\n",
    "      item = parse_article(pg)\n",
    "    except: \n",
    "      # article given is invalid to be parsed as a recipe\n",
    "      # this should no longer happen as we parse everything and filter later \n",
    "      # this is so i can do some statistical summary to ensure that we are \n",
    "      # getting all the recipes needed \n",
    "      skipped_articles.append(pg)\n",
    "      continue \n",
    "    recipe_lst.append(item)\n",
    "\n",
    "print( 'Recpie List: {}'.format(len(recipe_lst)))\n",
    "print( 'Skipped Articles: {}'.format(len(skipped_articles)))\n",
    "\n",
    "\n"
   ],
   "metadata": {
    "id": "WDF4nrLRuxl2",
    "colab": {
     "base_uri": "https://localhost:8080/"
    },
    "outputId": "9522c918-6bf6-4e0b-e314-89762c909245",
    "pycharm": {
     "name": "#%%\n"
    }
   },
   "execution_count": null,
   "outputs": [
    {
     "output_type": "stream",
     "name": "stdout",
     "text": [
      "Recpie List: 211\n",
      "Skipped Articles: 0\n"
     ]
    }
   ]
  },
  {
   "cell_type": "code",
   "source": [
    "# dataframe creation + some initial data processing  \n",
    "\"\"\"\n",
    "Task 1 + 2 storage \n",
    "\"\"\"\n",
    "df = pd.DataFrame(data=recipe_lst, \n",
    "                  columns=['name', \n",
    "                           'img',\n",
    "                           'cals',\n",
    "                           'pp',\n",
    "                           'summary',\n",
    "                           'rk'])\n",
    "# convert cals to float\n",
    "df['cals'] = df['cals'].apply(lambda x: float(x.replace('Cals', '').strip())) \n",
    "# take only personal point as is (we drop + and - behind it)\n",
    "df['pp'] = df['pp'].apply(lambda x: int(re.sub('[^0-9\\-]', '', x)))\n",
    "df['rk'] = df['rk'].apply(lambda x: 'no key' if x == '' else x)\n",
    "# explode for recipe keys\n",
    "recipe_keys_series = df['rk'].apply(lambda x: x.split(',')).explode().reset_index(drop=True)\n",
    "df"
   ],
   "metadata": {
    "id": "-0M79NR8vqXI",
    "colab": {
     "base_uri": "https://localhost:8080/",
     "height": 641
    },
    "outputId": "452729d0-b04e-4749-c177-d9bab35baec9",
    "pycharm": {
     "name": "#%%\n"
    }
   },
   "execution_count": null,
   "outputs": [
    {
     "output_type": "execute_result",
     "data": {
      "text/plain": [
       "                                                  name  \\\n",
       "0    White Bean Pumpkin Turkey Chili (Slow Cooker o...   \n",
       "1              7 Day Healthy Meal Plan (Sept 26-Oct 2)   \n",
       "2                       Creamy Sausage and Potato Soup   \n",
       "3                           Parmesan-Herb Baked Salmon   \n",
       "4                  Avocado Toast with Halloumi and Egg   \n",
       "..                                                 ...   \n",
       "206               Spanish Tortilla with Pimenton Aioli   \n",
       "207                                   Turkey Picadillo   \n",
       "208  Farro Salad with Feta, Cucumbers and Sun Dried...   \n",
       "209              Easy (10-minute) Waffled Salmon Cakes   \n",
       "210                            Mother’s Day Gift Ideas   \n",
       "\n",
       "                                                   img   cals  pp  \\\n",
       "0    https://www.skinnytaste.com/wp-content/uploads...  272.5  -1   \n",
       "1    https://www.skinnytaste.com/wp-content/uploads...    0.0  -1   \n",
       "2    https://www.skinnytaste.com/wp-content/uploads...  402.0   7   \n",
       "3    https://www.skinnytaste.com/wp-content/uploads...  256.0   2   \n",
       "4    https://www.skinnytaste.com/wp-content/uploads...  295.0   7   \n",
       "..                                                 ...    ...  ..   \n",
       "206  https://www.skinnytaste.com/wp-content/uploads...  247.0  -1   \n",
       "207  https://www.skinnytaste.com/wp-content/uploads...  238.0  -1   \n",
       "208  https://www.skinnytaste.com/wp-content/uploads...  241.0  -1   \n",
       "209  https://www.skinnytaste.com/wp-content/uploads...  169.0  -1   \n",
       "210  https://www.skinnytaste.com/wp-content/uploads...    0.0  -1   \n",
       "\n",
       "                                               summary  \\\n",
       "0    The best White Bean Pumpkin Turkey Chili recip...   \n",
       "1    A free 7-day, flexible weight loss meal plan i...   \n",
       "2    This easy, comforting sausage and potato soup ...   \n",
       "3    This easy Parmesan Herb Baked Salmon recipe is...   \n",
       "4    Avocado Toast with Halloumi and Soft Boiled Eg...   \n",
       "..                                                 ...   \n",
       "206  Spanish Tortilla with Pimenton Aioli is a laye...   \n",
       "207  Turkey Picadillo is a lighter alternative to m...   \n",
       "208  This farro salad is made with Mediterranean in...   \n",
       "209  These easy Salmon Cakes, made with pantry and ...   \n",
       "210  Mother’s Day is just around the corner, so I t...   \n",
       "\n",
       "                                                    rk  \n",
       "0    Freezer Meals,Gluten Free,Kid Friendly,Pressur...  \n",
       "1                                               no key  \n",
       "2                  Dairy Free,Gluten Free,Kid Friendly  \n",
       "3    Gluten Free,Kid Friendly,Low Carb,Under 30 Min...  \n",
       "4                    Under 30 Minutes,Vegetarian Meals  \n",
       "..                                                 ...  \n",
       "206  Dairy Free,Gluten Free,Kid Friendly,Meal Prep ...  \n",
       "207  Dairy Free,Freezer Meals,Gluten Free,Keto Reci...  \n",
       "208                  Under 30 Minutes,Vegetarian Meals  \n",
       "209  Dairy Free,Gluten Free,Low Carb,Meal Prep Reci...  \n",
       "210                                             no key  \n",
       "\n",
       "[211 rows x 6 columns]"
      ],
      "text/html": [
       "\n",
       "  <div id=\"df-22f7c5ed-7363-4538-b494-b227307dd748\">\n",
       "    <div class=\"colab-df-container\">\n",
       "      <div>\n",
       "<style scoped>\n",
       "    .dataframe tbody tr th:only-of-type {\n",
       "        vertical-align: middle;\n",
       "    }\n",
       "\n",
       "    .dataframe tbody tr th {\n",
       "        vertical-align: top;\n",
       "    }\n",
       "\n",
       "    .dataframe thead th {\n",
       "        text-align: right;\n",
       "    }\n",
       "</style>\n",
       "<table border=\"1\" class=\"dataframe\">\n",
       "  <thead>\n",
       "    <tr style=\"text-align: right;\">\n",
       "      <th></th>\n",
       "      <th>name</th>\n",
       "      <th>img</th>\n",
       "      <th>cals</th>\n",
       "      <th>pp</th>\n",
       "      <th>summary</th>\n",
       "      <th>rk</th>\n",
       "    </tr>\n",
       "  </thead>\n",
       "  <tbody>\n",
       "    <tr>\n",
       "      <th>0</th>\n",
       "      <td>White Bean Pumpkin Turkey Chili (Slow Cooker o...</td>\n",
       "      <td>https://www.skinnytaste.com/wp-content/uploads...</td>\n",
       "      <td>272.5</td>\n",
       "      <td>-1</td>\n",
       "      <td>The best White Bean Pumpkin Turkey Chili recip...</td>\n",
       "      <td>Freezer Meals,Gluten Free,Kid Friendly,Pressur...</td>\n",
       "    </tr>\n",
       "    <tr>\n",
       "      <th>1</th>\n",
       "      <td>7 Day Healthy Meal Plan (Sept 26-Oct 2)</td>\n",
       "      <td>https://www.skinnytaste.com/wp-content/uploads...</td>\n",
       "      <td>0.0</td>\n",
       "      <td>-1</td>\n",
       "      <td>A free 7-day, flexible weight loss meal plan i...</td>\n",
       "      <td>no key</td>\n",
       "    </tr>\n",
       "    <tr>\n",
       "      <th>2</th>\n",
       "      <td>Creamy Sausage and Potato Soup</td>\n",
       "      <td>https://www.skinnytaste.com/wp-content/uploads...</td>\n",
       "      <td>402.0</td>\n",
       "      <td>7</td>\n",
       "      <td>This easy, comforting sausage and potato soup ...</td>\n",
       "      <td>Dairy Free,Gluten Free,Kid Friendly</td>\n",
       "    </tr>\n",
       "    <tr>\n",
       "      <th>3</th>\n",
       "      <td>Parmesan-Herb Baked Salmon</td>\n",
       "      <td>https://www.skinnytaste.com/wp-content/uploads...</td>\n",
       "      <td>256.0</td>\n",
       "      <td>2</td>\n",
       "      <td>This easy Parmesan Herb Baked Salmon recipe is...</td>\n",
       "      <td>Gluten Free,Kid Friendly,Low Carb,Under 30 Min...</td>\n",
       "    </tr>\n",
       "    <tr>\n",
       "      <th>4</th>\n",
       "      <td>Avocado Toast with Halloumi and Egg</td>\n",
       "      <td>https://www.skinnytaste.com/wp-content/uploads...</td>\n",
       "      <td>295.0</td>\n",
       "      <td>7</td>\n",
       "      <td>Avocado Toast with Halloumi and Soft Boiled Eg...</td>\n",
       "      <td>Under 30 Minutes,Vegetarian Meals</td>\n",
       "    </tr>\n",
       "    <tr>\n",
       "      <th>...</th>\n",
       "      <td>...</td>\n",
       "      <td>...</td>\n",
       "      <td>...</td>\n",
       "      <td>...</td>\n",
       "      <td>...</td>\n",
       "      <td>...</td>\n",
       "    </tr>\n",
       "    <tr>\n",
       "      <th>206</th>\n",
       "      <td>Spanish Tortilla with Pimenton Aioli</td>\n",
       "      <td>https://www.skinnytaste.com/wp-content/uploads...</td>\n",
       "      <td>247.0</td>\n",
       "      <td>-1</td>\n",
       "      <td>Spanish Tortilla with Pimenton Aioli is a laye...</td>\n",
       "      <td>Dairy Free,Gluten Free,Kid Friendly,Meal Prep ...</td>\n",
       "    </tr>\n",
       "    <tr>\n",
       "      <th>207</th>\n",
       "      <td>Turkey Picadillo</td>\n",
       "      <td>https://www.skinnytaste.com/wp-content/uploads...</td>\n",
       "      <td>238.0</td>\n",
       "      <td>-1</td>\n",
       "      <td>Turkey Picadillo is a lighter alternative to m...</td>\n",
       "      <td>Dairy Free,Freezer Meals,Gluten Free,Keto Reci...</td>\n",
       "    </tr>\n",
       "    <tr>\n",
       "      <th>208</th>\n",
       "      <td>Farro Salad with Feta, Cucumbers and Sun Dried...</td>\n",
       "      <td>https://www.skinnytaste.com/wp-content/uploads...</td>\n",
       "      <td>241.0</td>\n",
       "      <td>-1</td>\n",
       "      <td>This farro salad is made with Mediterranean in...</td>\n",
       "      <td>Under 30 Minutes,Vegetarian Meals</td>\n",
       "    </tr>\n",
       "    <tr>\n",
       "      <th>209</th>\n",
       "      <td>Easy (10-minute) Waffled Salmon Cakes</td>\n",
       "      <td>https://www.skinnytaste.com/wp-content/uploads...</td>\n",
       "      <td>169.0</td>\n",
       "      <td>-1</td>\n",
       "      <td>These easy Salmon Cakes, made with pantry and ...</td>\n",
       "      <td>Dairy Free,Gluten Free,Low Carb,Meal Prep Reci...</td>\n",
       "    </tr>\n",
       "    <tr>\n",
       "      <th>210</th>\n",
       "      <td>Mother’s Day Gift Ideas</td>\n",
       "      <td>https://www.skinnytaste.com/wp-content/uploads...</td>\n",
       "      <td>0.0</td>\n",
       "      <td>-1</td>\n",
       "      <td>Mother’s Day is just around the corner, so I t...</td>\n",
       "      <td>no key</td>\n",
       "    </tr>\n",
       "  </tbody>\n",
       "</table>\n",
       "<p>211 rows × 6 columns</p>\n",
       "</div>\n",
       "      <button class=\"colab-df-convert\" onclick=\"convertToInteractive('df-22f7c5ed-7363-4538-b494-b227307dd748')\"\n",
       "              title=\"Convert this dataframe to an interactive table.\"\n",
       "              style=\"display:none;\">\n",
       "        \n",
       "  <svg xmlns=\"http://www.w3.org/2000/svg\" height=\"24px\"viewBox=\"0 0 24 24\"\n",
       "       width=\"24px\">\n",
       "    <path d=\"M0 0h24v24H0V0z\" fill=\"none\"/>\n",
       "    <path d=\"M18.56 5.44l.94 2.06.94-2.06 2.06-.94-2.06-.94-.94-2.06-.94 2.06-2.06.94zm-11 1L8.5 8.5l.94-2.06 2.06-.94-2.06-.94L8.5 2.5l-.94 2.06-2.06.94zm10 10l.94 2.06.94-2.06 2.06-.94-2.06-.94-.94-2.06-.94 2.06-2.06.94z\"/><path d=\"M17.41 7.96l-1.37-1.37c-.4-.4-.92-.59-1.43-.59-.52 0-1.04.2-1.43.59L10.3 9.45l-7.72 7.72c-.78.78-.78 2.05 0 2.83L4 21.41c.39.39.9.59 1.41.59.51 0 1.02-.2 1.41-.59l7.78-7.78 2.81-2.81c.8-.78.8-2.07 0-2.86zM5.41 20L4 18.59l7.72-7.72 1.47 1.35L5.41 20z\"/>\n",
       "  </svg>\n",
       "      </button>\n",
       "      \n",
       "  <style>\n",
       "    .colab-df-container {\n",
       "      display:flex;\n",
       "      flex-wrap:wrap;\n",
       "      gap: 12px;\n",
       "    }\n",
       "\n",
       "    .colab-df-convert {\n",
       "      background-color: #E8F0FE;\n",
       "      border: none;\n",
       "      border-radius: 50%;\n",
       "      cursor: pointer;\n",
       "      display: none;\n",
       "      fill: #1967D2;\n",
       "      height: 32px;\n",
       "      padding: 0 0 0 0;\n",
       "      width: 32px;\n",
       "    }\n",
       "\n",
       "    .colab-df-convert:hover {\n",
       "      background-color: #E2EBFA;\n",
       "      box-shadow: 0px 1px 2px rgba(60, 64, 67, 0.3), 0px 1px 3px 1px rgba(60, 64, 67, 0.15);\n",
       "      fill: #174EA6;\n",
       "    }\n",
       "\n",
       "    [theme=dark] .colab-df-convert {\n",
       "      background-color: #3B4455;\n",
       "      fill: #D2E3FC;\n",
       "    }\n",
       "\n",
       "    [theme=dark] .colab-df-convert:hover {\n",
       "      background-color: #434B5C;\n",
       "      box-shadow: 0px 1px 3px 1px rgba(0, 0, 0, 0.15);\n",
       "      filter: drop-shadow(0px 1px 2px rgba(0, 0, 0, 0.3));\n",
       "      fill: #FFFFFF;\n",
       "    }\n",
       "  </style>\n",
       "\n",
       "      <script>\n",
       "        const buttonEl =\n",
       "          document.querySelector('#df-22f7c5ed-7363-4538-b494-b227307dd748 button.colab-df-convert');\n",
       "        buttonEl.style.display =\n",
       "          google.colab.kernel.accessAllowed ? 'block' : 'none';\n",
       "\n",
       "        async function convertToInteractive(key) {\n",
       "          const element = document.querySelector('#df-22f7c5ed-7363-4538-b494-b227307dd748');\n",
       "          const dataTable =\n",
       "            await google.colab.kernel.invokeFunction('convertToInteractive',\n",
       "                                                     [key], {});\n",
       "          if (!dataTable) return;\n",
       "\n",
       "          const docLinkHtml = 'Like what you see? Visit the ' +\n",
       "            '<a target=\"_blank\" href=https://colab.research.google.com/notebooks/data_table.ipynb>data table notebook</a>'\n",
       "            + ' to learn more about interactive tables.';\n",
       "          element.innerHTML = '';\n",
       "          dataTable['output_type'] = 'display_data';\n",
       "          await google.colab.output.renderOutput(dataTable, element);\n",
       "          const docLink = document.createElement('div');\n",
       "          docLink.innerHTML = docLinkHtml;\n",
       "          element.appendChild(docLink);\n",
       "        }\n",
       "      </script>\n",
       "    </div>\n",
       "  </div>\n",
       "  "
      ]
     },
     "metadata": {},
     "execution_count": 4
    }
   ]
  },
  {
   "cell_type": "code",
   "source": [
    "\"\"\"\n",
    "Pre-Task 3 - checking valid and invalid items\n",
    "valid def: have both personal points and recipe keys\n",
    "invalid def: do not have both or either items\n",
    "summarize the numbers\n",
    "\"\"\"\n",
    "# summarize flags \n",
    "df['pp_flag'] = df['pp'] != -1\n",
    "df['rk_flag'] = df['rk'] != 'no key'\n",
    "df['pp_and_rk_flag'] = df['pp_flag'] & df['rk_flag']\n",
    "rk_pp_summary_df = pd.DataFrame(\n",
    "    {\n",
    "        'has_pp': df['pp_flag'].value_counts(),\n",
    "        'has_rk': df['rk_flag'].value_counts(),\n",
    "        'has_rk_pp': df['pp_and_rk_flag'].value_counts()\n",
    "    }\n",
    ")\n"
   ],
   "metadata": {
    "id": "jPTNefGXcF61",
    "pycharm": {
     "name": "#%%\n"
    }
   },
   "execution_count": null,
   "outputs": []
  },
  {
   "cell_type": "code",
   "source": [
    "\"\"\"\n",
    "Pre Task 3 Summary \n",
    "Summary \n",
    "there are 150 items with no personal points\n",
    "there are 8 without recipe keys\n",
    "there are 152 without either  (therefore 1 with both) - @wit: please explain the text in parenthesis\n",
    "therefore only 58 recipes will be used for the EDA and plotting \n",
    "\"\"\"\n",
    "rk_pp_summary_df"
   ],
   "metadata": {
    "colab": {
     "base_uri": "https://localhost:8080/",
     "height": 112
    },
    "id": "6DwzUpzvejKc",
    "outputId": "7c1e3f47-df3d-4865-fcea-0e09dec682fc",
    "pycharm": {
     "name": "#%%\n"
    }
   },
   "execution_count": null,
   "outputs": [
    {
     "output_type": "execute_result",
     "data": {
      "text/plain": [
       "       has_pp  has_rk  has_rk_pp\n",
       "False     148       8        150\n",
       "True       63     203         61"
      ],
      "text/html": [
       "\n",
       "  <div id=\"df-e51b9736-4c1d-4c2a-9cfe-7b19c97a775d\">\n",
       "    <div class=\"colab-df-container\">\n",
       "      <div>\n",
       "<style scoped>\n",
       "    .dataframe tbody tr th:only-of-type {\n",
       "        vertical-align: middle;\n",
       "    }\n",
       "\n",
       "    .dataframe tbody tr th {\n",
       "        vertical-align: top;\n",
       "    }\n",
       "\n",
       "    .dataframe thead th {\n",
       "        text-align: right;\n",
       "    }\n",
       "</style>\n",
       "<table border=\"1\" class=\"dataframe\">\n",
       "  <thead>\n",
       "    <tr style=\"text-align: right;\">\n",
       "      <th></th>\n",
       "      <th>has_pp</th>\n",
       "      <th>has_rk</th>\n",
       "      <th>has_rk_pp</th>\n",
       "    </tr>\n",
       "  </thead>\n",
       "  <tbody>\n",
       "    <tr>\n",
       "      <th>False</th>\n",
       "      <td>148</td>\n",
       "      <td>8</td>\n",
       "      <td>150</td>\n",
       "    </tr>\n",
       "    <tr>\n",
       "      <th>True</th>\n",
       "      <td>63</td>\n",
       "      <td>203</td>\n",
       "      <td>61</td>\n",
       "    </tr>\n",
       "  </tbody>\n",
       "</table>\n",
       "</div>\n",
       "      <button class=\"colab-df-convert\" onclick=\"convertToInteractive('df-e51b9736-4c1d-4c2a-9cfe-7b19c97a775d')\"\n",
       "              title=\"Convert this dataframe to an interactive table.\"\n",
       "              style=\"display:none;\">\n",
       "        \n",
       "  <svg xmlns=\"http://www.w3.org/2000/svg\" height=\"24px\"viewBox=\"0 0 24 24\"\n",
       "       width=\"24px\">\n",
       "    <path d=\"M0 0h24v24H0V0z\" fill=\"none\"/>\n",
       "    <path d=\"M18.56 5.44l.94 2.06.94-2.06 2.06-.94-2.06-.94-.94-2.06-.94 2.06-2.06.94zm-11 1L8.5 8.5l.94-2.06 2.06-.94-2.06-.94L8.5 2.5l-.94 2.06-2.06.94zm10 10l.94 2.06.94-2.06 2.06-.94-2.06-.94-.94-2.06-.94 2.06-2.06.94z\"/><path d=\"M17.41 7.96l-1.37-1.37c-.4-.4-.92-.59-1.43-.59-.52 0-1.04.2-1.43.59L10.3 9.45l-7.72 7.72c-.78.78-.78 2.05 0 2.83L4 21.41c.39.39.9.59 1.41.59.51 0 1.02-.2 1.41-.59l7.78-7.78 2.81-2.81c.8-.78.8-2.07 0-2.86zM5.41 20L4 18.59l7.72-7.72 1.47 1.35L5.41 20z\"/>\n",
       "  </svg>\n",
       "      </button>\n",
       "      \n",
       "  <style>\n",
       "    .colab-df-container {\n",
       "      display:flex;\n",
       "      flex-wrap:wrap;\n",
       "      gap: 12px;\n",
       "    }\n",
       "\n",
       "    .colab-df-convert {\n",
       "      background-color: #E8F0FE;\n",
       "      border: none;\n",
       "      border-radius: 50%;\n",
       "      cursor: pointer;\n",
       "      display: none;\n",
       "      fill: #1967D2;\n",
       "      height: 32px;\n",
       "      padding: 0 0 0 0;\n",
       "      width: 32px;\n",
       "    }\n",
       "\n",
       "    .colab-df-convert:hover {\n",
       "      background-color: #E2EBFA;\n",
       "      box-shadow: 0px 1px 2px rgba(60, 64, 67, 0.3), 0px 1px 3px 1px rgba(60, 64, 67, 0.15);\n",
       "      fill: #174EA6;\n",
       "    }\n",
       "\n",
       "    [theme=dark] .colab-df-convert {\n",
       "      background-color: #3B4455;\n",
       "      fill: #D2E3FC;\n",
       "    }\n",
       "\n",
       "    [theme=dark] .colab-df-convert:hover {\n",
       "      background-color: #434B5C;\n",
       "      box-shadow: 0px 1px 3px 1px rgba(0, 0, 0, 0.15);\n",
       "      filter: drop-shadow(0px 1px 2px rgba(0, 0, 0, 0.3));\n",
       "      fill: #FFFFFF;\n",
       "    }\n",
       "  </style>\n",
       "\n",
       "      <script>\n",
       "        const buttonEl =\n",
       "          document.querySelector('#df-e51b9736-4c1d-4c2a-9cfe-7b19c97a775d button.colab-df-convert');\n",
       "        buttonEl.style.display =\n",
       "          google.colab.kernel.accessAllowed ? 'block' : 'none';\n",
       "\n",
       "        async function convertToInteractive(key) {\n",
       "          const element = document.querySelector('#df-e51b9736-4c1d-4c2a-9cfe-7b19c97a775d');\n",
       "          const dataTable =\n",
       "            await google.colab.kernel.invokeFunction('convertToInteractive',\n",
       "                                                     [key], {});\n",
       "          if (!dataTable) return;\n",
       "\n",
       "          const docLinkHtml = 'Like what you see? Visit the ' +\n",
       "            '<a target=\"_blank\" href=https://colab.research.google.com/notebooks/data_table.ipynb>data table notebook</a>'\n",
       "            + ' to learn more about interactive tables.';\n",
       "          element.innerHTML = '';\n",
       "          dataTable['output_type'] = 'display_data';\n",
       "          await google.colab.output.renderOutput(dataTable, element);\n",
       "          const docLink = document.createElement('div');\n",
       "          docLink.innerHTML = docLinkHtml;\n",
       "          element.appendChild(docLink);\n",
       "        }\n",
       "      </script>\n",
       "    </div>\n",
       "  </div>\n",
       "  "
      ]
     },
     "metadata": {},
     "execution_count": 6
    }
   ]
  },
  {
   "cell_type": "code",
   "source": [
    "\"\"\"\n",
    "Pre-Task 3 - filter \n",
    "\"\"\"\n",
    "t3_df = df[df['pp_and_rk_flag']]\n",
    "recipe_keys_series = t3_df['rk'].apply(lambda x: x.split(',')).explode().reset_index(drop=True)\n"
   ],
   "metadata": {
    "id": "rQ9tcaDz14Hs",
    "pycharm": {
     "name": "#%%\n"
    }
   },
   "execution_count": null,
   "outputs": []
  },
  {
   "cell_type": "code",
   "source": [
    "\"\"\"\n",
    "Task 3 (a)\n",
    "Plot of Recipe key distribution\n",
    "How? \n",
    "each recipe has multiple recipe keys  (list of list if you will)\n",
    "we explode them into a single list and then plot the frequency bar plot.\n",
    "Summary:\n",
    "About 42/57 have Gluten free tag\n",
    "Only about 2/57 have pressue cooker recipe \n",
    "\"\"\"\n",
    "# regular matplotlib bar plot  \n",
    "plt.figure()\n",
    "recipe_keys_series.value_counts().plot.bar()\n",
    "plt.title('bar plot of recipe key with regular matplotlib')\n",
    "plt.xlabel('recipe key')\n",
    "plt.ylabel('frequency')\n",
    "plt.figure()\n",
    "\n",
    "# seaborn is kinda stubborn so extra processing of data is done\n",
    "rkvc = recipe_keys_series.value_counts().to_frame().reset_index()\n",
    "rkvc.columns = ['recipe key', 'frequency']\n",
    "sns.barplot(data=rkvc,\n",
    "            x='recipe key',\n",
    "            y='frequency',\n",
    "            palette='pastel')\n",
    "plt.xticks(rotation=90)\n",
    "plt.title('bar plot of recipe key with seaborn')\n"
   ],
   "metadata": {
    "colab": {
     "base_uri": "https://localhost:8080/",
     "height": 814
    },
    "id": "sdzsZfeSHCly",
    "outputId": "ab36f82e-6df4-4fca-c7a2-88e7a136baef",
    "pycharm": {
     "name": "#%%\n"
    }
   },
   "execution_count": null,
   "outputs": [
    {
     "output_type": "execute_result",
     "data": {
      "text/plain": [
       "Text(0.5, 1.0, 'bar plot of recipe key with seaborn')"
      ]
     },
     "metadata": {},
     "execution_count": 8
    },
    {
     "output_type": "display_data",
     "data": {
      "text/plain": [
       "<Figure size 432x288 with 1 Axes>"
      ],
      "image/png": "[encoded data removed]"
     },
     "metadata": {
      "needs_background": "light"
     }
    },
    {
     "output_type": "display_data",
     "data": {
      "text/plain": [
       "<Figure size 432x288 with 1 Axes>"
      ],
      "image/png": "[encoded data removed]"
     },
     "metadata": {
      "needs_background": "light"
     }
    }
   ]
  },
  {
   "cell_type": "code",
   "source": [
    "\"\"\"\n",
    "Task 3 b - calories Distribution \n",
    "\n",
    "divided into 16 bins we plot a histogram for calories since it's continuous \n",
    "values, you would prefer to understand its distribution by binning.\n",
    "\n",
    "Then we check for if it belongs to normal distribution - shapiro says it is.\n",
    "there's not enough evidence to reject it\n",
    "\"\"\"\n",
    "# regular matplotlib histogram plot  \n",
    "_, ax = plt.subplots()\n",
    "bins_edges = np.histogram_bin_edges(t3_df['cals'], bins=16)\n",
    "t3_df['cals'].hist(bins=bins_edges, ax=ax, xrot=60)\n",
    "ax.set_title('Histogram plot of 20 bins with matplotlib')\n",
    "ax.set_xlabel('calories')\n",
    "ax.set_ylabel('frequency')\n",
    "ax.set_xticks(bins_edges)\n",
    "\n",
    "# kde vs normal vs histogram density for clearer understanding\n",
    "# shapiro test to see if it belongs to a normal distribution \n",
    "# (a normal distribution, not normal distribution one with mean and variance of the data)\n",
    "normal_result = stats.shapiro(t3_df['cals'])\n",
    "_, ax = plt.subplots()\n",
    "t3_df['cals'].hist(bins=bins_edges, ax=ax, density=True, xrot=60)\n",
    "t3_df['cals'].plot.density(ax=ax)\n",
    "xlims = ax.get_xlim()\n",
    "x = np.linspace(xlims[0], xlims[1], 400)\n",
    "y = stats.norm(loc=t3_df['cals'].mean(), \n",
    "               scale=t3_df['cals'].std()).pdf(x)\n",
    "ax.plot(x, y)\n",
    "ax.set_title('Comparison plots of kde vs normal vs density histogram to check normal, Shapiro: {0:1.3g}'.format(normal_result[1]))\n",
    "ax.set_xlabel('calories')\n",
    "ax.set_ylabel('frequency (normalised)')\n",
    "\n"
   ],
   "metadata": {
    "id": "JIO79eUFY5BQ",
    "colab": {
     "base_uri": "https://localhost:8080/",
     "height": 610
    },
    "outputId": "42ebcc89-2c5f-4150-d79e-ac6432be16ff",
    "pycharm": {
     "name": "#%%\n"
    }
   },
   "execution_count": null,
   "outputs": [
    {
     "output_type": "execute_result",
     "data": {
      "text/plain": [
       "Text(0, 0.5, 'frequency (normalised)')"
      ]
     },
     "metadata": {},
     "execution_count": 9
    },
    {
     "output_type": "display_data",
     "data": {
      "text/plain": [
       "<Figure size 432x288 with 1 Axes>"
      ],
      "image/png": "[encoded data removed]"
     },
     "metadata": {
      "needs_background": "light"
     }
    },
    {
     "output_type": "display_data",
     "data": {
      "text/plain": [
       "<Figure size 432x288 with 1 Axes>"
      ],
      "image/png": "[encoded data removed]"
     },
     "metadata": {
      "needs_background": "light"
     }
    }
   ]
  },
  {
   "cell_type": "code",
   "source": [
    "\"\"\"\n",
    "Task 3 c - personal points distribution \n",
    "Processing of personal points data:\n",
    "we remove all + - and other string in the personal points so that it can\n",
    "fit as an integer. We consider 6+ to be the same as 6\n",
    "\n",
    "Bar Plot\n",
    "For this case we take personal point as an ordinal variable \n",
    "We think it's because it's a subjective assignment like movie score. \n",
    "1+1 does not necessary equate to 2. \n",
    "whereas in calories, there's a clear unit.\n",
    "therefore we shall plot a bar plot. \n",
    "\"\"\"\n",
    "ppmin = t3_df['pp'].min()\n",
    "ppmax = t3_df['pp'].max()\n",
    "plt.figure()\n",
    "bin_edges = [i for i in range(ppmin, ppmax+1)]\n",
    "data_se = t3_df['pp'].value_counts(dropna=False)\n",
    "index_not_in = [i for i in range(ppmin, ppmax+1) if i not in data_se.index]\n",
    "data_se = data_se.append(pd.Series([0]*len(index_not_in), index=index_not_in))\n",
    "data_se.sort_index().plot.bar()\n",
    "plt.title('Bar Plot of Personal Points')\n",
    "plt.xlabel('Personal Points')\n",
    "plt.ylabel('Frequency')\n",
    "plt.xticks(bin_edges)\n"
   ],
   "metadata": {
    "id": "5OnBrSu2ZCm3",
    "colab": {
     "base_uri": "https://localhost:8080/",
     "height": 524
    },
    "outputId": "9a1a590f-b01d-4a6c-89b4-b4cb7057ce76",
    "pycharm": {
     "name": "#%%\n"
    }
   },
   "execution_count": null,
   "outputs": [
    {
     "output_type": "execute_result",
     "data": {
      "text/plain": [
       "([<matplotlib.axis.XTick at 0x7f570e514450>,\n",
       "  <matplotlib.axis.XTick at 0x7f570e5143d0>,\n",
       "  <matplotlib.axis.XTick at 0x7f570e7a2990>,\n",
       "  <matplotlib.axis.XTick at 0x7f570e39d350>,\n",
       "  <matplotlib.axis.XTick at 0x7f570f263b50>,\n",
       "  <matplotlib.axis.XTick at 0x7f570e784750>,\n",
       "  <matplotlib.axis.XTick at 0x7f570e784410>,\n",
       "  <matplotlib.axis.XTick at 0x7f570dc92310>,\n",
       "  <matplotlib.axis.XTick at 0x7f570e5146d0>,\n",
       "  <matplotlib.axis.XTick at 0x7f570e784950>,\n",
       "  <matplotlib.axis.XTick at 0x7f570db839d0>,\n",
       "  <matplotlib.axis.XTick at 0x7f570dd6cc90>],\n",
       " <a list of 12 Text major ticklabel objects>)"
      ]
     },
     "metadata": {},
     "execution_count": 10
    },
    {
     "output_type": "display_data",
     "data": {
      "text/plain": [
       "<Figure size 432x288 with 1 Axes>"
      ],
      "image/png": "[encoded data removed]"
     },
     "metadata": {
      "needs_background": "light"
     }
    }
   ]
  },
  {
   "cell_type": "code",
   "source": [
    "\"\"\"\n",
    "Task 3 c extra - correlation of ordinal pp vs continuous cals\n",
    "i'm not sure if what i'm doing is right or not but i'm basically observing\n",
    "if there's a correlation between personal points vs calories\n",
    "since this is ordinal vs continuous, ill use spearman instead of pearson  \n",
    "spearman is basically pearson but you rank items being compared\n",
    "\"\"\"\n",
    "\"\"\"\n",
    "Summary:\n",
    "potential outliers: pp at 11(or 0 too because how can u give 0 personal point) may ned to be checked\n",
    "correlation strength: 0.559, p-val: 6.21e-06 very small basically\n",
    "therefore, there is enough evidence to suggest a positive correlation between\n",
    "personal points and calories.\n",
    "(aka the author have personal preference for higher calories recipes)\n",
    "\"\"\"\n",
    "# therefore we have a scatter plot with the correlation value at the title\n",
    "spearman_r = stats.spearmanr(t3_df[['pp', 'cals']].values)\n",
    "plt.figure()\n",
    "t3_df.plot.scatter(x='pp', y='cals')\n",
    "plt.title('Scatter plot of personal points vs calories, spearman: {0:1.3g}, p-val: {1:1.3g}'.format(\n",
    "    spearman_r.correlation,\n",
    "    spearman_r.pvalue\n",
    "))"
   ],
   "metadata": {
    "colab": {
     "base_uri": "https://localhost:8080/",
     "height": 330
    },
    "id": "48GCzi7ayXNS",
    "outputId": "2827cd8a-9db1-45e7-dfa6-d1ce4b08e2d0",
    "pycharm": {
     "name": "#%%\n"
    }
   },
   "execution_count": null,
   "outputs": [
    {
     "output_type": "execute_result",
     "data": {
      "text/plain": [
       "Text(0.5, 1.0, 'Scatter plot of personal points vs calories, spearman: 0.562, p-val: 2.39e-06')"
      ]
     },
     "metadata": {},
     "execution_count": 11
    },
    {
     "output_type": "display_data",
     "data": {
      "text/plain": [
       "<Figure size 432x288 with 0 Axes>"
      ]
     },
     "metadata": {}
    },
    {
     "output_type": "display_data",
     "data": {
      "text/plain": [
       "<Figure size 432x288 with 1 Axes>"
      ],
      "image/png": "[encoded data removed]"
     },
     "metadata": {
      "needs_background": "light"
     }
    }
   ]
  },
  {
   "cell_type": "code",
   "source": [
    "\"\"\"\n",
    "Task 4 - implementation\n",
    "idea: \n",
    "jupyter widget for user interaction with filtering calories and personal points\n",
    "only top 5 calorie menus are selected, then sort the 5 in ascending order. \n",
    "path_to_html is used to convert image link into html tag\n",
    "the entire dataframe is then returned as html for displaying image \n",
    "\"\"\"\n",
    "import ipywidgets as widgets\n",
    "t4_df = t3_df # change your df here\n",
    "# initialize slider for task4 widget \n",
    "calorie_slider = widgets.IntRangeSlider(value=[0,t4_df['cals'].max()], min=0, max=t4_df['cals'].max())\n",
    "points_slider = widgets.IntRangeSlider(value=[0,t4_df['pp'].max()], min=0, max=t4_df['pp'].max())\n",
    "\n",
    "def path_to_image_html(path: str) -> str:\n",
    "    return '<img src=\"'+ path + '\" width=\"60\" >'    \n",
    "\n",
    "def task4_warpper(t4_df): # basically to inject t4_df before making wiget \n",
    "  @widgets.interact(cal_range=calorie_slider, points_range=points_slider)\n",
    "  def task4(cal_range, points_range):\n",
    "    # filters - cal, pp \n",
    "    cal_f = t4_df[(t4_df['cals'] <= cal_range[1]) & (t4_df['cals'] >= cal_range[0])]\n",
    "    fil_df = cal_f[(cal_f['pp'] <= points_range[1]) & (cal_f['pp'] >= points_range[0])]\n",
    "    # select top 5 calories\n",
    "    results = fil_df.sort_values(by='cals', ascending=False)[:5][['name','img', 'summary', 'cals', 'pp']]\n",
    "    # sort them for return by ascending order in term of calories\n",
    "    # based on this https://moodle.abo.fi/mod/forum/discuss.php?d=202414\n",
    "    results = results.sort_values(by='cals', ascending=True)\n",
    "    return HTML(results.to_html(escape=False,formatters=dict(img=path_to_image_html)))\n",
    "  return task4\n",
    "\n",
    "# HTML(df.to_html(escape=False,formatters=dict(img=path_to_image_html)))\n",
    "task4_warpper(t4_df)"
   ],
   "metadata": {
    "id": "JZAcSCAu9LO6",
    "colab": {
     "base_uri": "https://localhost:8080/",
     "height": 673,
     "referenced_widgets": [
      "53a2606837e64def9c2ffdfb8a186fcd",
      "5c7aad8469424d8da7d6a426b3cb52af",
      "e88add0f97794f14ab93deb0a97faa0c",
      "90fd38e4b9464f7ba8cb0471d46e9976",
      "f19c4abdc74e4d53afd4c7c90c8ead6c",
      "b3e289c15a4144dda8be0ee08204de9c",
      "c377e31a7a104fd68916f31243666b38",
      "ff76c59b91ec4388b9eba10987c79c14",
      "ae23182d85804485bfc2f803b2d17940",
      "06e0b59de0de45d0b550b585a2c2ae81"
     ]
    },
    "outputId": "2073d2f3-2bd2-4e36-c837-02561bc4b5df",
    "pycharm": {
     "name": "#%%\n"
    }
   },
   "execution_count": null,
   "outputs": [
    {
     "output_type": "display_data",
     "data": {
      "text/plain": [
       "interactive(children=(IntRangeSlider(value=(0, 462), description='cal_range', max=462), IntRangeSlider(value=(…"
      ],
      "application/vnd.jupyter.widget-view+json": {
       "version_major": 2,
       "version_minor": 0,
       "model_id": "53a2606837e64def9c2ffdfb8a186fcd"
      }
     },
     "metadata": {}
    },
    {
     "output_type": "execute_result",
     "data": {
      "text/plain": [
       "<function __main__.task4_warpper.<locals>.task4(cal_range, points_range)>"
      ]
     },
     "metadata": {},
     "execution_count": 12
    }
   ]
  },
  {
   "cell_type": "code",
   "source": [],
   "metadata": {
    "id": "8jjE-djyJrlW",
    "pycharm": {
     "name": "#%%\n"
    }
   },
   "execution_count": null,
   "outputs": []
  }
 ]
}