{
 "cells": [
  {
   "cell_type": "code",
   "execution_count": 156,
   "outputs": [],
   "source": [
    "import pandas as pd\n",
    "import seaborn as sns\n",
    "import scipy.stats as S\n",
    "import statsmodels\n",
    "import matplotlib.pyplot as plt\n",
    "import numpy as np\n",
    "from sklearn.feature_selection import VarianceThreshold\n",
    "from sklearn.ensemble import RandomForestClassifier\n",
    "from sklearn import svm\n",
    "from sklearn.model_selection import KFold\n",
    "from sklearn.metrics import confusion_matrix\n",
    "import sklearn.preprocessing as skp"
   ],
   "metadata": {
    "collapsed": false,
    "pycharm": {
     "name": "#%%\n"
    }
   }
  },
  {
   "cell_type": "code",
   "execution_count": 156,
   "outputs": [],
   "source": [],
   "metadata": {
    "collapsed": false,
    "pycharm": {
     "name": "#%%\n"
    }
   }
  },
  {
   "cell_type": "code",
   "execution_count": 157,
   "outputs": [],
   "source": [
    "# ! pip install statsmodels"
   ],
   "metadata": {
    "collapsed": false,
    "pycharm": {
     "name": "#%%\n"
    }
   }
  },
  {
   "cell_type": "markdown",
   "source": [
    "# Import and Preprocessing\n",
    "user please put the data in where we can import it directly or change the data_path var"
   ],
   "metadata": {
    "collapsed": false,
    "pycharm": {
     "name": "#%% md\n"
    }
   }
  },
  {
   "cell_type": "code",
   "execution_count": 158,
   "outputs": [],
   "source": [
    "data_path = 'MP2_Data.csv'\n",
    "df = pd.read_csv(data_path)"
   ],
   "metadata": {
    "collapsed": false,
    "pycharm": {
     "name": "#%%\n"
    }
   }
  },
  {
   "cell_type": "code",
   "execution_count": 693,
   "outputs": [],
   "source": [
    "dfo = pd.read_csv(data_path)"
   ],
   "metadata": {
    "collapsed": false,
    "pycharm": {
     "name": "#%%\n"
    }
   }
  },
  {
   "cell_type": "markdown",
   "source": [
    "# EDA"
   ],
   "metadata": {
    "collapsed": false,
    "pycharm": {
     "name": "#%% md\n"
    }
   }
  },
  {
   "cell_type": "code",
   "execution_count": 694,
   "outputs": [
    {
     "data": {
      "text/plain": "             ID  Week2_Quiz1  Week3_MP1  Week3_PR1  Week5_MP2  Week5_PR2  \\\n0     ML-2020-1         5.00       15.0        5.0      16.09       5.00   \n1     ML-2020-2         3.33       15.0        5.0      17.83       5.00   \n2     ML-2020-3         1.67       13.0        5.0      15.22       5.00   \n3     ML-2020-4         2.50       14.0        5.0      10.00       5.00   \n4     ML-2020-6         0.00       15.0        5.0      12.17       4.93   \n..          ...          ...        ...        ...        ...        ...   \n102  ML-2020-60         0.00        0.0        0.0       0.00       0.00   \n103  ML-2020-58         0.00        0.0        0.0       0.00       0.00   \n104  ML-2020-94         0.00        0.0        0.0       0.00       0.00   \n105   ML-2020-9         0.00        0.0        0.0       0.00       0.00   \n106  ML-2020-86         0.00        0.0        0.0       0.00       0.00   \n\n     Week7_MP3  Week7_PR3  Week4_Quiz2  Week6_Quiz3  ...  Week7_Stat3  \\\n0        21.88        5.0         5.00          5.0  ...            0   \n1        22.27        5.0         4.00          5.0  ...            8   \n2        27.05        2.5         5.00          5.0  ...            0   \n3        31.02        5.0         3.13          5.0  ...            4   \n4        15.91        5.0         4.67          5.0  ...            6   \n..         ...        ...          ...          ...  ...          ...   \n102       0.00        0.0         0.00          0.0  ...            0   \n103       0.00        0.0         0.00          0.0  ...            0   \n104       0.00        0.0         0.00          0.0  ...            0   \n105       0.00        0.0         0.00          0.0  ...            0   \n106       0.00        0.0         0.00          0.0  ...            0   \n\n     Week8_Stat0  Week8_Stat1  Week8_Stat2  Week8_Stat3  Week9_Stat0  \\\n0              5            4            0            4            8   \n1              5            2            0            0           25   \n2              8            2            0            0            9   \n3             10            0            0            0            7   \n4              8            5            1            1            5   \n..           ...          ...          ...          ...          ...   \n102           28            0           22            0            1   \n103            0            0            0            0            3   \n104            0            0            0            0            0   \n105            0            0            0            0            6   \n106            0            0            0            0            0   \n\n     Week9_Stat1  Week9_Stat2  Week9_Stat3  Grade  \n0              6            1            0      4  \n1              3            2            5      4  \n2              0            1            0      3  \n3              6            0            0      3  \n4              3            1            0      2  \n..           ...          ...          ...    ...  \n102            0            0            0      0  \n103            0            0            0      0  \n104            0            0            0      0  \n105            0            0            0      0  \n106            0            0            0      0  \n\n[107 rows x 48 columns]",
      "text/html": "<div>\n<style scoped>\n    .dataframe tbody tr th:only-of-type {\n        vertical-align: middle;\n    }\n\n    .dataframe tbody tr th {\n        vertical-align: top;\n    }\n\n    .dataframe thead th {\n        text-align: right;\n    }\n</style>\n<table border=\"1\" class=\"dataframe\">\n  <thead>\n    <tr style=\"text-align: right;\">\n      <th></th>\n      <th>ID</th>\n      <th>Week2_Quiz1</th>\n      <th>Week3_MP1</th>\n      <th>Week3_PR1</th>\n      <th>Week5_MP2</th>\n      <th>Week5_PR2</th>\n      <th>Week7_MP3</th>\n      <th>Week7_PR3</th>\n      <th>Week4_Quiz2</th>\n      <th>Week6_Quiz3</th>\n      <th>...</th>\n      <th>Week7_Stat3</th>\n      <th>Week8_Stat0</th>\n      <th>Week8_Stat1</th>\n      <th>Week8_Stat2</th>\n      <th>Week8_Stat3</th>\n      <th>Week9_Stat0</th>\n      <th>Week9_Stat1</th>\n      <th>Week9_Stat2</th>\n      <th>Week9_Stat3</th>\n      <th>Grade</th>\n    </tr>\n  </thead>\n  <tbody>\n    <tr>\n      <th>0</th>\n      <td>ML-2020-1</td>\n      <td>5.00</td>\n      <td>15.0</td>\n      <td>5.0</td>\n      <td>16.09</td>\n      <td>5.00</td>\n      <td>21.88</td>\n      <td>5.0</td>\n      <td>5.00</td>\n      <td>5.0</td>\n      <td>...</td>\n      <td>0</td>\n      <td>5</td>\n      <td>4</td>\n      <td>0</td>\n      <td>4</td>\n      <td>8</td>\n      <td>6</td>\n      <td>1</td>\n      <td>0</td>\n      <td>4</td>\n    </tr>\n    <tr>\n      <th>1</th>\n      <td>ML-2020-2</td>\n      <td>3.33</td>\n      <td>15.0</td>\n      <td>5.0</td>\n      <td>17.83</td>\n      <td>5.00</td>\n      <td>22.27</td>\n      <td>5.0</td>\n      <td>4.00</td>\n      <td>5.0</td>\n      <td>...</td>\n      <td>8</td>\n      <td>5</td>\n      <td>2</td>\n      <td>0</td>\n      <td>0</td>\n      <td>25</td>\n      <td>3</td>\n      <td>2</td>\n      <td>5</td>\n      <td>4</td>\n    </tr>\n    <tr>\n      <th>2</th>\n      <td>ML-2020-3</td>\n      <td>1.67</td>\n      <td>13.0</td>\n      <td>5.0</td>\n      <td>15.22</td>\n      <td>5.00</td>\n      <td>27.05</td>\n      <td>2.5</td>\n      <td>5.00</td>\n      <td>5.0</td>\n      <td>...</td>\n      <td>0</td>\n      <td>8</td>\n      <td>2</td>\n      <td>0</td>\n      <td>0</td>\n      <td>9</td>\n      <td>0</td>\n      <td>1</td>\n      <td>0</td>\n      <td>3</td>\n    </tr>\n    <tr>\n      <th>3</th>\n      <td>ML-2020-4</td>\n      <td>2.50</td>\n      <td>14.0</td>\n      <td>5.0</td>\n      <td>10.00</td>\n      <td>5.00</td>\n      <td>31.02</td>\n      <td>5.0</td>\n      <td>3.13</td>\n      <td>5.0</td>\n      <td>...</td>\n      <td>4</td>\n      <td>10</td>\n      <td>0</td>\n      <td>0</td>\n      <td>0</td>\n      <td>7</td>\n      <td>6</td>\n      <td>0</td>\n      <td>0</td>\n      <td>3</td>\n    </tr>\n    <tr>\n      <th>4</th>\n      <td>ML-2020-6</td>\n      <td>0.00</td>\n      <td>15.0</td>\n      <td>5.0</td>\n      <td>12.17</td>\n      <td>4.93</td>\n      <td>15.91</td>\n      <td>5.0</td>\n      <td>4.67</td>\n      <td>5.0</td>\n      <td>...</td>\n      <td>6</td>\n      <td>8</td>\n      <td>5</td>\n      <td>1</td>\n      <td>1</td>\n      <td>5</td>\n      <td>3</td>\n      <td>1</td>\n      <td>0</td>\n      <td>2</td>\n    </tr>\n    <tr>\n      <th>...</th>\n      <td>...</td>\n      <td>...</td>\n      <td>...</td>\n      <td>...</td>\n      <td>...</td>\n      <td>...</td>\n      <td>...</td>\n      <td>...</td>\n      <td>...</td>\n      <td>...</td>\n      <td>...</td>\n      <td>...</td>\n      <td>...</td>\n      <td>...</td>\n      <td>...</td>\n      <td>...</td>\n      <td>...</td>\n      <td>...</td>\n      <td>...</td>\n      <td>...</td>\n      <td>...</td>\n    </tr>\n    <tr>\n      <th>102</th>\n      <td>ML-2020-60</td>\n      <td>0.00</td>\n      <td>0.0</td>\n      <td>0.0</td>\n      <td>0.00</td>\n      <td>0.00</td>\n      <td>0.00</td>\n      <td>0.0</td>\n      <td>0.00</td>\n      <td>0.0</td>\n      <td>...</td>\n      <td>0</td>\n      <td>28</td>\n      <td>0</td>\n      <td>22</td>\n      <td>0</td>\n      <td>1</td>\n      <td>0</td>\n      <td>0</td>\n      <td>0</td>\n      <td>0</td>\n    </tr>\n    <tr>\n      <th>103</th>\n      <td>ML-2020-58</td>\n      <td>0.00</td>\n      <td>0.0</td>\n      <td>0.0</td>\n      <td>0.00</td>\n      <td>0.00</td>\n      <td>0.00</td>\n      <td>0.0</td>\n      <td>0.00</td>\n      <td>0.0</td>\n      <td>...</td>\n      <td>0</td>\n      <td>0</td>\n      <td>0</td>\n      <td>0</td>\n      <td>0</td>\n      <td>3</td>\n      <td>0</td>\n      <td>0</td>\n      <td>0</td>\n      <td>0</td>\n    </tr>\n    <tr>\n      <th>104</th>\n      <td>ML-2020-94</td>\n      <td>0.00</td>\n      <td>0.0</td>\n      <td>0.0</td>\n      <td>0.00</td>\n      <td>0.00</td>\n      <td>0.00</td>\n      <td>0.0</td>\n      <td>0.00</td>\n      <td>0.0</td>\n      <td>...</td>\n      <td>0</td>\n      <td>0</td>\n      <td>0</td>\n      <td>0</td>\n      <td>0</td>\n      <td>0</td>\n      <td>0</td>\n      <td>0</td>\n      <td>0</td>\n      <td>0</td>\n    </tr>\n    <tr>\n      <th>105</th>\n      <td>ML-2020-9</td>\n      <td>0.00</td>\n      <td>0.0</td>\n      <td>0.0</td>\n      <td>0.00</td>\n      <td>0.00</td>\n      <td>0.00</td>\n      <td>0.0</td>\n      <td>0.00</td>\n      <td>0.0</td>\n      <td>...</td>\n      <td>0</td>\n      <td>0</td>\n      <td>0</td>\n      <td>0</td>\n      <td>0</td>\n      <td>6</td>\n      <td>0</td>\n      <td>0</td>\n      <td>0</td>\n      <td>0</td>\n    </tr>\n    <tr>\n      <th>106</th>\n      <td>ML-2020-86</td>\n      <td>0.00</td>\n      <td>0.0</td>\n      <td>0.0</td>\n      <td>0.00</td>\n      <td>0.00</td>\n      <td>0.00</td>\n      <td>0.0</td>\n      <td>0.00</td>\n      <td>0.0</td>\n      <td>...</td>\n      <td>0</td>\n      <td>0</td>\n      <td>0</td>\n      <td>0</td>\n      <td>0</td>\n      <td>0</td>\n      <td>0</td>\n      <td>0</td>\n      <td>0</td>\n      <td>0</td>\n    </tr>\n  </tbody>\n</table>\n<p>107 rows × 48 columns</p>\n</div>"
     },
     "execution_count": 694,
     "metadata": {},
     "output_type": "execute_result"
    }
   ],
   "source": [
    "dfo"
   ],
   "metadata": {
    "collapsed": false,
    "pycharm": {
     "name": "#%%\n"
    }
   }
  },
  {
   "cell_type": "code",
   "execution_count": 159,
   "outputs": [
    {
     "data": {
      "text/plain": "True"
     },
     "execution_count": 159,
     "metadata": {},
     "output_type": "execute_result"
    }
   ],
   "source": [
    "# check nulls or empty\n",
    "# result no null or empty\n",
    "df.dropna().shape[0] == df.dropna().shape[0]"
   ],
   "metadata": {
    "collapsed": false,
    "pycharm": {
     "name": "#%%\n"
    }
   }
  },
  {
   "cell_type": "code",
   "execution_count": 160,
   "outputs": [
    {
     "name": "stdout",
     "output_type": "stream",
     "text": [
      "unique in ID ['ML-2020-1' 'ML-2020-2' 'ML-2020-3' 'ML-2020-4' 'ML-2020-6' 'ML-2020-7'\n",
      " 'ML-2020-8' 'ML-2020-11' 'ML-2020-13' 'ML-2020-14' 'ML-2020-16'\n",
      " 'ML-2020-17' 'ML-2020-18' 'ML-2020-21' 'ML-2020-22' 'ML-2020-23'\n",
      " 'ML-2020-25' 'ML-2020-26' 'ML-2020-28' 'ML-2020-29' 'ML-2020-30'\n",
      " 'ML-2020-32' 'ML-2020-33' 'ML-2020-34' 'ML-2020-35' 'ML-2020-36'\n",
      " 'ML-2020-37' 'ML-2020-38' 'ML-2020-40' 'ML-2020-41' 'ML-2020-42'\n",
      " 'ML-2020-43' 'ML-2020-44' 'ML-2020-45' 'ML-2020-46' 'ML-2020-47'\n",
      " 'ML-2020-48' 'ML-2020-51' 'ML-2020-52' 'ML-2020-53' 'ML-2020-54'\n",
      " 'ML-2020-55' 'ML-2020-56' 'ML-2020-59' 'ML-2020-62' 'ML-2020-64'\n",
      " 'ML-2020-65' 'ML-2020-67' 'ML-2020-68' 'ML-2020-69' 'ML-2020-70'\n",
      " 'ML-2020-71' 'ML-2020-72' 'ML-2020-73' 'ML-2020-75' 'ML-2020-76'\n",
      " 'ML-2020-77' 'ML-2020-78' 'ML-2020-79' 'ML-2020-81' 'ML-2020-82'\n",
      " 'ML-2020-83' 'ML-2020-84' 'ML-2020-85' 'ML-2020-87' 'ML-2020-88'\n",
      " 'ML-2020-90' 'ML-2020-91' 'ML-2020-92' 'ML-2020-93' 'ML-2020-95'\n",
      " 'ML-2020-97' 'ML-2020-98' 'ML-2020-100' 'ML-2020-102' 'ML-2020-103'\n",
      " 'ML-2020-104' 'ML-2020-105' 'ML-2020-74' 'ML-2020-99' 'ML-2020-66'\n",
      " 'ML-2020-101' 'ML-2020-31' 'ML-2020-19' 'ML-2020-24' 'ML-2020-50'\n",
      " 'ML-2020-5' 'ML-2020-15' 'ML-2020-20' 'ML-2020-12' 'ML-2020-61'\n",
      " 'ML-2020-89' 'ML-2020-96' 'ML-2020-57' 'ML-2020-39' 'ML-2020-63'\n",
      " 'ML-2020-80' 'ML-2020-10' 'ML-2020-107' 'ML-2020-27' 'ML-2020-49'\n",
      " 'ML-2020-106' 'ML-2020-60' 'ML-2020-58' 'ML-2020-94' 'ML-2020-9'\n",
      " 'ML-2020-86']\n",
      "unique in Week2_Quiz1 [5.   3.33 1.67 2.5  0.   4.17 3.32]\n",
      "unique in Week3_MP1 [15.   13.   14.    0.   12.   11.   14.61  9.   10.  ]\n",
      "unique in Week3_PR1 [5. 0.]\n",
      "unique in Week5_MP2 [16.09 17.83 15.22 10.   12.17 14.78  0.   20.   19.57 19.13 18.7  17.39\n",
      " 11.74 13.33 16.52  8.7  19.42 10.87 15.65 14.35 18.26  7.39 13.91  6.96\n",
      " 16.96]\n",
      "unique in Week5_PR2 [5.   4.93 0.   4.72 4.9 ]\n",
      "unique in Week7_MP3 [21.88 22.27 27.05 31.02 15.91 15.51  0.   35.   34.6  24.66 34.2  32.61\n",
      " 29.43 27.84 22.67 30.63 27.44 26.65 16.7   3.18 21.48 19.09 23.86 13.52\n",
      " 29.83 11.14 18.3  32.22 14.72 33.01 23.47 21.08 25.85 28.64 28.24]\n",
      "unique in Week7_PR3 [5.  2.5 0. ]\n",
      "unique in Week4_Quiz2 [5.   4.   3.13 4.67 0.   4.71 2.71 4.33 2.5  4.38 4.17 3.17 4.5  3.67\n",
      " 3.38 2.55 2.75 3.5  4.05 3.83 3.15 4.25 3.  ]\n",
      "unique in Week6_Quiz3 [5.  4.5 0.  4.  1.5 3.  3.5]\n",
      "unique in Week8_Total [82.97 82.43 79.44 80.65 67.68 71.79  0.   99.71 85.31 78.5   3.33 96.24\n",
      " 92.99 89.78 93.13 89.4  81.62  5.   35.   80.04 81.48 85.32 80.87 59.87\n",
      " 80.18 38.33 82.9  71.96 96.55  1.67 82.91  7.   91.   80.8  74.04 88.11\n",
      " 94.5  72.44 92.04 82.17 85.65 73.51 83.77 62.15 92.76 85.86 71.53 98.3\n",
      " 83.33 67.47 94.27 66.66  9.5  85.81  8.22 80.97 89.05 80.21 29.2  87.37\n",
      " 74.78  4.17 80.13 82.77 97.13 86.34 81.4  99.17 88.85 90.24]\n",
      "unique in Week1_Stat0 [ 0  8  4 12  6  1 19  3 17 18 26 10  9 15 14 11 20 21 13 23  5  2  7 27\n",
      " 16]\n",
      "unique in Week1_Stat1 [0]\n",
      "unique in Week1_Stat2 [ 0  2  1  6  4 11]\n",
      "unique in Week1_Stat3 [0 1 2 6]\n",
      "unique in Week2_Stat0 [  7  61  19  30   0  35  16   3  11  26  23  55  18  10  28  15  32   6\n",
      "  12   8  42  24  20  43  25  17  45  13  50   9  56  14  29 104  52   2\n",
      "  22]\n",
      "unique in Week2_Stat1 [30 10  0 12 20 17 21 57 32 25 24 18 19 23 16 14 41 50 40 28 46 11 13 22\n",
      " 27]\n",
      "unique in Week2_Stat2 [ 1  3  0  2  9  4  5 10]\n",
      "unique in Week2_Stat3 [ 0  8  3  6  1 11  2  5 20  4 25 23]\n",
      "unique in Week3_Stat0 [ 30 100  25  79  27  50   0  80  51  38   4  44   3  72  77  92  47  46\n",
      "  45   7  66  58  13  31 108  37  48   8  16  63  57  93  71  26  88  24\n",
      "  28  35  55  15  68   2  43  32  11  59  20  34  42  86  33   1  23  19\n",
      "  61 103   5  10   9]\n",
      "unique in Week3_Stat1 [ 4  5  0  9 15 10  8  6]\n",
      "unique in Week3_Stat2 [ 0  4  2  1  5  3 11 15  7]\n",
      "unique in Week3_Stat3 [ 0  3  2  4  5  1  7 14  6]\n",
      "unique in Week4_Stat0 [ 14 130  50 240   6 113   0  41  17  27  12   1  98  89  86  62  56 117\n",
      " 167  93  30  57  22 105  90  61  71  21  28  34   8  99  46  81  97 104\n",
      "  20 111  26  38  82  52  47  58  16  29  42  78   4  48  69  79  19  40\n",
      " 108  55 196  33  85   2   5]\n",
      "unique in Week4_Stat1 [39 16 19 27 15 21  0 14 24 33 51 31 38 17  9 59 49 22 23 28 11 37 32 18\n",
      " 25  3 35 34  4 36 54 42 30 13 87 20  5]\n",
      "unique in Week4_Stat2 [ 2  1  0  3 11  6  7  4  5 13 12]\n",
      "unique in Week4_Stat3 [ 0  4  2  1  3  5  9 24]\n",
      "unique in Week5_Stat0 [ 24  48  28  47  32   0  62  23   6  11  31  50  59  20  33  22  72  25\n",
      "  14  15  38  13  84  21  41  57 106  86  46 185  40 114   9  85  87  18\n",
      "  37  44  53  56  68  45  60  39  66   2   1  16]\n",
      "unique in Week5_Stat1 [ 6 19  4 12  5  0 11 17 23  2  7  8 14 22 39 10  9 20 13 28]\n",
      "unique in Week5_Stat2 [ 1  5  0  3  2  4 23 15 17  7 13 11]\n",
      "unique in Week5_Stat3 [ 0  5  2  1  8  7 11  3]\n",
      "unique in Week6_Stat0 [ 28  57  14  99  22  71   0  43   9  21  73  49  95 118  93  20  19  72\n",
      " 208 104  13   7 134 141  24  91 175 135  89  52 185  18  10 152  77  67\n",
      "  81  11  63  60  47  96  39 123  79   1  26  27   3]\n",
      "unique in Week6_Stat1 [30 22 20 19 18 21  0  2 41 23 37 46 34 25 11 24 26 51 32 15 38 29 31 33\n",
      " 36 48 13 14  3 17  9 16]\n",
      "unique in Week6_Stat2 [ 2  4  1  0 27  7 15 45 41 11 32  3  5]\n",
      "unique in Week6_Stat3 [0 4 2 1 7 5 6]\n",
      "unique in Week7_Stat0 [  2  31  12  29  43  33   0  47  24   4  21  32  13  15  34   8  30   6\n",
      "  38  40  25   7   1 120  23  16  14  44  18  22  35  26  28  10  57  36\n",
      "   3  17  20  11 145  64]\n",
      "unique in Week7_Stat1 [ 0  9  4  5 24  7  6 11 10 23  3  1  8  2 21 12 15 19]\n",
      "unique in Week7_Stat2 [ 1  0  5  3  2  8 35 28  4 11 12]\n",
      "unique in Week7_Stat3 [ 0  8  4  6  3  2  1 10 12  9]\n",
      "unique in Week8_Stat0 [ 5  8 10 12  0 21 14  6  4  1 37 55 31 26 19 11  9 17  7 45 44  3 16 42\n",
      " 34 29 90 72 23 22 27 28]\n",
      "unique in Week8_Stat1 [ 4  2  0  5 12  9 13  7  6  3  1 15 14 27 10 11]\n",
      "unique in Week8_Stat2 [ 0  1 11  3  2 22 12  4  5]\n",
      "unique in Week8_Stat3 [4 0 1 9 2 5]\n",
      "unique in Week9_Stat0 [ 8 25  9  7  5  1 15 12 23  0 14 28  3  6 11  2 30 10 27  4 62 20 17 24\n",
      " 13 16]\n",
      "unique in Week9_Stat1 [ 6  3  0  2  9  5  1  7 11  4 12]\n",
      "unique in Week9_Stat2 [ 1  2  0  5 10 15  3 25  8  4 11]\n",
      "unique in Week9_Stat3 [0 5]\n",
      "unique in Grade [4 3 2 0 5]\n"
     ]
    }
   ],
   "source": [
    "# print all uniques from each columns to see their values\n",
    "for c in df.columns:\n",
    "    print(\"unique in {}\".format(c), df[c].unique())"
   ],
   "metadata": {
    "collapsed": false,
    "pycharm": {
     "name": "#%%\n"
    }
   }
  },
  {
   "cell_type": "code",
   "execution_count": 207,
   "outputs": [
    {
     "data": {
      "text/plain": "Text(0.5, 1.0, '0 count in peer review progression')"
     },
     "execution_count": 207,
     "metadata": {},
     "output_type": "execute_result"
    },
    {
     "data": {
      "text/plain": "<Figure size 432x288 with 1 Axes>",
      "image/png": "[encoded data removed]"
     },
     "metadata": {
      "needs_background": "light"
     },
     "output_type": "display_data"
    },
    {
     "data": {
      "text/plain": "<Figure size 432x288 with 0 Axes>"
     },
     "metadata": {},
     "output_type": "display_data"
    },
    {
     "data": {
      "text/plain": "<Figure size 432x288 with 1 Axes>",
      "image/png": "[encoded data removed]"
     },
     "metadata": {
      "needs_background": "light"
     },
     "output_type": "display_data"
    },
    {
     "data": {
      "text/plain": "<Figure size 432x288 with 0 Axes>"
     },
     "metadata": {},
     "output_type": "display_data"
    },
    {
     "data": {
      "text/plain": "<Figure size 432x288 with 1 Axes>",
      "image/png": "[encoded data removed]"
     },
     "metadata": {
      "needs_background": "light"
     },
     "output_type": "display_data"
    },
    {
     "data": {
      "text/plain": "<Figure size 432x288 with 0 Axes>"
     },
     "metadata": {},
     "output_type": "display_data"
    },
    {
     "data": {
      "text/plain": "<Figure size 432x288 with 1 Axes>",
      "image/png": "[encoded data removed]"
     },
     "metadata": {
      "needs_background": "light"
     },
     "output_type": "display_data"
    }
   ],
   "source": [
    "\"\"\"\n",
    "single variable distribution on all columns\n",
    "How?\n",
    "for floating value - box plot,\n",
    "for integers, histogram\n",
    "\n",
    "we can group columns into categories\n",
    "first we do it by quiz grade and plot them together since they are comparable\n",
    "then we plot the project grades\n",
    "final grade we and week 8 total we can put them together because total is the representative of the actual grade\n",
    "\"\"\"\n",
    "q_cols = ['Week2_Quiz1', 'Week4_Quiz2', 'Week6_Quiz3']\n",
    "mp_cols = ['Week3_MP1','Week5_MP2', 'Week7_MP3']\n",
    "pr_cols = ['Week3_PR1', 'Week5_PR2', 'Week7_PR3']\n",
    "wstats_cols = df.columns[11:-1].tolist()\n",
    "# plot quiz score boxplot\n",
    "\"\"\"\n",
    "from histogram,\n",
    "it seems like you either get 4 and above for quiz or just get 0\n",
    "the inbetween becomes more severe as quiz goes on.\n",
    "example:\n",
    "first quiz the number of people who got between 4 and 5 is about 11%\n",
    "while the number of people who get between 0 and 1 is about the same or slightly higher at 12%\n",
    "by the end (6th week), the number of people who get between 4 and 5 rose to almost 17.5%\n",
    "while the people who got between 0 and 1 is at almost 15%\n",
    "this can be indication of people taking the class more seriously or some more people dropped from the course.\n",
    "\"\"\"\n",
    "ax = sns.histplot(df[q_cols].melt(), x='value', hue='variable', bins=5, stat='density')\n",
    "ax.set_title('quizzes comparison histogram plot')\n",
    "\"\"\"\n",
    "we shall then ask ourselves, do people drop from the course more as time goes by?\n",
    "logical reasoning says yes.\n",
    "how do we measure this?\n",
    "going with the same columns\n",
    "we can simply measure the  number of 0 from each quiz\n",
    "we then can do the same for mini project and peer review.\n",
    "we can then check the weekly stats and we SHOULD see the frequencies of 0 rising up\n",
    "so let's code\n",
    "\"\"\"\n",
    "\"\"\"\n",
    "thinking the first 2 plots confirm that\n",
    "there is an increase of 0 as times goes on.\n",
    "the weird part is the sudden decrease in peer review but that is only for 1.\n",
    "\"\"\"\n",
    "plt.figure()\n",
    "stat = {}\n",
    "for c in q_cols:\n",
    "    stat[c] = df[df[c] == 0].shape[0]\n",
    "ax = pd.DataFrame(stat, index=[0]).transpose().plot(kind='line')\n",
    "ax.set_title('0 count in quiz progression')\n",
    "plt.figure()\n",
    "stat = {}\n",
    "for c in mp_cols:\n",
    "    stat[c] = df[df[c] == 0].shape[0]\n",
    "ax = pd.DataFrame(stat, index=[0]).transpose().plot(kind='line')\n",
    "ax.set_title('0 count in project progression')\n",
    "plt.figure()\n",
    "stat = {}\n",
    "for c in pr_cols:\n",
    "    stat[c] = df[df[c] == 0].shape[0]\n",
    "ax = pd.DataFrame(stat, index=[0]).transpose().plot(kind='line')\n",
    "ax.set_title('0 count in peer review progression')"
   ],
   "metadata": {
    "collapsed": false,
    "pycharm": {
     "name": "#%%\n"
    }
   }
  },
  {
   "cell_type": "code",
   "execution_count": 162,
   "outputs": [
    {
     "name": "stdout",
     "output_type": "stream",
     "text": [
      "All same data: True\n"
     ]
    },
    {
     "data": {
      "text/plain": "Text(0.5, 1.0, 'Box plot of grade vs week 8 total')"
     },
     "execution_count": 162,
     "metadata": {},
     "output_type": "execute_result"
    },
    {
     "data": {
      "text/plain": "<Figure size 432x288 with 1 Axes>",
      "image/png": "[encoded data removed]"
     },
     "metadata": {
      "needs_background": "light"
     },
     "output_type": "display_data"
    },
    {
     "data": {
      "text/plain": "<Figure size 432x288 with 1 Axes>",
      "image/png": "[encoded data removed]"
     },
     "metadata": {
      "needs_background": "light"
     },
     "output_type": "display_data"
    }
   ],
   "source": [
    "\"\"\"\n",
    "since week8_total seem to be the score accumulated over the course tasks,\n",
    "let us take a look of the score vs grade and if week 8 score is the true score for grade\n",
    "from further scrutiny, the grade cut off seems to be at\n",
    "x1 and not x0 example: 3 to 4 require 81 rather than 80\n",
    "so week8 total is a good indicator for predicting grade\n",
    "However, I believe that week8_total is actually a label too rather than a predictor variable\n",
    "so we create a surrogate variable for week8_total by adding up all quiz and peer review score\n",
    "\n",
    "then we check if the value from the sum and the week8 total column has the same values\n",
    "np.isclose is used to bypass floating point error\n",
    "we check if there is only true value in resulting comparison and it turns out to be true\n",
    "\"\"\"\n",
    "new_score = df[q_cols + mp_cols + pr_cols].sum(axis=1)\n",
    "print('All same data:', pd.Series(np.isclose(new_score, df['Week8_Total'])).unique().shape[0] == 1)\n",
    "ax = sns.boxplot(df, x='Grade', y='Week8_Total')\n",
    "ax.set_title('Box plot of grade vs week 8 total')\n",
    "plt.figure()\n",
    "ax = sns.scatterplot(df, x='Grade', y='Week8_Total', hue='Grade')\n",
    "ax.set_title('Box plot of grade vs week 8 total')"
   ],
   "metadata": {
    "collapsed": false,
    "pycharm": {
     "name": "#%%\n"
    }
   }
  },
  {
   "cell_type": "code",
   "execution_count": 695,
   "outputs": [
    {
     "name": "stdout",
     "output_type": "stream",
     "text": [
      "All same data: True\n"
     ]
    }
   ],
   "source": [
    "new_score = df[q_cols + mp_cols + pr_cols].sum(axis=1)\n",
    "print('All same data:', pd.Series(np.isclose(new_score, df['Week8_Total'])).unique().shape[0] == 1)"
   ],
   "metadata": {
    "collapsed": false,
    "pycharm": {
     "name": "#%%\n"
    }
   }
  },
  {
   "cell_type": "code",
   "execution_count": null,
   "outputs": [],
   "source": [],
   "metadata": {
    "collapsed": false,
    "pycharm": {
     "name": "#%%\n"
    }
   }
  },
  {
   "cell_type": "markdown",
   "source": [
    "# Feature Engineering\n",
    "\n",
    "just like can we sum up weekly scores and make it good?\n"
   ],
   "metadata": {
    "collapsed": false,
    "pycharm": {
     "name": "#%% md\n"
    }
   }
  },
  {
   "cell_type": "code",
   "execution_count": 452,
   "outputs": [
    {
     "data": {
      "text/plain": "Index(['ID', 'Week2_Quiz1', 'Week3_MP1', 'Week3_PR1', 'Week5_MP2', 'Week5_PR2',\n       'Week7_MP3', 'Week7_PR3', 'Week4_Quiz2', 'Week6_Quiz3', 'Week8_Total',\n       'Week1_Stat0', 'Week1_Stat1', 'Week1_Stat2', 'Week1_Stat3',\n       'Week2_Stat0', 'Week2_Stat1', 'Week2_Stat2', 'Week2_Stat3',\n       'Week3_Stat0', 'Week3_Stat1', 'Week3_Stat2', 'Week3_Stat3',\n       'Week4_Stat0', 'Week4_Stat1', 'Week4_Stat2', 'Week4_Stat3',\n       'Week5_Stat0', 'Week5_Stat1', 'Week5_Stat2', 'Week5_Stat3',\n       'Week6_Stat0', 'Week6_Stat1', 'Week6_Stat2', 'Week6_Stat3',\n       'Week7_Stat0', 'Week7_Stat1', 'Week7_Stat2', 'Week7_Stat3',\n       'Week8_Stat0', 'Week8_Stat1', 'Week8_Stat2', 'Week8_Stat3',\n       'Week9_Stat0', 'Week9_Stat1', 'Week9_Stat2', 'Week9_Stat3', 'Grade'],\n      dtype='object')"
     },
     "execution_count": 452,
     "metadata": {},
     "output_type": "execute_result"
    }
   ],
   "source": [
    "df.columns"
   ],
   "metadata": {
    "collapsed": false,
    "pycharm": {
     "name": "#%%\n"
    }
   }
  },
  {
   "cell_type": "code",
   "execution_count": 538,
   "outputs": [],
   "source": [
    "\"\"\"\n",
    "feature to do:\n",
    "Quiz_Total, MP Total, PR Total\n",
    "WeekN_Total\n",
    "Week5_CumuTotal\n",
    "WeekN_Stat_Total\n",
    "Week5_Stat_CumuTotal\n",
    "we shall then use these WeekN to Week5 to predict if it's possible to predict grade at week5\n",
    "why week 5 - because we submit the second mini project and quiz 2 - therefore there should be an\n",
    "urgency of how well someone is doing and whether they can pass or drop the course and how well or\n",
    "how much effort they should be putting in their final project\n",
    "\n",
    "Week 5 and 3 because basically - set of grades are out.\n",
    "\n",
    "We shall also be doing this at week 3 since that is where the first set of grades are out and we can potentially see\n",
    "who are in trouble if we do not help them\n",
    "\n",
    "we shall then ask if the separate week score and stat is needed.\n",
    "we shall then ask if stat is even needed at all or grade is indicative enough: both cumu and total grade or either.\n",
    "\"\"\"\n",
    "df['Quiz_Total'] = df[q_cols].sum(axis=1)\n",
    "df['MP_Total'] = df[mp_cols].sum(axis=1)\n",
    "df['PR_Total'] = df[pr_cols].sum(axis=1)\n",
    "grade_cols1 = ['Week2_Quiz1', 'Week3_MP1', 'Week3_PR1']\n",
    "grade_cols2 = ['Week4_Quiz2', 'Week5_MP2', 'Week5_PR2']\n",
    "grade_cols3 = ['Week6_Quiz3', 'Week7_MP3', 'Week7_PR3']\n",
    "df['Week3_GradeTotal'] = df[grade_cols1].sum(axis=1)\n",
    "df['Week5_GradeTotal'] = df[grade_cols2].sum(axis=1)\n",
    "df['Week5_GradeTotalCumu'] = df[grade_cols1 + grade_cols2].sum(axis=1)\n",
    "df['Week7_GradeTotal'] = df[grade_cols3].sum(axis=1)\n",
    "week1_stat_cols = ['Week1_Stat0', 'Week1_Stat1', 'Week1_Stat2', 'Week1_Stat3']\n",
    "week2_stat_cols = ['Week2_Stat0', 'Week2_Stat1', 'Week2_Stat2', 'Week2_Stat3']\n",
    "week3_stat_cols = ['Week3_Stat0', 'Week3_Stat1', 'Week3_Stat2', 'Week3_Stat3']\n",
    "week4_stat_cols = ['Week4_Stat0', 'Week4_Stat1', 'Week4_Stat2', 'Week4_Stat3']\n",
    "week5_stat_cols = ['Week5_Stat0', 'Week5_Stat1', 'Week5_Stat2', 'Week5_Stat3']\n",
    "week6_stat_cols = ['Week6_Stat0', 'Week6_Stat1', 'Week6_Stat2', 'Week6_Stat3']\n",
    "week7_stat_cols = ['Week7_Stat0', 'Week7_Stat1', 'Week7_Stat2', 'Week7_Stat3']\n",
    "week8_stat_cols = ['Week8_Stat0', 'Week8_Stat1', 'Week8_Stat2', 'Week8_Stat3']\n",
    "week9_stat_cols = ['Week9_Stat0', 'Week9_Stat1', 'Week9_Stat2', 'Week9_Stat3']\n",
    "df['Week1_StatTotal'] = df[week1_stat_cols].sum(axis=1)\n",
    "df['Week2_StatTotal'] = df[week2_stat_cols].sum(axis=1)\n",
    "df['Week3_StatTotal'] = df[week3_stat_cols].sum(axis=1)\n",
    "df['Week4_StatTotal'] = df[week4_stat_cols].sum(axis=1)\n",
    "df['Week5_StatTotal'] = df[week5_stat_cols].sum(axis=1)\n",
    "df['Week6_StatTotal'] = df[week6_stat_cols].sum(axis=1)\n",
    "df['Week7_StatTotal'] = df[week7_stat_cols].sum(axis=1)\n",
    "df['Week8_StatTotal'] = df[week8_stat_cols].sum(axis=1)\n",
    "df['Week9_StatTotal'] = df[week9_stat_cols].sum(axis=1)\n",
    "df['Week3_StatCumu'] = df[week1_stat_cols + week2_stat_cols + week3_stat_cols].sum(axis=1)\n",
    "df['Week5_StatCumu'] = df[week1_stat_cols + week2_stat_cols + week3_stat_cols + week4_stat_cols + week5_stat_cols].sum(axis=1)"
   ],
   "metadata": {
    "collapsed": false,
    "pycharm": {
     "name": "#%%\n"
    }
   }
  },
  {
   "cell_type": "code",
   "execution_count": 539,
   "outputs": [
    {
     "data": {
      "text/plain": "             ID  Week2_Quiz1  Week3_MP1  Week3_PR1  Week5_MP2  Week5_PR2  \\\n0     ML-2020-1         5.00       15.0        5.0      16.09       5.00   \n1     ML-2020-2         3.33       15.0        5.0      17.83       5.00   \n2     ML-2020-3         1.67       13.0        5.0      15.22       5.00   \n3     ML-2020-4         2.50       14.0        5.0      10.00       5.00   \n4     ML-2020-6         0.00       15.0        5.0      12.17       4.93   \n..          ...          ...        ...        ...        ...        ...   \n102  ML-2020-60         0.00        0.0        0.0       0.00       0.00   \n103  ML-2020-58         0.00        0.0        0.0       0.00       0.00   \n104  ML-2020-94         0.00        0.0        0.0       0.00       0.00   \n105   ML-2020-9         0.00        0.0        0.0       0.00       0.00   \n106  ML-2020-86         0.00        0.0        0.0       0.00       0.00   \n\n     Week7_MP3  Week7_PR3  Week4_Quiz2  Week6_Quiz3  ...  Week4_StatTotal  \\\n0        21.88        5.0         5.00          5.0  ...               55   \n1        22.27        5.0         4.00          5.0  ...              151   \n2        27.05        2.5         5.00          5.0  ...               73   \n3        31.02        5.0         3.13          5.0  ...              270   \n4        15.91        5.0         4.67          5.0  ...               22   \n..         ...        ...          ...          ...  ...              ...   \n102       0.00        0.0         0.00          0.0  ...               35   \n103       0.00        0.0         0.00          0.0  ...               16   \n104       0.00        0.0         0.00          0.0  ...                0   \n105       0.00        0.0         0.00          0.0  ...                0   \n106       0.00        0.0         0.00          0.0  ...                0   \n\n     Week5_StatTotal  Week6_StatTotal  Week7_StatTotal  Week8_StatTotal  \\\n0                 31               60                3               13   \n1                 77               85               48                7   \n2                 36               36               16               10   \n3                 55              122               42               10   \n4                 52               43               56               15   \n..               ...              ...              ...              ...   \n102               13               20               20               50   \n103                0                0                0                0   \n104                0                0                0                0   \n105               12                0                0                0   \n106                0                0                0                0   \n\n     Week9_StatTotal  Week3_StatCumu  Week5_StatCumu  Week5_GradeTotalCumu  \\\n0                 15              72             158                 51.09   \n1                 35             201             429                 50.16   \n2                 10              70             179                 44.89   \n3                 13             147             472                 39.63   \n4                  9              38             112                 41.77   \n..               ...             ...             ...                   ...   \n102                1              40              88                  0.00   \n103                3              58              74                  0.00   \n104                0              20              20                  0.00   \n105                6              19              31                  0.00   \n106                0              16              16                  0.00   \n\n     Week7_GradeTotal  \n0               31.88  \n1               32.27  \n2               34.55  \n3               41.02  \n4               25.91  \n..                ...  \n102              0.00  \n103              0.00  \n104              0.00  \n105              0.00  \n106              0.00  \n\n[107 rows x 66 columns]",
      "text/html": "<div>\n<style scoped>\n    .dataframe tbody tr th:only-of-type {\n        vertical-align: middle;\n    }\n\n    .dataframe tbody tr th {\n        vertical-align: top;\n    }\n\n    .dataframe thead th {\n        text-align: right;\n    }\n</style>\n<table border=\"1\" class=\"dataframe\">\n  <thead>\n    <tr style=\"text-align: right;\">\n      <th></th>\n      <th>ID</th>\n      <th>Week2_Quiz1</th>\n      <th>Week3_MP1</th>\n      <th>Week3_PR1</th>\n      <th>Week5_MP2</th>\n      <th>Week5_PR2</th>\n      <th>Week7_MP3</th>\n      <th>Week7_PR3</th>\n      <th>Week4_Quiz2</th>\n      <th>Week6_Quiz3</th>\n      <th>...</th>\n      <th>Week4_StatTotal</th>\n      <th>Week5_StatTotal</th>\n      <th>Week6_StatTotal</th>\n      <th>Week7_StatTotal</th>\n      <th>Week8_StatTotal</th>\n      <th>Week9_StatTotal</th>\n      <th>Week3_StatCumu</th>\n      <th>Week5_StatCumu</th>\n      <th>Week5_GradeTotalCumu</th>\n      <th>Week7_GradeTotal</th>\n    </tr>\n  </thead>\n  <tbody>\n    <tr>\n      <th>0</th>\n      <td>ML-2020-1</td>\n      <td>5.00</td>\n      <td>15.0</td>\n      <td>5.0</td>\n      <td>16.09</td>\n      <td>5.00</td>\n      <td>21.88</td>\n      <td>5.0</td>\n      <td>5.00</td>\n      <td>5.0</td>\n      <td>...</td>\n      <td>55</td>\n      <td>31</td>\n      <td>60</td>\n      <td>3</td>\n      <td>13</td>\n      <td>15</td>\n      <td>72</td>\n      <td>158</td>\n      <td>51.09</td>\n      <td>31.88</td>\n    </tr>\n    <tr>\n      <th>1</th>\n      <td>ML-2020-2</td>\n      <td>3.33</td>\n      <td>15.0</td>\n      <td>5.0</td>\n      <td>17.83</td>\n      <td>5.00</td>\n      <td>22.27</td>\n      <td>5.0</td>\n      <td>4.00</td>\n      <td>5.0</td>\n      <td>...</td>\n      <td>151</td>\n      <td>77</td>\n      <td>85</td>\n      <td>48</td>\n      <td>7</td>\n      <td>35</td>\n      <td>201</td>\n      <td>429</td>\n      <td>50.16</td>\n      <td>32.27</td>\n    </tr>\n    <tr>\n      <th>2</th>\n      <td>ML-2020-3</td>\n      <td>1.67</td>\n      <td>13.0</td>\n      <td>5.0</td>\n      <td>15.22</td>\n      <td>5.00</td>\n      <td>27.05</td>\n      <td>2.5</td>\n      <td>5.00</td>\n      <td>5.0</td>\n      <td>...</td>\n      <td>73</td>\n      <td>36</td>\n      <td>36</td>\n      <td>16</td>\n      <td>10</td>\n      <td>10</td>\n      <td>70</td>\n      <td>179</td>\n      <td>44.89</td>\n      <td>34.55</td>\n    </tr>\n    <tr>\n      <th>3</th>\n      <td>ML-2020-4</td>\n      <td>2.50</td>\n      <td>14.0</td>\n      <td>5.0</td>\n      <td>10.00</td>\n      <td>5.00</td>\n      <td>31.02</td>\n      <td>5.0</td>\n      <td>3.13</td>\n      <td>5.0</td>\n      <td>...</td>\n      <td>270</td>\n      <td>55</td>\n      <td>122</td>\n      <td>42</td>\n      <td>10</td>\n      <td>13</td>\n      <td>147</td>\n      <td>472</td>\n      <td>39.63</td>\n      <td>41.02</td>\n    </tr>\n    <tr>\n      <th>4</th>\n      <td>ML-2020-6</td>\n      <td>0.00</td>\n      <td>15.0</td>\n      <td>5.0</td>\n      <td>12.17</td>\n      <td>4.93</td>\n      <td>15.91</td>\n      <td>5.0</td>\n      <td>4.67</td>\n      <td>5.0</td>\n      <td>...</td>\n      <td>22</td>\n      <td>52</td>\n      <td>43</td>\n      <td>56</td>\n      <td>15</td>\n      <td>9</td>\n      <td>38</td>\n      <td>112</td>\n      <td>41.77</td>\n      <td>25.91</td>\n    </tr>\n    <tr>\n      <th>...</th>\n      <td>...</td>\n      <td>...</td>\n      <td>...</td>\n      <td>...</td>\n      <td>...</td>\n      <td>...</td>\n      <td>...</td>\n      <td>...</td>\n      <td>...</td>\n      <td>...</td>\n      <td>...</td>\n      <td>...</td>\n      <td>...</td>\n      <td>...</td>\n      <td>...</td>\n      <td>...</td>\n      <td>...</td>\n      <td>...</td>\n      <td>...</td>\n      <td>...</td>\n      <td>...</td>\n    </tr>\n    <tr>\n      <th>102</th>\n      <td>ML-2020-60</td>\n      <td>0.00</td>\n      <td>0.0</td>\n      <td>0.0</td>\n      <td>0.00</td>\n      <td>0.00</td>\n      <td>0.00</td>\n      <td>0.0</td>\n      <td>0.00</td>\n      <td>0.0</td>\n      <td>...</td>\n      <td>35</td>\n      <td>13</td>\n      <td>20</td>\n      <td>20</td>\n      <td>50</td>\n      <td>1</td>\n      <td>40</td>\n      <td>88</td>\n      <td>0.00</td>\n      <td>0.00</td>\n    </tr>\n    <tr>\n      <th>103</th>\n      <td>ML-2020-58</td>\n      <td>0.00</td>\n      <td>0.0</td>\n      <td>0.0</td>\n      <td>0.00</td>\n      <td>0.00</td>\n      <td>0.00</td>\n      <td>0.0</td>\n      <td>0.00</td>\n      <td>0.0</td>\n      <td>...</td>\n      <td>16</td>\n      <td>0</td>\n      <td>0</td>\n      <td>0</td>\n      <td>0</td>\n      <td>3</td>\n      <td>58</td>\n      <td>74</td>\n      <td>0.00</td>\n      <td>0.00</td>\n    </tr>\n    <tr>\n      <th>104</th>\n      <td>ML-2020-94</td>\n      <td>0.00</td>\n      <td>0.0</td>\n      <td>0.0</td>\n      <td>0.00</td>\n      <td>0.00</td>\n      <td>0.00</td>\n      <td>0.0</td>\n      <td>0.00</td>\n      <td>0.0</td>\n      <td>...</td>\n      <td>0</td>\n      <td>0</td>\n      <td>0</td>\n      <td>0</td>\n      <td>0</td>\n      <td>0</td>\n      <td>20</td>\n      <td>20</td>\n      <td>0.00</td>\n      <td>0.00</td>\n    </tr>\n    <tr>\n      <th>105</th>\n      <td>ML-2020-9</td>\n      <td>0.00</td>\n      <td>0.0</td>\n      <td>0.0</td>\n      <td>0.00</td>\n      <td>0.00</td>\n      <td>0.00</td>\n      <td>0.0</td>\n      <td>0.00</td>\n      <td>0.0</td>\n      <td>...</td>\n      <td>0</td>\n      <td>12</td>\n      <td>0</td>\n      <td>0</td>\n      <td>0</td>\n      <td>6</td>\n      <td>19</td>\n      <td>31</td>\n      <td>0.00</td>\n      <td>0.00</td>\n    </tr>\n    <tr>\n      <th>106</th>\n      <td>ML-2020-86</td>\n      <td>0.00</td>\n      <td>0.0</td>\n      <td>0.0</td>\n      <td>0.00</td>\n      <td>0.00</td>\n      <td>0.00</td>\n      <td>0.0</td>\n      <td>0.00</td>\n      <td>0.0</td>\n      <td>...</td>\n      <td>0</td>\n      <td>0</td>\n      <td>0</td>\n      <td>0</td>\n      <td>0</td>\n      <td>0</td>\n      <td>16</td>\n      <td>16</td>\n      <td>0.00</td>\n      <td>0.00</td>\n    </tr>\n  </tbody>\n</table>\n<p>107 rows × 66 columns</p>\n</div>"
     },
     "execution_count": 539,
     "metadata": {},
     "output_type": "execute_result"
    }
   ],
   "source": [
    "df"
   ],
   "metadata": {
    "collapsed": false,
    "pycharm": {
     "name": "#%%\n"
    }
   }
  },
  {
   "cell_type": "code",
   "execution_count": 489,
   "outputs": [
    {
     "data": {
      "text/plain": "             count  mean  std  min  25%  50%  75%  max\nWeek1_Stat1  107.0   0.0  0.0  0.0  0.0  0.0  0.0  0.0",
      "text/html": "<div>\n<style scoped>\n    .dataframe tbody tr th:only-of-type {\n        vertical-align: middle;\n    }\n\n    .dataframe tbody tr th {\n        vertical-align: top;\n    }\n\n    .dataframe thead th {\n        text-align: right;\n    }\n</style>\n<table border=\"1\" class=\"dataframe\">\n  <thead>\n    <tr style=\"text-align: right;\">\n      <th></th>\n      <th>count</th>\n      <th>mean</th>\n      <th>std</th>\n      <th>min</th>\n      <th>25%</th>\n      <th>50%</th>\n      <th>75%</th>\n      <th>max</th>\n    </tr>\n  </thead>\n  <tbody>\n    <tr>\n      <th>Week1_Stat1</th>\n      <td>107.0</td>\n      <td>0.0</td>\n      <td>0.0</td>\n      <td>0.0</td>\n      <td>0.0</td>\n      <td>0.0</td>\n      <td>0.0</td>\n      <td>0.0</td>\n    </tr>\n  </tbody>\n</table>\n</div>"
     },
     "execution_count": 489,
     "metadata": {},
     "output_type": "execute_result"
    }
   ],
   "source": [
    "\"\"\"\n",
    "Data columns that have no effect on outcome\n",
    "Ideally we would like to get rid of features that have no variance at all such as Week1_StatTotal1\n",
    "\"\"\"\n",
    "described_df = df.describe().transpose()\n",
    "# here we can see that the variance of Week_Stat1 is 0 we can actually safely leave this column out\n",
    "# because it will have no affect in predicting grades\n",
    "# leaving it in will only increase dimension and search space\n",
    "described_df[described_df['std'].apply(lambda x: np.isclose(0, x))]\n"
   ],
   "metadata": {
    "collapsed": false,
    "pycharm": {
     "name": "#%%\n"
    }
   }
  },
  {
   "cell_type": "code",
   "execution_count": 490,
   "outputs": [
    {
     "data": {
      "text/plain": "             ID  Week2_Quiz1  Week3_MP1  Week3_PR1  Week5_MP2  Week5_PR2  \\\n0     ML-2020-1         5.00       15.0        5.0      16.09       5.00   \n1     ML-2020-2         3.33       15.0        5.0      17.83       5.00   \n2     ML-2020-3         1.67       13.0        5.0      15.22       5.00   \n3     ML-2020-4         2.50       14.0        5.0      10.00       5.00   \n4     ML-2020-6         0.00       15.0        5.0      12.17       4.93   \n..          ...          ...        ...        ...        ...        ...   \n72   ML-2020-98         4.17       15.0        5.0      18.26       5.00   \n73  ML-2020-100         2.50       14.0        5.0      18.26       5.00   \n74  ML-2020-102         5.00       15.0        5.0      19.57       5.00   \n75  ML-2020-103         4.17       11.0        5.0      18.26       4.90   \n76  ML-2020-104         5.00       15.0        5.0      17.83       5.00   \n\n    Week7_MP3  Week7_PR3  Week4_Quiz2  Week6_Quiz3  ...  Week4_StatTotal  \\\n0       21.88        5.0         5.00          5.0  ...               55   \n1       22.27        5.0         4.00          5.0  ...              147   \n2       27.05        2.5         5.00          5.0  ...               71   \n3       31.02        5.0         3.13          5.0  ...              269   \n4       15.91        5.0         4.67          5.0  ...               22   \n..        ...        ...          ...          ...  ...              ...   \n72      24.66        5.0         4.25          5.0  ...               70   \n73      28.64        0.0         3.00          5.0  ...              197   \n74      34.60        5.0         5.00          5.0  ...              233   \n75      31.02        5.0         5.00          4.5  ...               41   \n76      28.24        5.0         4.17          5.0  ...               58   \n\n    Week5_StatTotal  Week6_StatTotal  Week7_StatTotal  Week8_StatTotal  \\\n0                31               60                3                9   \n1                72               81               40                7   \n2                34               36               16               10   \n3                54              122               38               10   \n4                44               41               50               14   \n..              ...              ...              ...              ...   \n72               18               57               11               19   \n73               73              164               29               27   \n74               55              123               20               15   \n75              104              106               15               14   \n76               53               43               16               47   \n\n    Week9_StatTotal  Week3_StatCumu  Week5_StatCumu  Week5_GradeTotalCumu  \\\n0                15              72             158                 51.09   \n1                30             190             409                 50.16   \n2                10              65             170                 44.89   \n3                13             138             461                 39.63   \n4                 9              38             104                 41.77   \n..              ...             ...             ...                   ...   \n72               14              69             157                 51.68   \n73                7             118             388                 47.76   \n74                9             175             463                 54.57   \n75                5              70             215                 48.33   \n76               30              59             170                 52.00   \n\n    Week7_GradeTotal  \n0              31.88  \n1              32.27  \n2              34.55  \n3              41.02  \n4              25.91  \n..               ...  \n72             34.66  \n73             33.64  \n74             44.60  \n75             40.52  \n76             38.24  \n\n[71 rows x 66 columns]",
      "text/html": "<div>\n<style scoped>\n    .dataframe tbody tr th:only-of-type {\n        vertical-align: middle;\n    }\n\n    .dataframe tbody tr th {\n        vertical-align: top;\n    }\n\n    .dataframe thead th {\n        text-align: right;\n    }\n</style>\n<table border=\"1\" class=\"dataframe\">\n  <thead>\n    <tr style=\"text-align: right;\">\n      <th></th>\n      <th>ID</th>\n      <th>Week2_Quiz1</th>\n      <th>Week3_MP1</th>\n      <th>Week3_PR1</th>\n      <th>Week5_MP2</th>\n      <th>Week5_PR2</th>\n      <th>Week7_MP3</th>\n      <th>Week7_PR3</th>\n      <th>Week4_Quiz2</th>\n      <th>Week6_Quiz3</th>\n      <th>...</th>\n      <th>Week4_StatTotal</th>\n      <th>Week5_StatTotal</th>\n      <th>Week6_StatTotal</th>\n      <th>Week7_StatTotal</th>\n      <th>Week8_StatTotal</th>\n      <th>Week9_StatTotal</th>\n      <th>Week3_StatCumu</th>\n      <th>Week5_StatCumu</th>\n      <th>Week5_GradeTotalCumu</th>\n      <th>Week7_GradeTotal</th>\n    </tr>\n  </thead>\n  <tbody>\n    <tr>\n      <th>0</th>\n      <td>ML-2020-1</td>\n      <td>5.00</td>\n      <td>15.0</td>\n      <td>5.0</td>\n      <td>16.09</td>\n      <td>5.00</td>\n      <td>21.88</td>\n      <td>5.0</td>\n      <td>5.00</td>\n      <td>5.0</td>\n      <td>...</td>\n      <td>55</td>\n      <td>31</td>\n      <td>60</td>\n      <td>3</td>\n      <td>9</td>\n      <td>15</td>\n      <td>72</td>\n      <td>158</td>\n      <td>51.09</td>\n      <td>31.88</td>\n    </tr>\n    <tr>\n      <th>1</th>\n      <td>ML-2020-2</td>\n      <td>3.33</td>\n      <td>15.0</td>\n      <td>5.0</td>\n      <td>17.83</td>\n      <td>5.00</td>\n      <td>22.27</td>\n      <td>5.0</td>\n      <td>4.00</td>\n      <td>5.0</td>\n      <td>...</td>\n      <td>147</td>\n      <td>72</td>\n      <td>81</td>\n      <td>40</td>\n      <td>7</td>\n      <td>30</td>\n      <td>190</td>\n      <td>409</td>\n      <td>50.16</td>\n      <td>32.27</td>\n    </tr>\n    <tr>\n      <th>2</th>\n      <td>ML-2020-3</td>\n      <td>1.67</td>\n      <td>13.0</td>\n      <td>5.0</td>\n      <td>15.22</td>\n      <td>5.00</td>\n      <td>27.05</td>\n      <td>2.5</td>\n      <td>5.00</td>\n      <td>5.0</td>\n      <td>...</td>\n      <td>71</td>\n      <td>34</td>\n      <td>36</td>\n      <td>16</td>\n      <td>10</td>\n      <td>10</td>\n      <td>65</td>\n      <td>170</td>\n      <td>44.89</td>\n      <td>34.55</td>\n    </tr>\n    <tr>\n      <th>3</th>\n      <td>ML-2020-4</td>\n      <td>2.50</td>\n      <td>14.0</td>\n      <td>5.0</td>\n      <td>10.00</td>\n      <td>5.00</td>\n      <td>31.02</td>\n      <td>5.0</td>\n      <td>3.13</td>\n      <td>5.0</td>\n      <td>...</td>\n      <td>269</td>\n      <td>54</td>\n      <td>122</td>\n      <td>38</td>\n      <td>10</td>\n      <td>13</td>\n      <td>138</td>\n      <td>461</td>\n      <td>39.63</td>\n      <td>41.02</td>\n    </tr>\n    <tr>\n      <th>4</th>\n      <td>ML-2020-6</td>\n      <td>0.00</td>\n      <td>15.0</td>\n      <td>5.0</td>\n      <td>12.17</td>\n      <td>4.93</td>\n      <td>15.91</td>\n      <td>5.0</td>\n      <td>4.67</td>\n      <td>5.0</td>\n      <td>...</td>\n      <td>22</td>\n      <td>44</td>\n      <td>41</td>\n      <td>50</td>\n      <td>14</td>\n      <td>9</td>\n      <td>38</td>\n      <td>104</td>\n      <td>41.77</td>\n      <td>25.91</td>\n    </tr>\n    <tr>\n      <th>...</th>\n      <td>...</td>\n      <td>...</td>\n      <td>...</td>\n      <td>...</td>\n      <td>...</td>\n      <td>...</td>\n      <td>...</td>\n      <td>...</td>\n      <td>...</td>\n      <td>...</td>\n      <td>...</td>\n      <td>...</td>\n      <td>...</td>\n      <td>...</td>\n      <td>...</td>\n      <td>...</td>\n      <td>...</td>\n      <td>...</td>\n      <td>...</td>\n      <td>...</td>\n      <td>...</td>\n    </tr>\n    <tr>\n      <th>72</th>\n      <td>ML-2020-98</td>\n      <td>4.17</td>\n      <td>15.0</td>\n      <td>5.0</td>\n      <td>18.26</td>\n      <td>5.00</td>\n      <td>24.66</td>\n      <td>5.0</td>\n      <td>4.25</td>\n      <td>5.0</td>\n      <td>...</td>\n      <td>70</td>\n      <td>18</td>\n      <td>57</td>\n      <td>11</td>\n      <td>19</td>\n      <td>14</td>\n      <td>69</td>\n      <td>157</td>\n      <td>51.68</td>\n      <td>34.66</td>\n    </tr>\n    <tr>\n      <th>73</th>\n      <td>ML-2020-100</td>\n      <td>2.50</td>\n      <td>14.0</td>\n      <td>5.0</td>\n      <td>18.26</td>\n      <td>5.00</td>\n      <td>28.64</td>\n      <td>0.0</td>\n      <td>3.00</td>\n      <td>5.0</td>\n      <td>...</td>\n      <td>197</td>\n      <td>73</td>\n      <td>164</td>\n      <td>29</td>\n      <td>27</td>\n      <td>7</td>\n      <td>118</td>\n      <td>388</td>\n      <td>47.76</td>\n      <td>33.64</td>\n    </tr>\n    <tr>\n      <th>74</th>\n      <td>ML-2020-102</td>\n      <td>5.00</td>\n      <td>15.0</td>\n      <td>5.0</td>\n      <td>19.57</td>\n      <td>5.00</td>\n      <td>34.60</td>\n      <td>5.0</td>\n      <td>5.00</td>\n      <td>5.0</td>\n      <td>...</td>\n      <td>233</td>\n      <td>55</td>\n      <td>123</td>\n      <td>20</td>\n      <td>15</td>\n      <td>9</td>\n      <td>175</td>\n      <td>463</td>\n      <td>54.57</td>\n      <td>44.60</td>\n    </tr>\n    <tr>\n      <th>75</th>\n      <td>ML-2020-103</td>\n      <td>4.17</td>\n      <td>11.0</td>\n      <td>5.0</td>\n      <td>18.26</td>\n      <td>4.90</td>\n      <td>31.02</td>\n      <td>5.0</td>\n      <td>5.00</td>\n      <td>4.5</td>\n      <td>...</td>\n      <td>41</td>\n      <td>104</td>\n      <td>106</td>\n      <td>15</td>\n      <td>14</td>\n      <td>5</td>\n      <td>70</td>\n      <td>215</td>\n      <td>48.33</td>\n      <td>40.52</td>\n    </tr>\n    <tr>\n      <th>76</th>\n      <td>ML-2020-104</td>\n      <td>5.00</td>\n      <td>15.0</td>\n      <td>5.0</td>\n      <td>17.83</td>\n      <td>5.00</td>\n      <td>28.24</td>\n      <td>5.0</td>\n      <td>4.17</td>\n      <td>5.0</td>\n      <td>...</td>\n      <td>58</td>\n      <td>53</td>\n      <td>43</td>\n      <td>16</td>\n      <td>47</td>\n      <td>30</td>\n      <td>59</td>\n      <td>170</td>\n      <td>52.00</td>\n      <td>38.24</td>\n    </tr>\n  </tbody>\n</table>\n<p>71 rows × 66 columns</p>\n</div>"
     },
     "execution_count": 490,
     "metadata": {},
     "output_type": "execute_result"
    }
   ],
   "source": [
    "\"\"\"\n",
    "DataFrame 2\n",
    "sometimes we have people who simply wish to take a look at the course and not take the course\n",
    "this can be seen in PCA training plot where there's always a group of people at grade 0 that is\n",
    "highly correlated in grades\n",
    "Logically: these people do not submit quiz, mini project and peer review\n",
    "therefore they are people with no grades in those.\n",
    "They MAY participate and click the course to check the course out.\n",
    "But they have no desire to take the course\n",
    "Therefore, there is no need for the urgency to help them as much as those who are taking the course\n",
    "these people CAN BE discarded\n",
    "\"\"\"\n",
    "df2 = df[~np.isclose(df[grade_cols1].sum(axis=1), 0)]\n",
    "df2"
   ],
   "metadata": {
    "collapsed": false,
    "pycharm": {
     "name": "#%%\n"
    }
   }
  },
  {
   "cell_type": "code",
   "execution_count": 491,
   "outputs": [
    {
     "data": {
      "text/plain": "<AxesSubplot:>"
     },
     "execution_count": 491,
     "metadata": {},
     "output_type": "execute_result"
    },
    {
     "data": {
      "text/plain": "<Figure size 432x288 with 1 Axes>",
      "image/png": "[encoded data removed]"
     },
     "metadata": {},
     "output_type": "display_data"
    }
   ],
   "source": [
    "# what become the label distribution from before?\n",
    "# the decrease of 0 is drastic we reduced rows from 107 to 71\n",
    "df['Grade'].hist(bins=[0,1,2,3,4,5])\n",
    "df2['Grade'].hist(bins=[0,1,2,3,4,5])"
   ],
   "metadata": {
    "collapsed": false,
    "pycharm": {
     "name": "#%%\n"
    }
   }
  },
  {
   "cell_type": "code",
   "execution_count": 696,
   "outputs": [
    {
     "data": {
      "text/plain": "(71, 66)"
     },
     "execution_count": 696,
     "metadata": {},
     "output_type": "execute_result"
    }
   ],
   "source": [
    "df2.shape"
   ],
   "metadata": {
    "collapsed": false,
    "pycharm": {
     "name": "#%%\n"
    }
   }
  },
  {
   "cell_type": "code",
   "execution_count": null,
   "outputs": [],
   "source": [
    "# different data set 2 - removal\n",
    "# from the data we notice that there are some people who just want to see the course and did not interact much\n",
    "# we remove them from the data set\n",
    "# condition for removal - 0 for all grades compared to all 0"
   ],
   "metadata": {
    "collapsed": false,
    "pycharm": {
     "name": "#%%\n"
    }
   }
  },
  {
   "cell_type": "code",
   "execution_count": null,
   "outputs": [],
   "source": [],
   "metadata": {
    "collapsed": false,
    "pycharm": {
     "name": "#%%\n"
    }
   }
  },
  {
   "cell_type": "markdown",
   "source": [
    "# Preprocessing\n",
    "This section we use KFold in order to split the train and testing sets.\n",
    "Another reason is to ensure that the model is stable by using KFold\n",
    "our selected K=5 to ensure enough training data and 20% testing data.\n"
   ],
   "metadata": {
    "collapsed": false,
    "pycharm": {
     "name": "#%% md\n"
    }
   }
  },
  {
   "cell_type": "code",
   "execution_count": 182,
   "outputs": [
    {
     "data": {
      "text/plain": "10"
     },
     "execution_count": 182,
     "metadata": {},
     "output_type": "execute_result"
    }
   ],
   "source": [
    "kf = KFold(n_splits=10, shuffle=True, random_state=0)\n",
    "kf.get_n_splits(df)\n"
   ],
   "metadata": {
    "collapsed": false,
    "pycharm": {
     "name": "#%%\n"
    }
   }
  },
  {
   "cell_type": "code",
   "execution_count": 388,
   "outputs": [],
   "source": [
    "\"\"\"\n",
    "train test pipeline\n",
    "for each split\n",
    "we train test data for 2 models --> rand for, linearsvm (because grade relationship is linear)\n",
    "\n",
    "since grades are like ordinal categorical values\n",
    "we can simply goes with 0 2 3 4\n",
    "we hope that the model is smart enough to infer 1 from it.\n",
    "\n",
    "if we cant then we have to one hot encode this.\n",
    "in a way we are treating it as a regression problem\n",
    "\"\"\"\n",
    "from typing import List\n",
    "from sklearn.preprocessing import StandardScaler\n",
    "def train_test_data(df,\n",
    "                    pred_cols,\n",
    "                    lab_col,\n",
    "                    tr_idx,\n",
    "                    te_idx,\n",
    "                    method1=None,\n",
    "                    method2=None,\n",
    "                    normalized=False):\n",
    "    df = df.copy(deep=True)\n",
    "\n",
    "    train_x, train_y = df.iloc[tr_idx][pred_cols], df.iloc[tr_idx][lab_col]\n",
    "    train_x = np.reshape(train_x.to_numpy(), (train_x.shape[0], -1)) if len(pred_cols) == 1 else train_x\n",
    "    test_x, test_y = df.iloc[te_idx][pred_cols], df.iloc[te_idx][lab_col]\n",
    "    test_x = np.reshape(test_x.to_numpy(), (test_x.shape[0], -1)) if len(pred_cols) == 1 else test_x\n",
    "    if normalized:\n",
    "        scaler = StandardScaler()\n",
    "        scaler.fit(train_x)\n",
    "        train_x = scaler.transform(train_x)\n",
    "        test_x = scaler.transform(test_x)\n",
    "    clf1 = RandomForestClassifier(random_state=1) if method1 is None else method1\n",
    "    clf1.fit(train_x, train_y)\n",
    "    result1 = clf1.predict(test_x)\n",
    "    clf2 = svm.SVC(kernel='linear', class_weight=\"balanced\", random_state=1) if method2 is None else method2\n",
    "    clf2.fit(train_x, train_y)\n",
    "    result2 = clf2.predict(test_x)\n",
    "\n",
    "    tr1 = clf1.predict(train_x)\n",
    "    tr2 = clf2.predict(train_x)\n",
    "    ta1 = pd.Series(clf1.predict(train_x) == train_y.to_numpy()).value_counts(normalize=True).mul(100)[True]\n",
    "    ta2 = pd.Series(clf2.predict(train_x) == train_y.to_numpy()).value_counts(normalize=True).mul(100)[True]\n",
    "\n",
    "    va1 = pd.Series(result1 == test_y.to_numpy()).value_counts(normalize=True).mul(100)[True]\n",
    "    va2 = pd.Series(result2 == test_y.to_numpy()).value_counts(normalize=True).mul(100)[True]\n",
    "\n",
    "    return clf1, clf2, result1, result2, ta1, ta2, va1, va2, tr1, tr2\n",
    "\n",
    "\n",
    "def plot_heat_map(actual: List[int], r1, r2, title1, title2):\n",
    "    fig, axes = plt.subplots(ncols=2, figsize=(12, 8))\n",
    "    axes[0].set_title(title1)\n",
    "    axes[1].set_title(title2)\n",
    "    cm1 = confusion_matrix(actual, r1)\n",
    "    sns.heatmap(cm1, annot=True, ax=axes[0], cmap=\"YlGnBu\")\n",
    "    cm2 = confusion_matrix(actual, r2)\n",
    "    sns.heatmap(cm2, annot=True, ax=axes[1], cmap=\"YlGnBu\")\n",
    "\n",
    "\n",
    "def display_incorrect_data(df, idx, result, preds, label):\n",
    "    wrong = df.loc[idx][label].to_numpy() != np.array(result)\n",
    "    display(df.loc[idx][wrong][ preds + [label] ])\n",
    "\n"
   ],
   "metadata": {
    "collapsed": false,
    "pycharm": {
     "name": "#%%\n"
    }
   }
  },
  {
   "cell_type": "markdown",
   "source": [
    "# Explaining Decision Tree in Random Forest"
   ],
   "metadata": {
    "collapsed": false,
    "pycharm": {
     "name": "#%% md\n"
    }
   }
  },
  {
   "cell_type": "code",
   "execution_count": 589,
   "outputs": [],
   "source": [
    "from sklearn.tree import export_graphviz\n",
    "from sklearn import tree\n",
    "def show_decision_random_forest(df, pred_cols, label_col, result_df, r_col='model1'):\n",
    "    estimator = result_df.iloc[result_df['val_a1'].idxmax()][r_col].estimators_[0]\n",
    "    fig, axes = plt.subplots(nrows = 1,ncols = 1,figsize = (4,4), dpi=800)\n",
    "    labels = sorted(df[label_col].unique().astype(str).tolist())\n",
    "    tree.plot_tree(estimator,\n",
    "                   feature_names = pred_cols,\n",
    "                   class_names=labels,\n",
    "                   filled = True)\n",
    "    plt.title(\"Decision Tree using {}\".format(label_col))\n"
   ],
   "metadata": {
    "collapsed": false,
    "pycharm": {
     "name": "#%%\n"
    }
   }
  },
  {
   "cell_type": "code",
   "execution_count": 689,
   "outputs": [],
   "source": [
    "def plot_feature_importance(result_df, k_index, name, title):\n",
    "    row = result_df[result_df['train_test_name'] == name].iloc[k_index]\n",
    "    m1: RandomForestClassifier = row['model1']\n",
    "    m2: svm.SVC = row['model2']\n",
    "    importances = m1.feature_importances_\n",
    "\n",
    "    ils = list(zip(importances, row['predictors'], ['RandomForest']*len(importances)))\n",
    "    ils.extend(list(zip(abs(m2.coef_[0]), row['predictors'], ['SVM']*len(importances))))\n",
    "    importances_df = pd.DataFrame(ils,columns=['coef', 'predictors', 'model_name'])\n",
    "    plt.figure()\n",
    "    sns.barplot(data=importances_df, x='coef', y='predictors', hue='model_name')\n",
    "    plt.title(title)\n"
   ],
   "metadata": {
    "collapsed": false,
    "pycharm": {
     "name": "#%%\n"
    }
   }
  },
  {
   "cell_type": "markdown",
   "source": [
    "# Explore Decision Boundary for both"
   ],
   "metadata": {
    "collapsed": false,
    "pycharm": {
     "name": "#%% md\n"
    }
   }
  },
  {
   "cell_type": "code",
   "execution_count": 718,
   "outputs": [],
   "source": [
    "\n",
    "from sklearn.decomposition import PCA\n",
    "\"\"\"\n",
    "What am i trying to plot?\n",
    "data the model is trained on and whether it got correctly,\n",
    "data the model is tested on and whether it got correctly\n",
    "How?\n",
    "side by side plot 2 by 3\n",
    "left to right\n",
    "truth, method1, method2\n",
    "up trained\n",
    "down test\n",
    "\"\"\"\n",
    "\"\"\"\n",
    "PCA data into 2 dimension (if data is more than 2 dims) then we plot the classes for the random forest\n",
    "then we plot the\n",
    "\"\"\"\n",
    "from matplotlib.pyplot import plot, show, draw, figure, cm\n",
    "import matplotlib.pyplot as plt\n",
    "from mpl_toolkits.mplot3d import Axes3D\n",
    "from sklearn.decomposition import PCA\n",
    "sns.set(style=\"whitegrid\", palette=\"muted\")\n",
    "\n",
    "SEABORN_PALETTES = dict(\n",
    "    deep=[\"#4C72B0\", \"#55A868\", \"#C44E52\",\n",
    "          \"#8172B2\", \"#CCB974\", \"#64B5CD\"],\n",
    "    muted=[\"#4878CF\", \"#6ACC65\", \"#D65F5F\",\n",
    "           \"#B47CC7\", \"#C4AD66\", \"#77BEDB\"],\n",
    "    pastel=[\"#92C6FF\", \"#97F0AA\", \"#FF9F9A\",\n",
    "            \"#D0BBFF\", \"#FFFEA3\", \"#B0E0E6\"],\n",
    "    bright=[\"#003FFF\", \"#03ED3A\", \"#E8000B\",\n",
    "            \"#8A2BE2\", \"#FFC400\", \"#00D7FF\"],\n",
    "    dark=[\"#001C7F\", \"#017517\", \"#8C0900\",\n",
    "          \"#7600A1\", \"#B8860B\", \"#006374\"],\n",
    "    colorblind=[\"#0072B2\", \"#009E73\", \"#D55E00\",\n",
    "                \"#CC79A7\", \"#F0E442\", \"#56B4E9\"]\n",
    ")\n",
    "muted = SEABORN_PALETTES['muted']\n",
    "newPal   = {0: muted[0], 1: muted[1], 2: muted[2],\n",
    "            3: muted[3], 4: muted[4], 5: muted[5]}\n",
    "\n",
    "\n",
    "def plot_result_with_pca(df, pred_columns, label, result_df, k_index=None):\n",
    "    \"\"\"\n",
    "    input should be: main df, result df, pred_cols, label\n",
    "    :return:\n",
    "    \"\"\"\n",
    "    pca_model = PCA(n_components=2)\n",
    "    data = pca_model.fit_transform(df[pred_columns].to_numpy())\n",
    "    print(data)\n",
    "    pca_df = pd.DataFrame(data, columns=['var1', 'var2'])\n",
    "    pca_df[label] = df[label]\n",
    "    display(pca_df)\n",
    "    display(df[label])\n",
    "\n",
    "    # loadings = pca_model.components_.T * np.sqrt(pca_model.explained_variance_)\n",
    "    loadings_df = pd.DataFrame(pca_model.components_.T, columns=['var1', 'var2'],\n",
    "                               index=pred_columns)\n",
    "    fig, axes = plt.subplots(nrows=2, ncols=1, figsize=(8, 12), sharex=True, sharey=True)\n",
    "    sns.barplot(x=loadings_df['var1'], y=loadings_df.index, ax=axes[0])\n",
    "    axes[0].set_title('Var 1 loading matrix')\n",
    "    sns.barplot(x=loadings_df['var2'], y=loadings_df.index, ax=axes[1])\n",
    "    axes[1].set_title('Var 2 loading matrix')\n",
    "\n",
    "    plot_result_2var(pca_df, ['var1', 'var2'], label, result_df, k_index)\n",
    "\n",
    "\n",
    "def plot_result_1var(df, pred_columns, label, result_df, k_index=None):\n",
    "    if k_index is None:\n",
    "        k_index = result_df['val_a1'].idxmax()\n",
    "    train_index = list(result_df.iloc[k_index]['train_index'])\n",
    "    test_index = list(result_df.iloc[k_index]['test_index'])\n",
    "\n",
    "    fig, axes = plt.subplots(nrows=2, ncols=3, figsize=(15, 12))\n",
    "    sns.set(style=\"whitegrid\", palette=\"muted\")\n",
    "\n",
    "    df_touse_train = df.iloc[train_index].copy()\n",
    "    df_touse_test = df.iloc[test_index].copy()\n",
    "    df_touse_train['train_predicted1'] = result_df.iloc[k_index]['train_predicted1']\n",
    "    df_touse_train['train_predicted2'] = result_df.iloc[k_index]['train_predicted2']\n",
    "    df_touse_test['test_predicted1'] = result_df.iloc[k_index]['test_predicted1']\n",
    "    df_touse_test['test_predicted2'] = result_df.iloc[k_index]['test_predicted2']\n",
    "\n",
    "    df_touse_train['mock_y'] = [0] * len(df_touse_train['train_predicted1'])\n",
    "    df_touse_test['mock_y'] = [0] * len(df_touse_test['test_predicted1'])\n",
    "\n",
    "    ax = axes[0][0]\n",
    "    sns.scatterplot(df_touse_train, x=pred_columns[0], y='mock_y', hue=label, ax=ax, palette=newPal)\n",
    "    ax.set_title('Train Truth Plot')\n",
    "\n",
    "    ax = axes[0][1]\n",
    "    sns.scatterplot(df_touse_train, x=pred_columns[0], y='mock_y',\n",
    "                    hue='train_predicted1', ax=ax,  palette=newPal)\n",
    "    ax.set_title('Train Data Prediction Plot for method 1')\n",
    "\n",
    "    ax = axes[0][2]\n",
    "    sns.scatterplot(df_touse_train, x=pred_columns[0], y='mock_y',\n",
    "                    hue='train_predicted2', ax=ax,  palette=newPal)\n",
    "    ax.set_title('Train Data Prediction Plot for method 2')\n",
    "\n",
    "    ax = axes[1][0]\n",
    "    sns.scatterplot(df_touse_test, x=pred_columns[0], y='mock_y',\n",
    "                    hue=label, ax=ax,  palette=newPal)\n",
    "    ax.set_title('Train Truth Plot')\n",
    "\n",
    "    ax = axes[1][1]\n",
    "    sns.scatterplot(df_touse_test, x=pred_columns[0], y='mock_y',\n",
    "                    hue='test_predicted1', ax=ax,  palette=newPal)\n",
    "    ax.set_title('Train Data Prediction Plot for method 1')\n",
    "\n",
    "    ax = axes[1][2]\n",
    "    sns.scatterplot(df_touse_test, x=pred_columns[0], y='mock_y',\n",
    "                    hue='test_predicted2', ax=ax,  palette=newPal)\n",
    "    ax.set_title('Train Data Prediction Plot for method 2')\n",
    "\n",
    "\n",
    "def plot_result_2var(df, pred_columns, label, result_df, k_index=None):\n",
    "    if k_index is None:\n",
    "        k_index = result_df['val_a1'].idxmax()\n",
    "    train_index = list(result_df.iloc[k_index]['train_index'])\n",
    "    test_index = list(result_df.iloc[k_index]['test_index'])\n",
    "\n",
    "    fig, axes = plt.subplots(nrows=2, ncols=3, figsize=(15, 12))\n",
    "    sns.set(style=\"whitegrid\", palette=\"muted\")\n",
    "\n",
    "    df_touse_train = df.iloc[train_index].copy()\n",
    "    df_touse_train['train_predicted1'] = result_df.iloc[k_index]['train_predicted1']\n",
    "    df_touse_train['train_predicted2'] = result_df.iloc[k_index]['train_predicted2']\n",
    "    df_touse_test = df.iloc[test_index].copy()\n",
    "    df_touse_test['test_predicted1'] = result_df.iloc[k_index]['test_predicted1']\n",
    "    df_touse_test['test_predicted2'] = result_df.iloc[k_index]['test_predicted2']\n",
    "\n",
    "    ax = axes[0][0]\n",
    "    sns.scatterplot(df_touse_train, x=pred_columns[0], y=pred_columns[1],\n",
    "                    hue=label, ax=ax, palette=newPal)\n",
    "    ax.set_title('Train Truth Plot')\n",
    "\n",
    "    ax = axes[0][1]\n",
    "    sns.scatterplot(df_touse_train, x=pred_columns[0], y=pred_columns[1],\n",
    "                    hue='train_predicted1', ax=ax,  palette=newPal)\n",
    "    ax.set_title('Train Data Prediction Plot for method 1')\n",
    "\n",
    "    ax = axes[0][2]\n",
    "    sns.scatterplot(df_touse_train, x=pred_columns[0], y=pred_columns[1],\n",
    "                    hue='train_predicted2', ax=ax,  palette=newPal)\n",
    "    ax.set_title('Train Data Prediction Plot for method 2')\n",
    "\n",
    "    ax = axes[1][0]\n",
    "    sns.scatterplot(df_touse_test, x=pred_columns[0], y=pred_columns[1],\n",
    "                    hue=label, ax=ax,  palette=newPal)\n",
    "    ax.set_title('Train Truth Plot')\n",
    "\n",
    "    ax = axes[1][1]\n",
    "    sns.scatterplot(df_touse_test, x=pred_columns[0], y=pred_columns[1],\n",
    "                    hue='test_predicted1', ax=ax,  palette=newPal)\n",
    "    ax.set_title('Train Data Prediction Plot for method 1')\n",
    "\n",
    "    ax = axes[1][2]\n",
    "    sns.scatterplot(df_touse_test, x=pred_columns[0], y=pred_columns[1],\n",
    "                    hue='test_predicted2', ax=ax,  palette=newPal)\n",
    "    ax.set_title('Train Data Prediction Plot for method 2')\n",
    "\n",
    "\n",
    "def plot_result_3var(df, pred_columns, label, result_df, k_index=None):\n",
    "    if k_index is None:\n",
    "        k_index = result_df['val_a1'].idxmax()\n",
    "    train_index = list(result_df.iloc[k_index]['train_index'])\n",
    "    test_index = list(result_df.iloc[k_index]['test_index'])\n",
    "    fig, axes = plt.subplots(nrows=2, ncols=3, figsize=(15,12))\n",
    "\n",
    "    # trained truth value\n",
    "    ax = Axes3D(axes[0][0])\n",
    "    sc = ax.scatter(xs=df.iloc[train_index][pred_columns[0]],\n",
    "               ys=df.iloc[train_index][pred_columns[1]],\n",
    "               z=df.iloc[train_index][pred_columns[2]],\n",
    "               c=df.iloc[train_index][label], marker='o')\n",
    "    ax.set_xlabel(pred_columns[0])\n",
    "    ax.set_ylabel(pred_columns[1])\n",
    "    ax.set_zlabel(pred_columns[2])\n",
    "    plt.legend(*sc.legend_elements(), bbox_to_anchor=(1.05, 1), loc=2)\n",
    "    ax.set_title('Train Truth Plot')\n",
    "\n",
    "    # predicted method 1\n",
    "    ax = Axes3D(axes[0][1])\n",
    "    ax.scatter(xs=df.iloc[train_index][pred_columns[0]],\n",
    "               ys=df.iloc[train_index][pred_columns[1]],\n",
    "               z=df.iloc[train_index][pred_columns[2]],\n",
    "               c=result_df.iloc[k_index]['train_predicted1'], marker='o')\n",
    "    ax.set_xlabel(pred_columns[0])\n",
    "    ax.set_ylabel(pred_columns[1])\n",
    "    ax.set_zlabel(pred_columns[2])\n",
    "    ax.set_title('Train Data Prediction Plot for method 1')\n",
    "\n",
    "    # predicted method 3\n",
    "    ax = Axes3D(axes[2])\n",
    "    ax.scatter(xs=df.iloc[train_index][pred_columns[0]],\n",
    "               ys=df.iloc[train_index][pred_columns[1]],\n",
    "               z=df.iloc[train_index][pred_columns[2]],\n",
    "               c=result_df.iloc[k_index]['train_predicted2'], marker='o')\n",
    "    ax.set_xlabel(pred_columns[0])\n",
    "    ax.set_ylabel(pred_columns[1])\n",
    "    ax.set_zlabel(pred_columns[2])\n",
    "    ax.set_title('Train Data Prediction Plot for method 2')\n",
    "\n",
    "    # test truth value\n",
    "    ax = Axes3D(axes[1][0])\n",
    "    sc = ax.scatter(xs=df.iloc[test_index][pred_columns[0]],\n",
    "                    ys=df.iloc[test_index][pred_columns[1]],\n",
    "                    z=df.iloc[test_index][pred_columns[2]],\n",
    "                    c=df.iloc[test_index][label], marker='o')\n",
    "    ax.set_xlabel(pred_columns[0])\n",
    "    ax.set_ylabel(pred_columns[1])\n",
    "    ax.set_zlabel(pred_columns[2])\n",
    "    plt.legend(*sc.legend_elements(), bbox_to_anchor=(1.05, 1), loc=2)\n",
    "    ax.set_title('Test Truth Plot')\n",
    "\n",
    "    # predicted method 1\n",
    "    ax = Axes3D(axes[1][1])\n",
    "    ax.scatter(xs=df.iloc[test_index][pred_columns[0]],\n",
    "               ys=df.iloc[test_index][pred_columns[1]],\n",
    "               z=df.iloc[test_index][pred_columns[2]],\n",
    "               c=result_df.iloc[k_index]['test_predicted1'], marker='o')\n",
    "    ax.set_xlabel(pred_columns[0])\n",
    "    ax.set_ylabel(pred_columns[1])\n",
    "    ax.set_zlabel(pred_columns[2])\n",
    "    ax.set_title('Test Data Prediction Plot for method 1')\n",
    "\n",
    "    # predicted method 3\n",
    "    ax = Axes3D(axes[1][2])\n",
    "    ax.scatter(xs=df.iloc[test_index][pred_columns[0]],\n",
    "               ys=df.iloc[test_index][pred_columns[1]],\n",
    "               z=df.iloc[test_index][pred_columns[2]],\n",
    "               c=result_df.iloc[k_index]['test_predicted2'], marker='o')\n",
    "    ax.set_xlabel(pred_columns[0])\n",
    "    ax.set_ylabel(pred_columns[1])\n",
    "    ax.set_zlabel(pred_columns[2])\n",
    "    ax.set_title('Test Data Prediction Plot for method 2')\n",
    "\n",
    "\n",
    "def plot_result(df, pred_columns, label, result_df, k_index=None):\n",
    "    if len(pred_columns) == 1:\n",
    "        return\n",
    "    elif len(pred_columns) == 2:\n",
    "        plot_result_2var(df, pred_columns, label, result_df, k_index)\n",
    "        return\n",
    "    elif len(pred_columns) == 3:\n",
    "        plot_result_3var(df, pred_columns, label, result_df, k_index)\n",
    "        return\n",
    "    plot_result_with_pca(df, pred_columns, label, result_df, k_index)\n",
    "\n",
    "\n",
    "def plot_cm_from_result_df(df: pd.DataFrame, result_df: pd.DataFrame, k=10):\n",
    "    fig, axes = plt.subplots(ncols=2, nrows=k, figsize=(12, 4*k))\n",
    "    for i in range(result_df.shape[0]):\n",
    "        row = result_df.iloc[i]\n",
    "        actual = df.iloc[row['test_index']]['Grade']\n",
    "        r1 = row['test_predicted1']\n",
    "        r2 = row['test_predicted2']\n",
    "        axes[i][0].set_title(\"Confusion Matrix for method 1, Kfold = {}\".format(i))\n",
    "        axes[i][1].set_title(\"Confusion Matrix for method 2, Kfold = {}\".format(i))\n",
    "        cm1 = confusion_matrix(actual, r1, labels=[0, 1, 2, 3, 4, 5])\n",
    "        cm2 = confusion_matrix(actual, r2,  labels=[0, 1, 2, 3, 4, 5])\n",
    "        sns.heatmap(cm1, annot=True, ax=axes[i][0], cmap=\"YlGnBu\")\n",
    "        sns.heatmap(cm2, annot=True, ax=axes[i][1], cmap=\"YlGnBu\")"
   ],
   "metadata": {
    "collapsed": false,
    "pycharm": {
     "name": "#%%\n"
    }
   }
  },
  {
   "cell_type": "code",
   "execution_count": 590,
   "outputs": [],
   "source": [],
   "metadata": {
    "collapsed": false,
    "pycharm": {
     "name": "#%%\n"
    }
   }
  },
  {
   "cell_type": "code",
   "execution_count": 660,
   "outputs": [],
   "source": [
    "def predict_loop(df, kf, cols, label, name, method1=None, method2=None):\n",
    "    splits = kf.split(df)\n",
    "    accuracies = []\n",
    "    for i, (train_index, test_index) in enumerate(splits):\n",
    "        m1, m2, r1, r2, ta1, ta2, va1, va2, tr1, tr2 = train_test_data(df, cols, label, train_index, test_index,\n",
    "                                                                       method1=method1,\n",
    "                                                                       method2=method2,\n",
    "                                                                       normalized=True)\n",
    "        accuracies.append((name, ta1, va1, ta2, va2, i, cols, label,\n",
    "                           'forest', 'svm_linear_kernel', m1, m2, r1, r2, tr1, tr2,\n",
    "                           train_index, test_index))\n",
    "    accuracies = pd.DataFrame(data=accuracies, columns=acols)\n",
    "    return accuracies"
   ],
   "metadata": {
    "collapsed": false,
    "pycharm": {
     "name": "#%%\n"
    }
   }
  },
  {
   "cell_type": "markdown",
   "source": [
    "# Train Test Data"
   ],
   "metadata": {
    "collapsed": false,
    "pycharm": {
     "name": "#%% md\n"
    }
   }
  },
  {
   "cell_type": "code",
   "execution_count": 661,
   "outputs": [],
   "source": [
    "acols = ['train_test_name', 'tr_a1', 'val_a1', 'tr_a2', 'val_a2', 'k_num', 'predictors', 'label', 'method1', 'method2', 'model1', 'model2', 'test_predicted1', 'test_predicted2', 'train_predicted1', 'train_predicted2', 'train_index', 'test_index']\n",
    "ar_df = pd.DataFrame(columns=acols)\n"
   ],
   "metadata": {
    "collapsed": false,
    "pycharm": {
     "name": "#%%\n"
    }
   }
  },
  {
   "cell_type": "markdown",
   "source": [
    "# Training the Model 1\n",
    "\n"
   ],
   "metadata": {
    "collapsed": false,
    "pycharm": {
     "name": "#%% md\n"
    }
   }
  },
  {
   "cell_type": "code",
   "execution_count": 662,
   "outputs": [
    {
     "name": "stdout",
     "output_type": "stream",
     "text": [
      "100.0 99.0\n",
      "93.04016323024055 92.54545454545455\n"
     ]
    }
   ],
   "source": [
    "label = 'Grade'\n",
    "test_name = 'AllData_AllGrade_Week8'\n",
    "cols = ['Week8_Total']\n",
    "splits = kf.split(df)\n",
    "accuracies = predict_loop(df, kf, cols, label, test_name)\n",
    "print(accuracies['tr_a1'].mean(), accuracies['val_a1'].mean())\n",
    "print(accuracies['tr_a2'].mean(), accuracies['val_a2'].mean())\n",
    "ar_df = pd.concat([ar_df, accuracies], ignore_index=True).reset_index(drop=True)"
   ],
   "metadata": {
    "collapsed": false,
    "pycharm": {
     "name": "#%%\n"
    }
   }
  },
  {
   "cell_type": "markdown",
   "source": [
    "# Model Training and testing 2\n",
    "we are doing this in order to demonstrate the curse of dimensionality\n",
    "even tho q_cols, mp_cols, pr_cols all add up to Week8_Total\n",
    "the model trained on their accuracy could not reach the accuracy of the ones trained on single column.\n",
    "This is simple: more dimension increases the search space exponentially and the model has to be aware of it.\n",
    "This also shows the difference between Random Forest vs SVM models.\n",
    "Random Forest makes rules at each node, with more variables, it need create more rules.\n",
    "These rule size may not be as simple as when there is a single variable to observed,\n",
    "therefore random forest make a more convoluted rules for these cases (probably overfit) and its performance failed against\n",
    "SVM, mathematically, is better because it find the lines to split the classes for each dimension, so in this case it performs better than RandomForest."
   ],
   "metadata": {
    "collapsed": false,
    "pycharm": {
     "name": "#%% md\n"
    }
   }
  },
  {
   "cell_type": "code",
   "execution_count": 663,
   "outputs": [
    {
     "name": "stdout",
     "output_type": "stream",
     "text": [
      "100.0 80.63636363636364\n",
      "93.66408934707904 91.72727272727272\n"
     ]
    }
   ],
   "source": [
    "label = 'Grade'\n",
    "test_name = 'AllData_AllGrade_AllRaw'\n",
    "cols = q_cols + mp_cols + pr_cols\n",
    "accuracies = predict_loop(df, kf, cols, label, test_name)\n",
    "print(accuracies['tr_a1'].mean(), accuracies['val_a1'].mean())\n",
    "print(accuracies['tr_a2'].mean(), accuracies['val_a2'].mean())\n",
    "ar_df = pd.concat([ar_df, accuracies], ignore_index=True).reset_index(drop=True)"
   ],
   "metadata": {
    "collapsed": false,
    "pycharm": {
     "name": "#%%\n"
    }
   }
  },
  {
   "cell_type": "markdown",
   "source": [
    "# Model training 3\n",
    "\n",
    "Question asked\n",
    "if we sum up the result back from 9 to 3 columns\n",
    "can we get a performance better\n",
    "This is to demonstrate the curse of dimensionality\n"
   ],
   "metadata": {
    "collapsed": false,
    "pycharm": {
     "name": "#%% md\n"
    }
   }
  },
  {
   "cell_type": "code",
   "execution_count": 664,
   "outputs": [
    {
     "name": "stdout",
     "output_type": "stream",
     "text": [
      "97.92525773195877 84.0909090909091\n",
      "93.66301546391753 93.45454545454545\n"
     ]
    }
   ],
   "source": [
    "label = 'Grade'\n",
    "test_name = 'AllData_AllGrade_GradeTotalOnly'\n",
    "cols = ['Week3_GradeTotal', 'Week5_GradeTotal', 'Week7_GradeTotal']\n",
    "method1 = RandomForestClassifier(random_state=1, max_features=2, min_samples_split=5, max_depth=5)\n",
    "method2 = None\n",
    "accuracies = predict_loop(df, kf, cols, label, test_name, method1=method1, method2=method2)\n",
    "print(accuracies['tr_a1'].mean(), accuracies['val_a1'].mean())\n",
    "print(accuracies['tr_a2'].mean(), accuracies['val_a2'].mean())\n",
    "ar_df = pd.concat([ar_df, accuracies], ignore_index=True).reset_index(drop=True)"
   ],
   "metadata": {
    "collapsed": false,
    "pycharm": {
     "name": "#%%\n"
    }
   }
  },
  {
   "cell_type": "markdown",
   "source": [
    "# Future Grade Prediction"
   ],
   "metadata": {
    "collapsed": false,
    "pycharm": {
     "name": "#%% md\n"
    }
   }
  },
  {
   "cell_type": "markdown",
   "source": [
    "# Model Train Test - future Grade with Stats"
   ],
   "metadata": {
    "collapsed": false,
    "pycharm": {
     "name": "#%% md\n"
    }
   }
  },
  {
   "cell_type": "code",
   "execution_count": 665,
   "outputs": [
    {
     "name": "stdout",
     "output_type": "stream",
     "text": [
      "82.9660652920962 74.72727272727272\n",
      "67.29059278350516 66.45454545454545\n"
     ]
    }
   ],
   "source": [
    "label = 'Grade'\n",
    "test_name = 'AllData_Future_GradeTotal'\n",
    "cols = ['Week3_GradeTotal', 'Week5_GradeTotal']\n",
    "method1 = RandomForestClassifier(random_state=1, max_features=2, min_samples_split=5, max_depth=3)\n",
    "method2 = None\n",
    "accuracies = predict_loop(df, kf, cols, label, test_name, method1=method1, method2=method2)\n",
    "print(accuracies['tr_a1'].mean(), accuracies['val_a1'].mean())\n",
    "print(accuracies['tr_a2'].mean(), accuracies['val_a2'].mean())\n",
    "ar_df = pd.concat([ar_df, accuracies], ignore_index=True).reset_index(drop=True)"
   ],
   "metadata": {
    "collapsed": false,
    "pycharm": {
     "name": "#%%\n"
    }
   }
  },
  {
   "cell_type": "code",
   "execution_count": 666,
   "outputs": [
    {
     "name": "stdout",
     "output_type": "stream",
     "text": [
      "84.11297250859107 76.81818181818183\n",
      "79.02813573883161 75.9090909090909\n"
     ]
    }
   ],
   "source": [
    "label = 'Grade'\n",
    "test_name = 'AllData_Future_AllGrades'\n",
    "cols = ['Week2_Quiz1', 'Week3_MP1', 'Week3_PR1', 'Week5_MP2', 'Week5_PR2', 'Week4_Quiz2']\n",
    "method1 = RandomForestClassifier(random_state=1, max_features=5, min_samples_split=5, max_depth=3)\n",
    "method2 = None\n",
    "accuracies = predict_loop(df, kf, cols, label, test_name, method1=method1, method2=method2)\n",
    "print(accuracies['tr_a1'].mean(), accuracies['val_a1'].mean())\n",
    "print(accuracies['tr_a2'].mean(), accuracies['val_a2'].mean())\n",
    "ar_df = pd.concat([ar_df, accuracies], ignore_index=True).reset_index(drop=True)"
   ],
   "metadata": {
    "collapsed": false,
    "pycharm": {
     "name": "#%%\n"
    }
   }
  },
  {
   "cell_type": "code",
   "execution_count": 667,
   "outputs": [
    {
     "name": "stdout",
     "output_type": "stream",
     "text": [
      "95.01718213058419 69.45454545454547\n",
      "94.49742268041236 58.18181818181819\n"
     ]
    }
   ],
   "source": [
    "label = 'Grade'\n",
    "test_name = 'AllData_Future_AllGradesAllStats'\n",
    "cols = ['Week2_Quiz1', 'Week3_MP1', 'Week3_PR1', 'Week5_MP2', 'Week5_PR2', 'Week4_Quiz2',\n",
    "        'Week1_Stat0', 'Week1_Stat2', 'Week1_Stat3',\n",
    "        'Week2_Stat0', 'Week2_Stat1', 'Week2_Stat2', 'Week2_Stat3',\n",
    "        'Week3_Stat0', 'Week3_Stat1', 'Week3_Stat2', 'Week3_Stat3',\n",
    "        'Week4_Stat0', 'Week4_Stat1', 'Week4_Stat2', 'Week4_Stat3',\n",
    "        'Week5_Stat0', 'Week5_Stat1', 'Week5_Stat2', 'Week5_Stat3',\n",
    "        ]\n",
    "method1 = RandomForestClassifier(random_state=1, max_features=10, min_samples_split=5, max_depth=4)\n",
    "method2 = svm.SVC(random_state=1, kernel='linear')\n",
    "accuracies = predict_loop(df, kf, cols, label, test_name, method1=method1, method2=method2)\n",
    "print(accuracies['tr_a1'].mean(), accuracies['val_a1'].mean())\n",
    "print(accuracies['tr_a2'].mean(), accuracies['val_a2'].mean())\n",
    "ar_df = pd.concat([ar_df, accuracies], ignore_index=True).reset_index(drop=True)"
   ],
   "metadata": {
    "collapsed": false,
    "pycharm": {
     "name": "#%%\n"
    }
   }
  },
  {
   "cell_type": "code",
   "execution_count": 668,
   "outputs": [
    {
     "name": "stdout",
     "output_type": "stream",
     "text": [
      "85.35545532646049 72.81818181818183\n",
      "79.44265463917526 71.0909090909091\n"
     ]
    }
   ],
   "source": [
    "label = 'Grade'\n",
    "cols = ['Week3_GradeTotal', 'Week5_GradeTotal',\n",
    "        'Week1_StatTotal', 'Week2_StatTotal', 'Week3_StatTotal',\n",
    "        'Week4_StatTotal', 'Week5_StatTotal',\n",
    "        ]\n",
    "test_name = 'AllData_Future_GradeTotalStatTotal'\n",
    "method1 = RandomForestClassifier(random_state=1, max_features=7, min_samples_split=5, max_depth=3)\n",
    "method2 = svm.SVC(random_state=1, kernel='linear')\n",
    "accuracies = predict_loop(df, kf, cols, label, test_name, method1=method1, method2=method2)\n",
    "print(accuracies['tr_a1'].mean(), accuracies['val_a1'].mean())\n",
    "print(accuracies['tr_a2'].mean(), accuracies['val_a2'].mean())\n",
    "ar_df = pd.concat([ar_df, accuracies], ignore_index=True).reset_index(drop=True)"
   ],
   "metadata": {
    "collapsed": false,
    "pycharm": {
     "name": "#%%\n"
    }
   }
  },
  {
   "cell_type": "markdown",
   "source": [
    "# Same but with DF 2"
   ],
   "metadata": {
    "collapsed": false,
    "pycharm": {
     "name": "#%% md\n"
    }
   }
  },
  {
   "cell_type": "code",
   "execution_count": 669,
   "outputs": [
    {
     "name": "stdout",
     "output_type": "stream",
     "text": [
      "100.0 98.57142857142858\n",
      "96.40376984126985 97.14285714285714\n"
     ]
    }
   ],
   "source": [
    "label = 'Grade'\n",
    "test_name = 'LessData_AllGrade_Week8'\n",
    "cols = ['Week8_Total']\n",
    "accuracies = predict_loop(df2, kf, cols, label, test_name)\n",
    "print(accuracies['tr_a1'].mean(), accuracies['val_a1'].mean())\n",
    "print(accuracies['tr_a2'].mean(), accuracies['val_a2'].mean())\n",
    "ar_df = pd.concat([ar_df, accuracies], ignore_index=True).reset_index(drop=True)"
   ],
   "metadata": {
    "collapsed": false,
    "pycharm": {
     "name": "#%%\n"
    }
   }
  },
  {
   "cell_type": "code",
   "execution_count": 670,
   "outputs": [
    {
     "name": "stdout",
     "output_type": "stream",
     "text": [
      "100.0 73.03571428571429\n",
      "90.6125992063492 87.32142857142857\n"
     ]
    }
   ],
   "source": [
    "label = 'Grade'\n",
    "test_name = 'LessData_AllGrade_AllRaw'\n",
    "cols = q_cols + mp_cols + pr_cols\n",
    "accuracies = predict_loop(df2, kf, cols, label, test_name)\n",
    "print(accuracies['tr_a1'].mean(), accuracies['val_a1'].mean())\n",
    "print(accuracies['tr_a2'].mean(), accuracies['val_a2'].mean())\n",
    "ar_df = pd.concat([ar_df, accuracies], ignore_index=True).reset_index(drop=True)"
   ],
   "metadata": {
    "collapsed": false,
    "pycharm": {
     "name": "#%%\n"
    }
   }
  },
  {
   "cell_type": "code",
   "execution_count": 671,
   "outputs": [
    {
     "name": "stdout",
     "output_type": "stream",
     "text": [
      "97.8125 81.96428571428571\n",
      "90.76636904761905 88.75000000000001\n"
     ]
    }
   ],
   "source": [
    "label = 'Grade'\n",
    "test_name = 'LessData_AllGrade_GradeTotalOnly'\n",
    "cols = ['Week3_GradeTotal', 'Week5_GradeTotal', 'Week7_GradeTotal']\n",
    "method1 = RandomForestClassifier(random_state=1, max_features=2, min_samples_split=5, max_depth=5)\n",
    "method2 = None\n",
    "accuracies = predict_loop(df2, kf, cols, label, test_name, method1=method1, method2=method2)\n",
    "print(accuracies['tr_a1'].mean(), accuracies['val_a1'].mean())\n",
    "print(accuracies['tr_a2'].mean(), accuracies['val_a2'].mean())\n",
    "ar_df = pd.concat([ar_df, accuracies], ignore_index=True).reset_index(drop=True)"
   ],
   "metadata": {
    "collapsed": false,
    "pycharm": {
     "name": "#%%\n"
    }
   }
  },
  {
   "cell_type": "code",
   "execution_count": 672,
   "outputs": [
    {
     "name": "stdout",
     "output_type": "stream",
     "text": [
      "73.23412698412699 63.39285714285713\n",
      "55.875496031746025 53.92857142857142\n"
     ]
    }
   ],
   "source": [
    "label = 'Grade'\n",
    "test_name = 'LessDataFuture_GradeTotal'\n",
    "cols = ['Week3_GradeTotal', 'Week5_GradeTotal']\n",
    "method1 = RandomForestClassifier(random_state=1, max_features=2, min_samples_split=5, max_depth=3)\n",
    "method2 = None\n",
    "accuracies = predict_loop(df2, kf, cols, label, test_name, method1=method1, method2=method2)\n",
    "print(accuracies['tr_a1'].mean(), accuracies['val_a1'].mean())\n",
    "print(accuracies['tr_a2'].mean(), accuracies['val_a2'].mean())\n",
    "ar_df = pd.concat([ar_df, accuracies], ignore_index=True).reset_index(drop=True)"
   ],
   "metadata": {
    "collapsed": false,
    "pycharm": {
     "name": "#%%\n"
    }
   }
  },
  {
   "cell_type": "code",
   "execution_count": 673,
   "outputs": [
    {
     "name": "stdout",
     "output_type": "stream",
     "text": [
      "76.68402777777779 61.96428571428571\n",
      "72.13541666666666 61.78571428571428\n"
     ]
    }
   ],
   "source": [
    "label = 'Grade'\n",
    "test_name = 'LessData_Future_AllGrades'\n",
    "cols = ['Week2_Quiz1', 'Week3_MP1', 'Week3_PR1', 'Week5_MP2', 'Week5_PR2', 'Week4_Quiz2']\n",
    "method1 = RandomForestClassifier(random_state=1, max_features=5, min_samples_split=5, max_depth=3)\n",
    "method2 = None\n",
    "accuracies = predict_loop(df2, kf, cols, label, test_name, method1=method1, method2=method2)\n",
    "print(accuracies['tr_a1'].mean(), accuracies['val_a1'].mean())\n",
    "print(accuracies['tr_a2'].mean(), accuracies['val_a2'].mean())\n",
    "ar_df = pd.concat([ar_df, accuracies], ignore_index=True).reset_index(drop=True)"
   ],
   "metadata": {
    "collapsed": false,
    "pycharm": {
     "name": "#%%\n"
    }
   }
  },
  {
   "cell_type": "code",
   "execution_count": 674,
   "outputs": [
    {
     "name": "stdout",
     "output_type": "stream",
     "text": [
      "92.80257936507937 54.82142857142857\n",
      "93.26636904761905 40.89285714285714\n"
     ]
    }
   ],
   "source": [
    "label = 'Grade'\n",
    "test_name = 'LessData_Future_AllGradesAllStats'\n",
    "cols = ['Week2_Quiz1', 'Week3_MP1', 'Week3_PR1', 'Week5_MP2', 'Week5_PR2', 'Week4_Quiz2',\n",
    "        'Week1_Stat0', 'Week1_Stat2', 'Week1_Stat3',\n",
    "        'Week2_Stat0', 'Week2_Stat1', 'Week2_Stat2', 'Week2_Stat3',\n",
    "        'Week3_Stat0', 'Week3_Stat1', 'Week3_Stat2', 'Week3_Stat3',\n",
    "        'Week4_Stat0', 'Week4_Stat1', 'Week4_Stat2', 'Week4_Stat3',\n",
    "        'Week5_Stat0', 'Week5_Stat1', 'Week5_Stat2', 'Week5_Stat3',\n",
    "        ]\n",
    "method1 = RandomForestClassifier(random_state=1, max_features=10, min_samples_split=5, max_depth=4)\n",
    "method2 = svm.SVC(random_state=1, kernel='linear')\n",
    "accuracies = predict_loop(df2, kf, cols, label, test_name, method1=method1, method2=method2)\n",
    "print(accuracies['tr_a1'].mean(), accuracies['val_a1'].mean())\n",
    "print(accuracies['tr_a2'].mean(), accuracies['val_a2'].mean())\n",
    "ar_df = pd.concat([ar_df, accuracies], ignore_index=True).reset_index(drop=True)"
   ],
   "metadata": {
    "collapsed": false,
    "pycharm": {
     "name": "#%%\n"
    }
   }
  },
  {
   "cell_type": "code",
   "execution_count": 675,
   "outputs": [
    {
     "name": "stdout",
     "output_type": "stream",
     "text": [
      "78.24652777777779 63.39285714285713\n",
      "72.60912698412699 56.607142857142854\n"
     ]
    }
   ],
   "source": [
    "label = 'Grade'\n",
    "cols = ['Week3_GradeTotal', 'Week5_GradeTotal',\n",
    "        'Week1_StatTotal', 'Week2_StatTotal', 'Week3_StatTotal',\n",
    "        'Week4_StatTotal', 'Week5_StatTotal',\n",
    "        ]\n",
    "test_name = 'LessData_Future_GradeTotalStatTotal'\n",
    "method1 = RandomForestClassifier(random_state=1, max_features=7, min_samples_split=5, max_depth=3)\n",
    "method2 = svm.SVC(random_state=1, kernel='linear')\n",
    "accuracies = predict_loop(df2, kf, cols, label, test_name, method1=method1, method2=method2)\n",
    "print(accuracies['tr_a1'].mean(), accuracies['val_a1'].mean())\n",
    "print(accuracies['tr_a2'].mean(), accuracies['val_a2'].mean())\n",
    "ar_df = pd.concat([ar_df, accuracies], ignore_index=True).reset_index(drop=True)"
   ],
   "metadata": {
    "collapsed": false,
    "pycharm": {
     "name": "#%%\n"
    }
   }
  },
  {
   "cell_type": "markdown",
   "source": [
    "# Analysing Result and plots"
   ],
   "metadata": {
    "collapsed": false,
    "pycharm": {
     "name": "#%% md\n"
    }
   }
  },
  {
   "cell_type": "code",
   "execution_count": 697,
   "outputs": [
    {
     "name": "stderr",
     "output_type": "stream",
     "text": [
      "/var/folders/8x/t_wy737j52gc95rxfbycpnh80000gn/T/ipykernel_14291/2916566084.py:2: FutureWarning: Indexing with multiple keys (implicitly converted to a tuple of keys) will be deprecated, use a list instead.\n",
      "  ar_df.groupby(['train_test_name'])['tr_a1', 'val_a1', 'tr_a2', 'val_a2'].mean()\n"
     ]
    },
    {
     "data": {
      "text/plain": "                                          tr_a1     val_a1      tr_a2  \\\ntrain_test_name                                                         \nAllData_AllGrade_AllRaw              100.000000  80.636364  93.664089   \nAllData_AllGrade_GradeTotalOnly       97.925258  84.090909  93.663015   \nAllData_AllGrade_Week8               100.000000  99.000000  93.040163   \nAllData_Future_AllGrades              84.112973  76.818182  79.028136   \nAllData_Future_AllGradesAllStats      95.017182  69.454545  94.497423   \nAllData_Future_GradeTotal             82.966065  74.727273  67.290593   \nAllData_Future_GradeTotalStatTotal    85.355455  72.818182  79.442655   \nLessDataFuture_GradeTotal             73.234127  63.392857  55.875496   \nLessData_AllGrade_AllRaw             100.000000  73.035714  90.612599   \nLessData_AllGrade_GradeTotalOnly      97.812500  81.964286  90.766369   \nLessData_AllGrade_Week8              100.000000  98.571429  96.403770   \nLessData_Future_AllGrades             76.684028  61.964286  72.135417   \nLessData_Future_AllGradesAllStats     92.802579  54.821429  93.266369   \nLessData_Future_GradeTotalStatTotal   78.246528  63.392857  72.609127   \n\n                                        val_a2  \ntrain_test_name                                 \nAllData_AllGrade_AllRaw              91.727273  \nAllData_AllGrade_GradeTotalOnly      93.454545  \nAllData_AllGrade_Week8               92.545455  \nAllData_Future_AllGrades             75.909091  \nAllData_Future_AllGradesAllStats     58.181818  \nAllData_Future_GradeTotal            66.454545  \nAllData_Future_GradeTotalStatTotal   71.090909  \nLessDataFuture_GradeTotal            53.928571  \nLessData_AllGrade_AllRaw             87.321429  \nLessData_AllGrade_GradeTotalOnly     88.750000  \nLessData_AllGrade_Week8              97.142857  \nLessData_Future_AllGrades            61.785714  \nLessData_Future_AllGradesAllStats    40.892857  \nLessData_Future_GradeTotalStatTotal  56.607143  ",
      "text/html": "<div>\n<style scoped>\n    .dataframe tbody tr th:only-of-type {\n        vertical-align: middle;\n    }\n\n    .dataframe tbody tr th {\n        vertical-align: top;\n    }\n\n    .dataframe thead th {\n        text-align: right;\n    }\n</style>\n<table border=\"1\" class=\"dataframe\">\n  <thead>\n    <tr style=\"text-align: right;\">\n      <th></th>\n      <th>tr_a1</th>\n      <th>val_a1</th>\n      <th>tr_a2</th>\n      <th>val_a2</th>\n    </tr>\n    <tr>\n      <th>train_test_name</th>\n      <th></th>\n      <th></th>\n      <th></th>\n      <th></th>\n    </tr>\n  </thead>\n  <tbody>\n    <tr>\n      <th>AllData_AllGrade_AllRaw</th>\n      <td>100.000000</td>\n      <td>80.636364</td>\n      <td>93.664089</td>\n      <td>91.727273</td>\n    </tr>\n    <tr>\n      <th>AllData_AllGrade_GradeTotalOnly</th>\n      <td>97.925258</td>\n      <td>84.090909</td>\n      <td>93.663015</td>\n      <td>93.454545</td>\n    </tr>\n    <tr>\n      <th>AllData_AllGrade_Week8</th>\n      <td>100.000000</td>\n      <td>99.000000</td>\n      <td>93.040163</td>\n      <td>92.545455</td>\n    </tr>\n    <tr>\n      <th>AllData_Future_AllGrades</th>\n      <td>84.112973</td>\n      <td>76.818182</td>\n      <td>79.028136</td>\n      <td>75.909091</td>\n    </tr>\n    <tr>\n      <th>AllData_Future_AllGradesAllStats</th>\n      <td>95.017182</td>\n      <td>69.454545</td>\n      <td>94.497423</td>\n      <td>58.181818</td>\n    </tr>\n    <tr>\n      <th>AllData_Future_GradeTotal</th>\n      <td>82.966065</td>\n      <td>74.727273</td>\n      <td>67.290593</td>\n      <td>66.454545</td>\n    </tr>\n    <tr>\n      <th>AllData_Future_GradeTotalStatTotal</th>\n      <td>85.355455</td>\n      <td>72.818182</td>\n      <td>79.442655</td>\n      <td>71.090909</td>\n    </tr>\n    <tr>\n      <th>LessDataFuture_GradeTotal</th>\n      <td>73.234127</td>\n      <td>63.392857</td>\n      <td>55.875496</td>\n      <td>53.928571</td>\n    </tr>\n    <tr>\n      <th>LessData_AllGrade_AllRaw</th>\n      <td>100.000000</td>\n      <td>73.035714</td>\n      <td>90.612599</td>\n      <td>87.321429</td>\n    </tr>\n    <tr>\n      <th>LessData_AllGrade_GradeTotalOnly</th>\n      <td>97.812500</td>\n      <td>81.964286</td>\n      <td>90.766369</td>\n      <td>88.750000</td>\n    </tr>\n    <tr>\n      <th>LessData_AllGrade_Week8</th>\n      <td>100.000000</td>\n      <td>98.571429</td>\n      <td>96.403770</td>\n      <td>97.142857</td>\n    </tr>\n    <tr>\n      <th>LessData_Future_AllGrades</th>\n      <td>76.684028</td>\n      <td>61.964286</td>\n      <td>72.135417</td>\n      <td>61.785714</td>\n    </tr>\n    <tr>\n      <th>LessData_Future_AllGradesAllStats</th>\n      <td>92.802579</td>\n      <td>54.821429</td>\n      <td>93.266369</td>\n      <td>40.892857</td>\n    </tr>\n    <tr>\n      <th>LessData_Future_GradeTotalStatTotal</th>\n      <td>78.246528</td>\n      <td>63.392857</td>\n      <td>72.609127</td>\n      <td>56.607143</td>\n    </tr>\n  </tbody>\n</table>\n</div>"
     },
     "execution_count": 697,
     "metadata": {},
     "output_type": "execute_result"
    }
   ],
   "source": [
    "# mean training and validation accuracy for each train_test_name\n",
    "ar_df.groupby(['train_test_name'])['tr_a1', 'val_a1', 'tr_a2', 'val_a2'].mean()\n",
    "# show the difference fake 0s make (roughly almost 30% of data was fake 0)\n",
    "\n"
   ],
   "metadata": {
    "collapsed": false,
    "pycharm": {
     "name": "#%%\n"
    }
   }
  },
  {
   "cell_type": "markdown",
   "source": [],
   "metadata": {
    "collapsed": false,
    "pycharm": {
     "name": "#%% md\n"
    }
   }
  },
  {
   "cell_type": "markdown",
   "source": [],
   "metadata": {
    "collapsed": false,
    "pycharm": {
     "name": "#%% md\n"
    }
   }
  },
  {
   "cell_type": "code",
   "execution_count": 714,
   "outputs": [
    {
     "data": {
      "text/plain": "                     train_test_name    tr_a1     val_a1     tr_a2     val_a2  \\\n90  LessData_AllGrade_GradeTotalOnly    100.0       62.5  90.47619       87.5   \n91  LessData_AllGrade_GradeTotalOnly   96.875  85.714286     93.75  71.428571   \n92  LessData_AllGrade_GradeTotalOnly    100.0  85.714286   89.0625      100.0   \n93  LessData_AllGrade_GradeTotalOnly   96.875  85.714286    90.625  85.714286   \n94  LessData_AllGrade_GradeTotalOnly    100.0  85.714286   89.0625      100.0   \n95  LessData_AllGrade_GradeTotalOnly  98.4375      100.0    90.625      100.0   \n96  LessData_AllGrade_GradeTotalOnly  95.3125  71.428571   92.1875  85.714286   \n97  LessData_AllGrade_GradeTotalOnly  95.3125  85.714286   89.0625  85.714286   \n98  LessData_AllGrade_GradeTotalOnly  95.3125  57.142857   92.1875  71.428571   \n99  LessData_AllGrade_GradeTotalOnly    100.0      100.0    90.625      100.0   \n\n   k_num                                         predictors  label method1  \\\n90     0  [Week3_GradeTotal, Week5_GradeTotal, Week7_Gra...  Grade  forest   \n91     1  [Week3_GradeTotal, Week5_GradeTotal, Week7_Gra...  Grade  forest   \n92     2  [Week3_GradeTotal, Week5_GradeTotal, Week7_Gra...  Grade  forest   \n93     3  [Week3_GradeTotal, Week5_GradeTotal, Week7_Gra...  Grade  forest   \n94     4  [Week3_GradeTotal, Week5_GradeTotal, Week7_Gra...  Grade  forest   \n95     5  [Week3_GradeTotal, Week5_GradeTotal, Week7_Gra...  Grade  forest   \n96     6  [Week3_GradeTotal, Week5_GradeTotal, Week7_Gra...  Grade  forest   \n97     7  [Week3_GradeTotal, Week5_GradeTotal, Week7_Gra...  Grade  forest   \n98     8  [Week3_GradeTotal, Week5_GradeTotal, Week7_Gra...  Grade  forest   \n99     9  [Week3_GradeTotal, Week5_GradeTotal, Week7_Gra...  Grade  forest   \n\n              method2                                             model1  \\\n90  svm_linear_kernel  (DecisionTreeClassifier(max_depth=5, max_featu...   \n91  svm_linear_kernel  (DecisionTreeClassifier(max_depth=5, max_featu...   \n92  svm_linear_kernel  (DecisionTreeClassifier(max_depth=5, max_featu...   \n93  svm_linear_kernel  (DecisionTreeClassifier(max_depth=5, max_featu...   \n94  svm_linear_kernel  (DecisionTreeClassifier(max_depth=5, max_featu...   \n95  svm_linear_kernel  (DecisionTreeClassifier(max_depth=5, max_featu...   \n96  svm_linear_kernel  (DecisionTreeClassifier(max_depth=5, max_featu...   \n97  svm_linear_kernel  (DecisionTreeClassifier(max_depth=5, max_featu...   \n98  svm_linear_kernel  (DecisionTreeClassifier(max_depth=5, max_featu...   \n99  svm_linear_kernel  (DecisionTreeClassifier(max_depth=5, max_featu...   \n\n                                               model2  \\\n90  SVC(class_weight='balanced', kernel='linear', ...   \n91  SVC(class_weight='balanced', kernel='linear', ...   \n92  SVC(class_weight='balanced', kernel='linear', ...   \n93  SVC(class_weight='balanced', kernel='linear', ...   \n94  SVC(class_weight='balanced', kernel='linear', ...   \n95  SVC(class_weight='balanced', kernel='linear', ...   \n96  SVC(class_weight='balanced', kernel='linear', ...   \n97  SVC(class_weight='balanced', kernel='linear', ...   \n98  SVC(class_weight='balanced', kernel='linear', ...   \n99  SVC(class_weight='balanced', kernel='linear', ...   \n\n             test_predicted1           test_predicted2  \\\n90  [4, 3, 4, 3, 3, 4, 3, 2]  [4, 4, 4, 3, 4, 4, 2, 0]   \n91     [5, 0, 3, 3, 4, 4, 4]     [5, 0, 3, 3, 4, 4, 5]   \n92     [2, 2, 5, 0, 0, 5, 5]     [2, 2, 5, 0, 0, 5, 4]   \n93     [4, 3, 5, 5, 4, 4, 0]     [4, 3, 5, 5, 4, 4, 0]   \n94     [4, 4, 3, 2, 4, 4, 5]     [4, 5, 3, 2, 4, 4, 5]   \n95     [4, 4, 0, 3, 0, 4, 0]     [4, 4, 0, 3, 0, 4, 0]   \n96     [3, 3, 4, 0, 3, 0, 4]     [3, 3, 5, 0, 3, 0, 4]   \n97     [0, 3, 5, 4, 3, 4, 4]     [0, 3, 5, 3, 3, 4, 3]   \n98     [4, 5, 4, 3, 4, 4, 3]     [4, 5, 4, 2, 4, 4, 3]   \n99     [0, 4, 5, 5, 5, 4, 4]     [0, 4, 5, 5, 5, 4, 4]   \n\n                                     train_predicted1  \\\n90  [4, 4, 3, 3, 2, 3, 5, 3, 0, 5, 5, 4, 5, 4, 4, ...   \n91  [4, 4, 4, 3, 2, 3, 5, 4, 3, 0, 5, 5, 4, 5, 4, ...   \n92  [4, 4, 3, 3, 3, 5, 4, 3, 0, 5, 5, 4, 5, 4, 4, ...   \n93  [4, 4, 2, 3, 5, 4, 3, 0, 4, 5, 4, 4, 0, 0, 0, ...   \n94  [4, 4, 3, 3, 2, 3, 5, 4, 3, 0, 5, 5, 4, 5, 4, ...   \n95  [4, 4, 3, 2, 3, 5, 4, 3, 0, 5, 5, 4, 5, 4, 0, ...   \n96  [4, 4, 4, 3, 2, 5, 4, 0, 5, 5, 4, 4, 4, 0, 0, ...   \n97  [4, 4, 4, 3, 2, 3, 5, 4, 3, 0, 5, 5, 4, 5, 4, ...   \n98  [4, 4, 3, 2, 3, 4, 3, 0, 5, 5, 5, 4, 4, 0, 0, ...   \n99  [4, 4, 3, 3, 2, 3, 5, 4, 3, 5, 5, 4, 5, 4, 4, ...   \n\n                                     train_predicted2  \\\n90  [4, 4, 3, 3, 2, 3, 5, 3, 0, 5, 5, 4, 5, 4, 3, ...   \n91  [4, 4, 3, 3, 2, 3, 5, 4, 3, 0, 5, 5, 4, 5, 4, ...   \n92  [4, 4, 4, 3, 3, 5, 4, 3, 0, 5, 5, 4, 5, 4, 4, ...   \n93  [4, 4, 2, 3, 5, 4, 3, 0, 4, 5, 5, 3, 0, 0, 0, ...   \n94  [4, 4, 4, 3, 2, 3, 5, 4, 3, 0, 5, 5, 4, 5, 4, ...   \n95  [4, 4, 3, 2, 3, 5, 4, 3, 0, 5, 5, 4, 5, 5, 0, ...   \n96  [4, 4, 3, 3, 2, 5, 4, 0, 5, 5, 4, 4, 3, 0, 0, ...   \n97  [4, 4, 3, 3, 2, 3, 5, 4, 3, 0, 5, 5, 4, 5, 4, ...   \n98  [4, 3, 3, 2, 3, 4, 3, 0, 5, 5, 5, 4, 3, 0, 0, ...   \n99  [4, 4, 3, 3, 2, 3, 5, 4, 3, 5, 5, 4, 5, 4, 3, ...   \n\n                                          train_index  \\\n90  [0, 1, 2, 3, 4, 5, 6, 8, 9, 10, 11, 12, 13, 14...   \n91  [0, 1, 2, 3, 4, 5, 6, 7, 8, 9, 10, 11, 12, 13,...   \n92  [0, 1, 2, 3, 5, 6, 7, 8, 9, 10, 11, 12, 13, 14...   \n93  [0, 1, 4, 5, 6, 7, 8, 9, 12, 13, 14, 15, 16, 1...   \n94  [0, 1, 2, 3, 4, 5, 6, 7, 8, 9, 10, 11, 12, 13,...   \n95  [1, 2, 3, 4, 5, 6, 7, 8, 9, 10, 11, 12, 13, 14...   \n96  [0, 1, 2, 3, 4, 6, 7, 9, 10, 11, 12, 14, 15, 1...   \n97  [0, 1, 2, 3, 4, 5, 6, 7, 8, 9, 10, 11, 12, 13,...   \n98  [0, 2, 3, 4, 5, 7, 8, 9, 10, 11, 13, 14, 15, 1...   \n99  [0, 1, 2, 3, 4, 5, 6, 7, 8, 10, 11, 12, 13, 14...   \n\n                         test_index  \n90  [7, 22, 26, 27, 30, 48, 51, 59]  \n91     [28, 31, 33, 34, 42, 56, 70]  \n92      [4, 43, 50, 55, 62, 65, 69]  \n93       [2, 3, 10, 11, 40, 45, 54]  \n94     [14, 32, 41, 49, 53, 57, 68]  \n95      [0, 15, 18, 19, 29, 35, 52]  \n96       [5, 8, 13, 16, 20, 25, 66]  \n97     [17, 37, 38, 39, 46, 60, 63]  \n98       [1, 6, 12, 23, 24, 58, 61]  \n99      [9, 21, 36, 44, 47, 64, 67]  ",
      "text/html": "<div>\n<style scoped>\n    .dataframe tbody tr th:only-of-type {\n        vertical-align: middle;\n    }\n\n    .dataframe tbody tr th {\n        vertical-align: top;\n    }\n\n    .dataframe thead th {\n        text-align: right;\n    }\n</style>\n<table border=\"1\" class=\"dataframe\">\n  <thead>\n    <tr style=\"text-align: right;\">\n      <th></th>\n      <th>train_test_name</th>\n      <th>tr_a1</th>\n      <th>val_a1</th>\n      <th>tr_a2</th>\n      <th>val_a2</th>\n      <th>k_num</th>\n      <th>predictors</th>\n      <th>label</th>\n      <th>method1</th>\n      <th>method2</th>\n      <th>model1</th>\n      <th>model2</th>\n      <th>test_predicted1</th>\n      <th>test_predicted2</th>\n      <th>train_predicted1</th>\n      <th>train_predicted2</th>\n      <th>train_index</th>\n      <th>test_index</th>\n    </tr>\n  </thead>\n  <tbody>\n    <tr>\n      <th>90</th>\n      <td>LessData_AllGrade_GradeTotalOnly</td>\n      <td>100.0</td>\n      <td>62.5</td>\n      <td>90.47619</td>\n      <td>87.5</td>\n      <td>0</td>\n      <td>[Week3_GradeTotal, Week5_GradeTotal, Week7_Gra...</td>\n      <td>Grade</td>\n      <td>forest</td>\n      <td>svm_linear_kernel</td>\n      <td>(DecisionTreeClassifier(max_depth=5, max_featu...</td>\n      <td>SVC(class_weight='balanced', kernel='linear', ...</td>\n      <td>[4, 3, 4, 3, 3, 4, 3, 2]</td>\n      <td>[4, 4, 4, 3, 4, 4, 2, 0]</td>\n      <td>[4, 4, 3, 3, 2, 3, 5, 3, 0, 5, 5, 4, 5, 4, 4, ...</td>\n      <td>[4, 4, 3, 3, 2, 3, 5, 3, 0, 5, 5, 4, 5, 4, 3, ...</td>\n      <td>[0, 1, 2, 3, 4, 5, 6, 8, 9, 10, 11, 12, 13, 14...</td>\n      <td>[7, 22, 26, 27, 30, 48, 51, 59]</td>\n    </tr>\n    <tr>\n      <th>91</th>\n      <td>LessData_AllGrade_GradeTotalOnly</td>\n      <td>96.875</td>\n      <td>85.714286</td>\n      <td>93.75</td>\n      <td>71.428571</td>\n      <td>1</td>\n      <td>[Week3_GradeTotal, Week5_GradeTotal, Week7_Gra...</td>\n      <td>Grade</td>\n      <td>forest</td>\n      <td>svm_linear_kernel</td>\n      <td>(DecisionTreeClassifier(max_depth=5, max_featu...</td>\n      <td>SVC(class_weight='balanced', kernel='linear', ...</td>\n      <td>[5, 0, 3, 3, 4, 4, 4]</td>\n      <td>[5, 0, 3, 3, 4, 4, 5]</td>\n      <td>[4, 4, 4, 3, 2, 3, 5, 4, 3, 0, 5, 5, 4, 5, 4, ...</td>\n      <td>[4, 4, 3, 3, 2, 3, 5, 4, 3, 0, 5, 5, 4, 5, 4, ...</td>\n      <td>[0, 1, 2, 3, 4, 5, 6, 7, 8, 9, 10, 11, 12, 13,...</td>\n      <td>[28, 31, 33, 34, 42, 56, 70]</td>\n    </tr>\n    <tr>\n      <th>92</th>\n      <td>LessData_AllGrade_GradeTotalOnly</td>\n      <td>100.0</td>\n      <td>85.714286</td>\n      <td>89.0625</td>\n      <td>100.0</td>\n      <td>2</td>\n      <td>[Week3_GradeTotal, Week5_GradeTotal, Week7_Gra...</td>\n      <td>Grade</td>\n      <td>forest</td>\n      <td>svm_linear_kernel</td>\n      <td>(DecisionTreeClassifier(max_depth=5, max_featu...</td>\n      <td>SVC(class_weight='balanced', kernel='linear', ...</td>\n      <td>[2, 2, 5, 0, 0, 5, 5]</td>\n      <td>[2, 2, 5, 0, 0, 5, 4]</td>\n      <td>[4, 4, 3, 3, 3, 5, 4, 3, 0, 5, 5, 4, 5, 4, 4, ...</td>\n      <td>[4, 4, 4, 3, 3, 5, 4, 3, 0, 5, 5, 4, 5, 4, 4, ...</td>\n      <td>[0, 1, 2, 3, 5, 6, 7, 8, 9, 10, 11, 12, 13, 14...</td>\n      <td>[4, 43, 50, 55, 62, 65, 69]</td>\n    </tr>\n    <tr>\n      <th>93</th>\n      <td>LessData_AllGrade_GradeTotalOnly</td>\n      <td>96.875</td>\n      <td>85.714286</td>\n      <td>90.625</td>\n      <td>85.714286</td>\n      <td>3</td>\n      <td>[Week3_GradeTotal, Week5_GradeTotal, Week7_Gra...</td>\n      <td>Grade</td>\n      <td>forest</td>\n      <td>svm_linear_kernel</td>\n      <td>(DecisionTreeClassifier(max_depth=5, max_featu...</td>\n      <td>SVC(class_weight='balanced', kernel='linear', ...</td>\n      <td>[4, 3, 5, 5, 4, 4, 0]</td>\n      <td>[4, 3, 5, 5, 4, 4, 0]</td>\n      <td>[4, 4, 2, 3, 5, 4, 3, 0, 4, 5, 4, 4, 0, 0, 0, ...</td>\n      <td>[4, 4, 2, 3, 5, 4, 3, 0, 4, 5, 5, 3, 0, 0, 0, ...</td>\n      <td>[0, 1, 4, 5, 6, 7, 8, 9, 12, 13, 14, 15, 16, 1...</td>\n      <td>[2, 3, 10, 11, 40, 45, 54]</td>\n    </tr>\n    <tr>\n      <th>94</th>\n      <td>LessData_AllGrade_GradeTotalOnly</td>\n      <td>100.0</td>\n      <td>85.714286</td>\n      <td>89.0625</td>\n      <td>100.0</td>\n      <td>4</td>\n      <td>[Week3_GradeTotal, Week5_GradeTotal, Week7_Gra...</td>\n      <td>Grade</td>\n      <td>forest</td>\n      <td>svm_linear_kernel</td>\n      <td>(DecisionTreeClassifier(max_depth=5, max_featu...</td>\n      <td>SVC(class_weight='balanced', kernel='linear', ...</td>\n      <td>[4, 4, 3, 2, 4, 4, 5]</td>\n      <td>[4, 5, 3, 2, 4, 4, 5]</td>\n      <td>[4, 4, 3, 3, 2, 3, 5, 4, 3, 0, 5, 5, 4, 5, 4, ...</td>\n      <td>[4, 4, 4, 3, 2, 3, 5, 4, 3, 0, 5, 5, 4, 5, 4, ...</td>\n      <td>[0, 1, 2, 3, 4, 5, 6, 7, 8, 9, 10, 11, 12, 13,...</td>\n      <td>[14, 32, 41, 49, 53, 57, 68]</td>\n    </tr>\n    <tr>\n      <th>95</th>\n      <td>LessData_AllGrade_GradeTotalOnly</td>\n      <td>98.4375</td>\n      <td>100.0</td>\n      <td>90.625</td>\n      <td>100.0</td>\n      <td>5</td>\n      <td>[Week3_GradeTotal, Week5_GradeTotal, Week7_Gra...</td>\n      <td>Grade</td>\n      <td>forest</td>\n      <td>svm_linear_kernel</td>\n      <td>(DecisionTreeClassifier(max_depth=5, max_featu...</td>\n      <td>SVC(class_weight='balanced', kernel='linear', ...</td>\n      <td>[4, 4, 0, 3, 0, 4, 0]</td>\n      <td>[4, 4, 0, 3, 0, 4, 0]</td>\n      <td>[4, 4, 3, 2, 3, 5, 4, 3, 0, 5, 5, 4, 5, 4, 0, ...</td>\n      <td>[4, 4, 3, 2, 3, 5, 4, 3, 0, 5, 5, 4, 5, 5, 0, ...</td>\n      <td>[1, 2, 3, 4, 5, 6, 7, 8, 9, 10, 11, 12, 13, 14...</td>\n      <td>[0, 15, 18, 19, 29, 35, 52]</td>\n    </tr>\n    <tr>\n      <th>96</th>\n      <td>LessData_AllGrade_GradeTotalOnly</td>\n      <td>95.3125</td>\n      <td>71.428571</td>\n      <td>92.1875</td>\n      <td>85.714286</td>\n      <td>6</td>\n      <td>[Week3_GradeTotal, Week5_GradeTotal, Week7_Gra...</td>\n      <td>Grade</td>\n      <td>forest</td>\n      <td>svm_linear_kernel</td>\n      <td>(DecisionTreeClassifier(max_depth=5, max_featu...</td>\n      <td>SVC(class_weight='balanced', kernel='linear', ...</td>\n      <td>[3, 3, 4, 0, 3, 0, 4]</td>\n      <td>[3, 3, 5, 0, 3, 0, 4]</td>\n      <td>[4, 4, 4, 3, 2, 5, 4, 0, 5, 5, 4, 4, 4, 0, 0, ...</td>\n      <td>[4, 4, 3, 3, 2, 5, 4, 0, 5, 5, 4, 4, 3, 0, 0, ...</td>\n      <td>[0, 1, 2, 3, 4, 6, 7, 9, 10, 11, 12, 14, 15, 1...</td>\n      <td>[5, 8, 13, 16, 20, 25, 66]</td>\n    </tr>\n    <tr>\n      <th>97</th>\n      <td>LessData_AllGrade_GradeTotalOnly</td>\n      <td>95.3125</td>\n      <td>85.714286</td>\n      <td>89.0625</td>\n      <td>85.714286</td>\n      <td>7</td>\n      <td>[Week3_GradeTotal, Week5_GradeTotal, Week7_Gra...</td>\n      <td>Grade</td>\n      <td>forest</td>\n      <td>svm_linear_kernel</td>\n      <td>(DecisionTreeClassifier(max_depth=5, max_featu...</td>\n      <td>SVC(class_weight='balanced', kernel='linear', ...</td>\n      <td>[0, 3, 5, 4, 3, 4, 4]</td>\n      <td>[0, 3, 5, 3, 3, 4, 3]</td>\n      <td>[4, 4, 4, 3, 2, 3, 5, 4, 3, 0, 5, 5, 4, 5, 4, ...</td>\n      <td>[4, 4, 3, 3, 2, 3, 5, 4, 3, 0, 5, 5, 4, 5, 4, ...</td>\n      <td>[0, 1, 2, 3, 4, 5, 6, 7, 8, 9, 10, 11, 12, 13,...</td>\n      <td>[17, 37, 38, 39, 46, 60, 63]</td>\n    </tr>\n    <tr>\n      <th>98</th>\n      <td>LessData_AllGrade_GradeTotalOnly</td>\n      <td>95.3125</td>\n      <td>57.142857</td>\n      <td>92.1875</td>\n      <td>71.428571</td>\n      <td>8</td>\n      <td>[Week3_GradeTotal, Week5_GradeTotal, Week7_Gra...</td>\n      <td>Grade</td>\n      <td>forest</td>\n      <td>svm_linear_kernel</td>\n      <td>(DecisionTreeClassifier(max_depth=5, max_featu...</td>\n      <td>SVC(class_weight='balanced', kernel='linear', ...</td>\n      <td>[4, 5, 4, 3, 4, 4, 3]</td>\n      <td>[4, 5, 4, 2, 4, 4, 3]</td>\n      <td>[4, 4, 3, 2, 3, 4, 3, 0, 5, 5, 5, 4, 4, 0, 0, ...</td>\n      <td>[4, 3, 3, 2, 3, 4, 3, 0, 5, 5, 5, 4, 3, 0, 0, ...</td>\n      <td>[0, 2, 3, 4, 5, 7, 8, 9, 10, 11, 13, 14, 15, 1...</td>\n      <td>[1, 6, 12, 23, 24, 58, 61]</td>\n    </tr>\n    <tr>\n      <th>99</th>\n      <td>LessData_AllGrade_GradeTotalOnly</td>\n      <td>100.0</td>\n      <td>100.0</td>\n      <td>90.625</td>\n      <td>100.0</td>\n      <td>9</td>\n      <td>[Week3_GradeTotal, Week5_GradeTotal, Week7_Gra...</td>\n      <td>Grade</td>\n      <td>forest</td>\n      <td>svm_linear_kernel</td>\n      <td>(DecisionTreeClassifier(max_depth=5, max_featu...</td>\n      <td>SVC(class_weight='balanced', kernel='linear', ...</td>\n      <td>[0, 4, 5, 5, 5, 4, 4]</td>\n      <td>[0, 4, 5, 5, 5, 4, 4]</td>\n      <td>[4, 4, 3, 3, 2, 3, 5, 4, 3, 5, 5, 4, 5, 4, 4, ...</td>\n      <td>[4, 4, 3, 3, 2, 3, 5, 4, 3, 5, 5, 4, 5, 4, 3, ...</td>\n      <td>[0, 1, 2, 3, 4, 5, 6, 7, 8, 10, 11, 12, 13, 14...</td>\n      <td>[9, 21, 36, 44, 47, 64, 67]</td>\n    </tr>\n  </tbody>\n</table>\n</div>"
     },
     "execution_count": 714,
     "metadata": {},
     "output_type": "execute_result"
    }
   ],
   "source": [
    "accuracies = ar_df[ar_df['train_test_name'] == 'LessData_AllGrade_GradeTotalOnly']\n",
    "accuracies"
   ],
   "metadata": {
    "collapsed": false,
    "pycharm": {
     "name": "#%%\n"
    }
   }
  },
  {
   "cell_type": "code",
   "execution_count": 719,
   "outputs": [
    {
     "name": "stdout",
     "output_type": "stream",
     "text": [
      "[[ -5.69804521   3.80173512]\n",
      " [ -5.83754429   3.0319133 ]\n",
      " [ -5.68311101  -1.33118352]\n",
      " [ -7.95765806  -8.10194675]\n",
      " [  2.87673063   1.94761062]\n",
      " [  1.5117864    5.3459273 ]\n",
      " [-18.05408726  -1.8108239 ]\n",
      " [-10.44209269  -3.82988091]\n",
      " [ -4.84754125  -1.97789371]\n",
      " [ 39.96043263  -4.91935622]\n",
      " [-15.70353119  -0.90682235]\n",
      " [-15.27260567  -4.74943806]\n",
      " [-13.30169716  -4.74715053]\n",
      " [-13.07037663   0.87224156]\n",
      " [-10.87024481   0.57695875]\n",
      " [ -5.41281796   2.11402307]\n",
      " [ 39.41820344  -3.9559151 ]\n",
      " [ 26.41544159   7.50696614]\n",
      " [ 39.96043263  -4.91935622]\n",
      " [ -5.73886991  -2.21357999]\n",
      " [ -7.2993172   -3.49498613]\n",
      " [ -8.8016535    0.75554193]\n",
      " [ -3.20494327   8.58213008]\n",
      " [ 10.70207349  12.2008656 ]\n",
      " [ -4.49483442   3.23252197]\n",
      " [ 24.47158038   9.39346067]\n",
      " [ -5.83014478   4.21222074]\n",
      " [  0.49067063   0.74299571]\n",
      " [-16.97113787  -3.63157737]\n",
      " [ 40.49941493  -5.87702824]\n",
      " [ -5.20101934   5.52319887]\n",
      " [ 37.99244242  -2.83325014]\n",
      " [-13.30444841  -4.0275332 ]\n",
      " [ -6.51632843  -3.28194364]\n",
      " [  1.1391426    8.3609727 ]\n",
      " [ -9.31870368   3.51200685]\n",
      " [-13.87451087   1.19110736]\n",
      " [  2.35048728  10.18532148]\n",
      " [-13.24230523  -1.14894158]\n",
      " [ -6.88420939  -1.00296926]\n",
      " [ -8.01643021   2.69579396]\n",
      " [ -1.71360891  -1.93916481]\n",
      " [-11.52157462 -10.038161  ]\n",
      " [  6.43943833   4.09608976]\n",
      " [-14.44434921  -3.48063794]\n",
      " [ -6.97517635   6.04961948]\n",
      " [ -0.25757389  -3.11737844]\n",
      " [-17.49620962  -2.62025244]\n",
      " [ -8.44863547  -2.44971849]\n",
      " [  3.68360296   4.3586311 ]\n",
      " [-15.08262709  -2.62686889]\n",
      " [  1.76862436  -4.49212115]\n",
      " [ 39.96043263  -4.91935622]\n",
      " [ -9.20945418  -0.11445912]\n",
      " [ 37.67396137  -2.12630322]\n",
      " [ 39.96043263  -4.91935622]\n",
      " [ -5.87195509   1.36932412]\n",
      " [-10.62593113   1.28302226]\n",
      " [ -5.10210807   2.19741389]\n",
      " [ 28.82270037   9.8954481 ]\n",
      " [-12.27593153  -6.12774324]\n",
      " [ -1.37993821   0.05757366]\n",
      " [ 39.68769459  -4.43475111]\n",
      " [ -5.67831904  -0.69539073]\n",
      " [ -6.31823888   1.62484022]\n",
      " [-17.05938962  -3.29295331]\n",
      " [ -8.37134101   2.50582988]\n",
      " [ -6.0622277    0.84974937]\n",
      " [-17.66264403  -1.65660038]\n",
      " [-12.11062929  -2.85974011]\n",
      " [-11.26765361   0.59947805]]\n"
     ]
    },
    {
     "data": {
      "text/plain": "         var1      var2  Grade\n0   -5.698045  3.801735    4.0\n1   -5.837544  3.031913    4.0\n2   -5.683111 -1.331184    3.0\n3   -7.957658 -8.101947    3.0\n4    2.876731  1.947611    2.0\n..        ...       ...    ...\n66  -8.371341  2.505830    4.0\n67  -6.062228  0.849749    3.0\n68 -17.662644 -1.656600    0.0\n69 -12.110629 -2.859740    3.0\n70 -11.267654  0.599478    4.0\n\n[71 rows x 3 columns]",
      "text/html": "<div>\n<style scoped>\n    .dataframe tbody tr th:only-of-type {\n        vertical-align: middle;\n    }\n\n    .dataframe tbody tr th {\n        vertical-align: top;\n    }\n\n    .dataframe thead th {\n        text-align: right;\n    }\n</style>\n<table border=\"1\" class=\"dataframe\">\n  <thead>\n    <tr style=\"text-align: right;\">\n      <th></th>\n      <th>var1</th>\n      <th>var2</th>\n      <th>Grade</th>\n    </tr>\n  </thead>\n  <tbody>\n    <tr>\n      <th>0</th>\n      <td>-5.698045</td>\n      <td>3.801735</td>\n      <td>4.0</td>\n    </tr>\n    <tr>\n      <th>1</th>\n      <td>-5.837544</td>\n      <td>3.031913</td>\n      <td>4.0</td>\n    </tr>\n    <tr>\n      <th>2</th>\n      <td>-5.683111</td>\n      <td>-1.331184</td>\n      <td>3.0</td>\n    </tr>\n    <tr>\n      <th>3</th>\n      <td>-7.957658</td>\n      <td>-8.101947</td>\n      <td>3.0</td>\n    </tr>\n    <tr>\n      <th>4</th>\n      <td>2.876731</td>\n      <td>1.947611</td>\n      <td>2.0</td>\n    </tr>\n    <tr>\n      <th>...</th>\n      <td>...</td>\n      <td>...</td>\n      <td>...</td>\n    </tr>\n    <tr>\n      <th>66</th>\n      <td>-8.371341</td>\n      <td>2.505830</td>\n      <td>4.0</td>\n    </tr>\n    <tr>\n      <th>67</th>\n      <td>-6.062228</td>\n      <td>0.849749</td>\n      <td>3.0</td>\n    </tr>\n    <tr>\n      <th>68</th>\n      <td>-17.662644</td>\n      <td>-1.656600</td>\n      <td>0.0</td>\n    </tr>\n    <tr>\n      <th>69</th>\n      <td>-12.110629</td>\n      <td>-2.859740</td>\n      <td>3.0</td>\n    </tr>\n    <tr>\n      <th>70</th>\n      <td>-11.267654</td>\n      <td>0.599478</td>\n      <td>4.0</td>\n    </tr>\n  </tbody>\n</table>\n<p>71 rows × 3 columns</p>\n</div>"
     },
     "metadata": {},
     "output_type": "display_data"
    },
    {
     "data": {
      "text/plain": "0     4\n1     4\n2     3\n3     3\n4     2\n     ..\n72    4\n73    4\n74    5\n75    4\n76    4\nName: Grade, Length: 71, dtype: int64"
     },
     "metadata": {},
     "output_type": "display_data"
    },
    {
     "data": {
      "text/plain": "<Figure size 576x864 with 2 Axes>",
      "image/png": "[encoded data removed]"
     },
     "metadata": {},
     "output_type": "display_data"
    },
    {
     "data": {
      "text/plain": "<Figure size 1080x864 with 6 Axes>",
      "image/png": "[encoded data removed]"
     },
     "metadata": {},
     "output_type": "display_data"
    }
   ],
   "source": [
    "index = 2\n",
    "selected_row = accuracies.iloc[index]\n",
    "plot_result_with_pca(df2, selected_row['predictors'], label, accuracies, k_index=index)\n",
    "# plot_cm_from_result_df(df2, accuracies)\n",
    "# plot_feature_importance(accuracies, index, 'LessData_AllGrade_GradeTotalOnly', 'LessData_AllGrade_GradeTotalOnly')"
   ],
   "metadata": {
    "collapsed": false,
    "pycharm": {
     "name": "#%%\n"
    }
   }
  },
  {
   "cell_type": "code",
   "execution_count": null,
   "outputs": [],
   "source": [],
   "metadata": {
    "collapsed": false,
    "pycharm": {
     "name": "#%%\n"
    }
   }
  }
 ],
 "metadata": {
  "kernelspec": {
   "name": ".env",
   "language": "python",
   "display_name": "ds"
  },
  "language_info": {
   "codemirror_mode": {
    "name": "ipython",
    "version": 2
   },
   "file_extension": ".py",
   "mimetype": "text/x-python",
   "name": "python",
   "nbconvert_exporter": "python",
   "pygments_lexer": "ipython2",
   "version": "2.7.6"
  }
 },
 "nbformat": 4,
 "nbformat_minor": 0
}